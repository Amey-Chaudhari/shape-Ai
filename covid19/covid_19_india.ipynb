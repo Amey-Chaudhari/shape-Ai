{
  "nbformat": 4,
  "nbformat_minor": 0,
  "metadata": {
    "kernelspec": {
      "language": "python",
      "display_name": "Python 3",
      "name": "python3"
    },
    "language_info": {
      "name": "python",
      "version": "3.7.10",
      "mimetype": "text/x-python",
      "codemirror_mode": {
        "name": "ipython",
        "version": 3
      },
      "pygments_lexer": "ipython3",
      "nbconvert_exporter": "python",
      "file_extension": ".py"
    },
    "colab": {
      "name": "covid-19-india.ipynb",
      "provenance": []
    }
  },
  "cells": [
    {
      "cell_type": "code",
      "metadata": {
        "_uuid": "8f2839f25d086af736a60e9eeb907d3b93b6e0e5",
        "_cell_guid": "b1076dfc-b9ad-4769-8c92-a6c4dae69d19",
        "execution": {
          "iopub.status.busy": "2021-09-20T11:28:48.781005Z",
          "iopub.execute_input": "2021-09-20T11:28:48.781507Z",
          "iopub.status.idle": "2021-09-20T11:28:48.813740Z",
          "shell.execute_reply.started": "2021-09-20T11:28:48.781421Z",
          "shell.execute_reply": "2021-09-20T11:28:48.812757Z"
        },
        "trusted": true,
        "id": "U8b7TqFngOZA"
      },
      "source": [
        "import numpy as np \n",
        "import pandas as pd "
      ],
      "execution_count": 81,
      "outputs": []
    },
    {
      "cell_type": "code",
      "metadata": {
        "execution": {
          "iopub.status.busy": "2021-09-20T11:28:48.815343Z",
          "iopub.execute_input": "2021-09-20T11:28:48.815584Z",
          "iopub.status.idle": "2021-09-20T11:28:51.287801Z",
          "shell.execute_reply.started": "2021-09-20T11:28:48.815555Z",
          "shell.execute_reply": "2021-09-20T11:28:51.287033Z"
        },
        "trusted": true,
        "id": "pa2xKdkWgOZC"
      },
      "source": [
        "import warnings\n",
        "warnings.filterwarnings('ignore')\n",
        "import pandas as pd\n",
        "import numpy as np\n",
        "import seaborn as sns\n",
        "import plotly.express as px\n",
        "import matplotlib.pyplot as plt\n",
        "%matplotlib inline"
      ],
      "execution_count": 82,
      "outputs": []
    },
    {
      "cell_type": "code",
      "metadata": {
        "colab": {
          "base_uri": "https://localhost:8080/"
        },
        "id": "_fdgSf_0hRd8",
        "outputId": "0c676f41-b3cf-4d6a-a43a-f9305efed2c0"
      },
      "source": [
        "from google.colab import drive\n",
        "drive.mount('/content/drive')"
      ],
      "execution_count": 83,
      "outputs": [
        {
          "output_type": "stream",
          "name": "stdout",
          "text": [
            "Drive already mounted at /content/drive; to attempt to forcibly remount, call drive.mount(\"/content/drive\", force_remount=True).\n"
          ]
        }
      ]
    },
    {
      "cell_type": "code",
      "metadata": {
        "execution": {
          "iopub.status.busy": "2021-09-20T11:28:51.289001Z",
          "iopub.execute_input": "2021-09-20T11:28:51.289241Z",
          "iopub.status.idle": "2021-09-20T11:28:51.332085Z",
          "shell.execute_reply.started": "2021-09-20T11:28:51.289213Z",
          "shell.execute_reply": "2021-09-20T11:28:51.329932Z"
        },
        "trusted": true,
        "colab": {
          "base_uri": "https://localhost:8080/",
          "height": 1000
        },
        "id": "CuGHiQY5gOZD",
        "outputId": "c9deffcb-86b7-4178-b26f-17f54cf36eb0"
      },
      "source": [
        "main_df = pd.read_csv(\"/content/drive/MyDrive/youtube_dataset/Latest Covid-19 India Status.csv\")\n",
        "df = main_df.copy()\n",
        "df"
      ],
      "execution_count": 84,
      "outputs": [
        {
          "output_type": "execute_result",
          "data": {
            "text/html": [
              "<div>\n",
              "<style scoped>\n",
              "    .dataframe tbody tr th:only-of-type {\n",
              "        vertical-align: middle;\n",
              "    }\n",
              "\n",
              "    .dataframe tbody tr th {\n",
              "        vertical-align: top;\n",
              "    }\n",
              "\n",
              "    .dataframe thead th {\n",
              "        text-align: right;\n",
              "    }\n",
              "</style>\n",
              "<table border=\"1\" class=\"dataframe\">\n",
              "  <thead>\n",
              "    <tr style=\"text-align: right;\">\n",
              "      <th></th>\n",
              "      <th>State/UTs</th>\n",
              "      <th>Total Cases</th>\n",
              "      <th>Active</th>\n",
              "      <th>Discharged</th>\n",
              "      <th>Deaths</th>\n",
              "      <th>Active Ratio (%)</th>\n",
              "      <th>Discharge Ratio (%)</th>\n",
              "      <th>Death Ratio (%)</th>\n",
              "    </tr>\n",
              "  </thead>\n",
              "  <tbody>\n",
              "    <tr>\n",
              "      <th>0</th>\n",
              "      <td>Andaman and Nicobar</td>\n",
              "      <td>7584</td>\n",
              "      <td>8</td>\n",
              "      <td>7447</td>\n",
              "      <td>129</td>\n",
              "      <td>0.11</td>\n",
              "      <td>98.19</td>\n",
              "      <td>1.70</td>\n",
              "    </tr>\n",
              "    <tr>\n",
              "      <th>1</th>\n",
              "      <td>Andhra Pradesh</td>\n",
              "      <td>2030849</td>\n",
              "      <td>14652</td>\n",
              "      <td>2002187</td>\n",
              "      <td>14010</td>\n",
              "      <td>0.72</td>\n",
              "      <td>98.59</td>\n",
              "      <td>0.69</td>\n",
              "    </tr>\n",
              "    <tr>\n",
              "      <th>2</th>\n",
              "      <td>Arunachal Pradesh</td>\n",
              "      <td>53807</td>\n",
              "      <td>533</td>\n",
              "      <td>53004</td>\n",
              "      <td>270</td>\n",
              "      <td>0.99</td>\n",
              "      <td>98.51</td>\n",
              "      <td>0.50</td>\n",
              "    </tr>\n",
              "    <tr>\n",
              "      <th>3</th>\n",
              "      <td>Assam</td>\n",
              "      <td>595669</td>\n",
              "      <td>5615</td>\n",
              "      <td>584296</td>\n",
              "      <td>5758</td>\n",
              "      <td>0.94</td>\n",
              "      <td>98.09</td>\n",
              "      <td>0.97</td>\n",
              "    </tr>\n",
              "    <tr>\n",
              "      <th>4</th>\n",
              "      <td>Bihar</td>\n",
              "      <td>725833</td>\n",
              "      <td>77</td>\n",
              "      <td>716098</td>\n",
              "      <td>9658</td>\n",
              "      <td>0.01</td>\n",
              "      <td>98.66</td>\n",
              "      <td>1.33</td>\n",
              "    </tr>\n",
              "    <tr>\n",
              "      <th>5</th>\n",
              "      <td>Chandigarh</td>\n",
              "      <td>65160</td>\n",
              "      <td>32</td>\n",
              "      <td>64311</td>\n",
              "      <td>817</td>\n",
              "      <td>0.05</td>\n",
              "      <td>98.70</td>\n",
              "      <td>1.25</td>\n",
              "    </tr>\n",
              "    <tr>\n",
              "      <th>6</th>\n",
              "      <td>Chhattisgarh</td>\n",
              "      <td>1004902</td>\n",
              "      <td>376</td>\n",
              "      <td>990968</td>\n",
              "      <td>13558</td>\n",
              "      <td>0.04</td>\n",
              "      <td>98.61</td>\n",
              "      <td>1.35</td>\n",
              "    </tr>\n",
              "    <tr>\n",
              "      <th>7</th>\n",
              "      <td>Dadra and Nagar Haveli and Daman and Diu</td>\n",
              "      <td>10670</td>\n",
              "      <td>5</td>\n",
              "      <td>10661</td>\n",
              "      <td>4</td>\n",
              "      <td>0.05</td>\n",
              "      <td>99.92</td>\n",
              "      <td>0.04</td>\n",
              "    </tr>\n",
              "    <tr>\n",
              "      <th>8</th>\n",
              "      <td>Delhi</td>\n",
              "      <td>1438250</td>\n",
              "      <td>377</td>\n",
              "      <td>1412790</td>\n",
              "      <td>25083</td>\n",
              "      <td>0.03</td>\n",
              "      <td>98.23</td>\n",
              "      <td>1.74</td>\n",
              "    </tr>\n",
              "    <tr>\n",
              "      <th>9</th>\n",
              "      <td>Goa</td>\n",
              "      <td>174891</td>\n",
              "      <td>702</td>\n",
              "      <td>170972</td>\n",
              "      <td>3217</td>\n",
              "      <td>0.40</td>\n",
              "      <td>97.76</td>\n",
              "      <td>1.84</td>\n",
              "    </tr>\n",
              "    <tr>\n",
              "      <th>10</th>\n",
              "      <td>Gujarat</td>\n",
              "      <td>825629</td>\n",
              "      <td>161</td>\n",
              "      <td>815386</td>\n",
              "      <td>10082</td>\n",
              "      <td>0.02</td>\n",
              "      <td>98.76</td>\n",
              "      <td>1.22</td>\n",
              "    </tr>\n",
              "    <tr>\n",
              "      <th>11</th>\n",
              "      <td>Haryana</td>\n",
              "      <td>770659</td>\n",
              "      <td>351</td>\n",
              "      <td>760501</td>\n",
              "      <td>9807</td>\n",
              "      <td>0.05</td>\n",
              "      <td>98.68</td>\n",
              "      <td>1.27</td>\n",
              "    </tr>\n",
              "    <tr>\n",
              "      <th>12</th>\n",
              "      <td>Himachal Pradesh</td>\n",
              "      <td>215893</td>\n",
              "      <td>1521</td>\n",
              "      <td>210733</td>\n",
              "      <td>3639</td>\n",
              "      <td>0.70</td>\n",
              "      <td>97.61</td>\n",
              "      <td>1.69</td>\n",
              "    </tr>\n",
              "    <tr>\n",
              "      <th>13</th>\n",
              "      <td>Jammu and Kashmir</td>\n",
              "      <td>326990</td>\n",
              "      <td>1247</td>\n",
              "      <td>321329</td>\n",
              "      <td>4414</td>\n",
              "      <td>0.38</td>\n",
              "      <td>98.27</td>\n",
              "      <td>1.35</td>\n",
              "    </tr>\n",
              "    <tr>\n",
              "      <th>14</th>\n",
              "      <td>Jharkhand</td>\n",
              "      <td>348079</td>\n",
              "      <td>117</td>\n",
              "      <td>342829</td>\n",
              "      <td>5133</td>\n",
              "      <td>0.03</td>\n",
              "      <td>98.49</td>\n",
              "      <td>1.47</td>\n",
              "    </tr>\n",
              "    <tr>\n",
              "      <th>15</th>\n",
              "      <td>Karnataka</td>\n",
              "      <td>2962408</td>\n",
              "      <td>16269</td>\n",
              "      <td>2908622</td>\n",
              "      <td>37517</td>\n",
              "      <td>0.55</td>\n",
              "      <td>98.18</td>\n",
              "      <td>1.27</td>\n",
              "    </tr>\n",
              "    <tr>\n",
              "      <th>16</th>\n",
              "      <td>Kerala</td>\n",
              "      <td>4390489</td>\n",
              "      <td>209335</td>\n",
              "      <td>4158504</td>\n",
              "      <td>22650</td>\n",
              "      <td>4.77</td>\n",
              "      <td>94.72</td>\n",
              "      <td>0.52</td>\n",
              "    </tr>\n",
              "    <tr>\n",
              "      <th>17</th>\n",
              "      <td>Ladakh</td>\n",
              "      <td>20608</td>\n",
              "      <td>30</td>\n",
              "      <td>20371</td>\n",
              "      <td>207</td>\n",
              "      <td>0.15</td>\n",
              "      <td>98.85</td>\n",
              "      <td>1.00</td>\n",
              "    </tr>\n",
              "    <tr>\n",
              "      <th>18</th>\n",
              "      <td>Lakshadweep</td>\n",
              "      <td>10353</td>\n",
              "      <td>5</td>\n",
              "      <td>10297</td>\n",
              "      <td>51</td>\n",
              "      <td>0.05</td>\n",
              "      <td>99.46</td>\n",
              "      <td>0.49</td>\n",
              "    </tr>\n",
              "    <tr>\n",
              "      <th>19</th>\n",
              "      <td>Madhya Pradesh</td>\n",
              "      <td>792353</td>\n",
              "      <td>131</td>\n",
              "      <td>781705</td>\n",
              "      <td>10517</td>\n",
              "      <td>0.02</td>\n",
              "      <td>98.66</td>\n",
              "      <td>1.33</td>\n",
              "    </tr>\n",
              "    <tr>\n",
              "      <th>20</th>\n",
              "      <td>Maharashtra</td>\n",
              "      <td>6500617</td>\n",
              "      <td>53427</td>\n",
              "      <td>6309021</td>\n",
              "      <td>138169</td>\n",
              "      <td>0.82</td>\n",
              "      <td>97.05</td>\n",
              "      <td>2.13</td>\n",
              "    </tr>\n",
              "    <tr>\n",
              "      <th>21</th>\n",
              "      <td>Manipur</td>\n",
              "      <td>117230</td>\n",
              "      <td>2617</td>\n",
              "      <td>112801</td>\n",
              "      <td>1812</td>\n",
              "      <td>2.23</td>\n",
              "      <td>96.22</td>\n",
              "      <td>1.55</td>\n",
              "    </tr>\n",
              "    <tr>\n",
              "      <th>22</th>\n",
              "      <td>Meghalaya</td>\n",
              "      <td>78359</td>\n",
              "      <td>1859</td>\n",
              "      <td>75141</td>\n",
              "      <td>1359</td>\n",
              "      <td>2.37</td>\n",
              "      <td>95.89</td>\n",
              "      <td>1.73</td>\n",
              "    </tr>\n",
              "    <tr>\n",
              "      <th>23</th>\n",
              "      <td>Mizoram</td>\n",
              "      <td>72883</td>\n",
              "      <td>13369</td>\n",
              "      <td>59273</td>\n",
              "      <td>241</td>\n",
              "      <td>18.34</td>\n",
              "      <td>81.33</td>\n",
              "      <td>0.33</td>\n",
              "    </tr>\n",
              "    <tr>\n",
              "      <th>24</th>\n",
              "      <td>Nagaland</td>\n",
              "      <td>30657</td>\n",
              "      <td>580</td>\n",
              "      <td>29432</td>\n",
              "      <td>645</td>\n",
              "      <td>1.89</td>\n",
              "      <td>96.00</td>\n",
              "      <td>2.10</td>\n",
              "    </tr>\n",
              "    <tr>\n",
              "      <th>25</th>\n",
              "      <td>Odisha</td>\n",
              "      <td>1016833</td>\n",
              "      <td>5919</td>\n",
              "      <td>1002810</td>\n",
              "      <td>8104</td>\n",
              "      <td>0.58</td>\n",
              "      <td>98.62</td>\n",
              "      <td>0.80</td>\n",
              "    </tr>\n",
              "    <tr>\n",
              "      <th>26</th>\n",
              "      <td>Puducherry</td>\n",
              "      <td>124836</td>\n",
              "      <td>860</td>\n",
              "      <td>122153</td>\n",
              "      <td>1823</td>\n",
              "      <td>0.69</td>\n",
              "      <td>97.85</td>\n",
              "      <td>1.46</td>\n",
              "    </tr>\n",
              "    <tr>\n",
              "      <th>27</th>\n",
              "      <td>Punjab</td>\n",
              "      <td>601072</td>\n",
              "      <td>309</td>\n",
              "      <td>584306</td>\n",
              "      <td>16457</td>\n",
              "      <td>0.05</td>\n",
              "      <td>97.21</td>\n",
              "      <td>2.74</td>\n",
              "    </tr>\n",
              "    <tr>\n",
              "      <th>28</th>\n",
              "      <td>Rajasthan</td>\n",
              "      <td>954198</td>\n",
              "      <td>90</td>\n",
              "      <td>945154</td>\n",
              "      <td>8954</td>\n",
              "      <td>0.01</td>\n",
              "      <td>99.05</td>\n",
              "      <td>0.94</td>\n",
              "    </tr>\n",
              "    <tr>\n",
              "      <th>29</th>\n",
              "      <td>Sikkim</td>\n",
              "      <td>30650</td>\n",
              "      <td>809</td>\n",
              "      <td>29464</td>\n",
              "      <td>377</td>\n",
              "      <td>2.64</td>\n",
              "      <td>96.13</td>\n",
              "      <td>1.23</td>\n",
              "    </tr>\n",
              "    <tr>\n",
              "      <th>30</th>\n",
              "      <td>Tamil Nadu</td>\n",
              "      <td>2635419</td>\n",
              "      <td>16522</td>\n",
              "      <td>2583707</td>\n",
              "      <td>35190</td>\n",
              "      <td>0.63</td>\n",
              "      <td>98.04</td>\n",
              "      <td>1.34</td>\n",
              "    </tr>\n",
              "    <tr>\n",
              "      <th>31</th>\n",
              "      <td>Telengana</td>\n",
              "      <td>661866</td>\n",
              "      <td>5253</td>\n",
              "      <td>652716</td>\n",
              "      <td>3897</td>\n",
              "      <td>0.79</td>\n",
              "      <td>98.62</td>\n",
              "      <td>0.59</td>\n",
              "    </tr>\n",
              "    <tr>\n",
              "      <th>32</th>\n",
              "      <td>Tripura</td>\n",
              "      <td>83672</td>\n",
              "      <td>485</td>\n",
              "      <td>82382</td>\n",
              "      <td>805</td>\n",
              "      <td>0.58</td>\n",
              "      <td>98.46</td>\n",
              "      <td>0.96</td>\n",
              "    </tr>\n",
              "    <tr>\n",
              "      <th>33</th>\n",
              "      <td>Uttar Pradesh</td>\n",
              "      <td>1709555</td>\n",
              "      <td>175</td>\n",
              "      <td>1686497</td>\n",
              "      <td>22883</td>\n",
              "      <td>0.01</td>\n",
              "      <td>98.65</td>\n",
              "      <td>1.34</td>\n",
              "    </tr>\n",
              "    <tr>\n",
              "      <th>34</th>\n",
              "      <td>Uttarakhand</td>\n",
              "      <td>343242</td>\n",
              "      <td>293</td>\n",
              "      <td>335560</td>\n",
              "      <td>7389</td>\n",
              "      <td>0.09</td>\n",
              "      <td>97.76</td>\n",
              "      <td>2.15</td>\n",
              "    </tr>\n",
              "    <tr>\n",
              "      <th>35</th>\n",
              "      <td>West Bengal</td>\n",
              "      <td>1557414</td>\n",
              "      <td>8096</td>\n",
              "      <td>1530731</td>\n",
              "      <td>18587</td>\n",
              "      <td>0.52</td>\n",
              "      <td>98.29</td>\n",
              "      <td>1.19</td>\n",
              "    </tr>\n",
              "  </tbody>\n",
              "</table>\n",
              "</div>"
            ],
            "text/plain": [
              "                                   State/UTs  ...  Death Ratio (%)\n",
              "0                        Andaman and Nicobar  ...             1.70\n",
              "1                             Andhra Pradesh  ...             0.69\n",
              "2                          Arunachal Pradesh  ...             0.50\n",
              "3                                      Assam  ...             0.97\n",
              "4                                      Bihar  ...             1.33\n",
              "5                                 Chandigarh  ...             1.25\n",
              "6                               Chhattisgarh  ...             1.35\n",
              "7   Dadra and Nagar Haveli and Daman and Diu  ...             0.04\n",
              "8                                      Delhi  ...             1.74\n",
              "9                                        Goa  ...             1.84\n",
              "10                                   Gujarat  ...             1.22\n",
              "11                                   Haryana  ...             1.27\n",
              "12                          Himachal Pradesh  ...             1.69\n",
              "13                         Jammu and Kashmir  ...             1.35\n",
              "14                                 Jharkhand  ...             1.47\n",
              "15                                 Karnataka  ...             1.27\n",
              "16                                    Kerala  ...             0.52\n",
              "17                                    Ladakh  ...             1.00\n",
              "18                               Lakshadweep  ...             0.49\n",
              "19                            Madhya Pradesh  ...             1.33\n",
              "20                               Maharashtra  ...             2.13\n",
              "21                                   Manipur  ...             1.55\n",
              "22                                 Meghalaya  ...             1.73\n",
              "23                                   Mizoram  ...             0.33\n",
              "24                                  Nagaland  ...             2.10\n",
              "25                                    Odisha  ...             0.80\n",
              "26                                Puducherry  ...             1.46\n",
              "27                                    Punjab  ...             2.74\n",
              "28                                 Rajasthan  ...             0.94\n",
              "29                                    Sikkim  ...             1.23\n",
              "30                                Tamil Nadu  ...             1.34\n",
              "31                                 Telengana  ...             0.59\n",
              "32                                   Tripura  ...             0.96\n",
              "33                             Uttar Pradesh  ...             1.34\n",
              "34                               Uttarakhand  ...             2.15\n",
              "35                               West Bengal  ...             1.19\n",
              "\n",
              "[36 rows x 8 columns]"
            ]
          },
          "metadata": {},
          "execution_count": 84
        }
      ]
    },
    {
      "cell_type": "code",
      "metadata": {
        "execution": {
          "iopub.status.busy": "2021-09-20T11:28:51.333766Z",
          "iopub.execute_input": "2021-09-20T11:28:51.334215Z",
          "iopub.status.idle": "2021-09-20T11:28:51.340400Z",
          "shell.execute_reply.started": "2021-09-20T11:28:51.334171Z",
          "shell.execute_reply": "2021-09-20T11:28:51.339842Z"
        },
        "trusted": true,
        "colab": {
          "base_uri": "https://localhost:8080/"
        },
        "id": "CcaW4G2TgOZE",
        "outputId": "11c44049-86de-4b8f-e741-5afc99c55207"
      },
      "source": [
        "# Shape of the dataset\n",
        "df.shape"
      ],
      "execution_count": 85,
      "outputs": [
        {
          "output_type": "execute_result",
          "data": {
            "text/plain": [
              "(36, 8)"
            ]
          },
          "metadata": {},
          "execution_count": 85
        }
      ]
    },
    {
      "cell_type": "code",
      "metadata": {
        "execution": {
          "iopub.status.busy": "2021-09-20T11:28:51.341673Z",
          "iopub.execute_input": "2021-09-20T11:28:51.342267Z",
          "iopub.status.idle": "2021-09-20T11:28:51.351864Z",
          "shell.execute_reply.started": "2021-09-20T11:28:51.342232Z",
          "shell.execute_reply": "2021-09-20T11:28:51.350942Z"
        },
        "trusted": true,
        "colab": {
          "base_uri": "https://localhost:8080/"
        },
        "id": "KBsNozUugOZE",
        "outputId": "ed289c85-b7a0-44b0-8b21-f4a8550fe3c9"
      },
      "source": [
        "# Getting list of all columns present in the dataframe\n",
        "df.columns"
      ],
      "execution_count": 86,
      "outputs": [
        {
          "output_type": "execute_result",
          "data": {
            "text/plain": [
              "Index(['State/UTs', 'Total Cases', 'Active', 'Discharged', 'Deaths',\n",
              "       'Active Ratio (%)', 'Discharge Ratio (%)', 'Death Ratio (%)'],\n",
              "      dtype='object')"
            ]
          },
          "metadata": {},
          "execution_count": 86
        }
      ]
    },
    {
      "cell_type": "code",
      "metadata": {
        "execution": {
          "iopub.status.busy": "2021-09-20T11:28:51.353000Z",
          "iopub.execute_input": "2021-09-20T11:28:51.353758Z",
          "iopub.status.idle": "2021-09-20T11:28:51.373703Z",
          "shell.execute_reply.started": "2021-09-20T11:28:51.353724Z",
          "shell.execute_reply": "2021-09-20T11:28:51.372674Z"
        },
        "trusted": true,
        "colab": {
          "base_uri": "https://localhost:8080/"
        },
        "id": "5TH6ocdYgOZF",
        "outputId": "b4099675-20e0-44b7-965d-cfa40dc34f98"
      },
      "source": [
        "# Checking for the duplicated value\n",
        "\n",
        "df.duplicated().sum()"
      ],
      "execution_count": 87,
      "outputs": [
        {
          "output_type": "execute_result",
          "data": {
            "text/plain": [
              "0"
            ]
          },
          "metadata": {},
          "execution_count": 87
        }
      ]
    },
    {
      "cell_type": "code",
      "metadata": {
        "execution": {
          "iopub.status.busy": "2021-09-20T11:28:51.374886Z",
          "iopub.execute_input": "2021-09-20T11:28:51.375150Z",
          "iopub.status.idle": "2021-09-20T11:28:51.394066Z",
          "shell.execute_reply.started": "2021-09-20T11:28:51.375122Z",
          "shell.execute_reply": "2021-09-20T11:28:51.393364Z"
        },
        "trusted": true,
        "colab": {
          "base_uri": "https://localhost:8080/",
          "height": 295
        },
        "id": "bNggujYwgOZF",
        "outputId": "0e175ffd-151a-4708-dd1d-7ea8e5447194"
      },
      "source": [
        "# Replacing long name by short name\n",
        "\n",
        "df = df.replace('Dadra and Nagar Haveli and Daman and Diu', 'Daman and Diu')\n",
        "df.head(8)"
      ],
      "execution_count": 88,
      "outputs": [
        {
          "output_type": "execute_result",
          "data": {
            "text/html": [
              "<div>\n",
              "<style scoped>\n",
              "    .dataframe tbody tr th:only-of-type {\n",
              "        vertical-align: middle;\n",
              "    }\n",
              "\n",
              "    .dataframe tbody tr th {\n",
              "        vertical-align: top;\n",
              "    }\n",
              "\n",
              "    .dataframe thead th {\n",
              "        text-align: right;\n",
              "    }\n",
              "</style>\n",
              "<table border=\"1\" class=\"dataframe\">\n",
              "  <thead>\n",
              "    <tr style=\"text-align: right;\">\n",
              "      <th></th>\n",
              "      <th>State/UTs</th>\n",
              "      <th>Total Cases</th>\n",
              "      <th>Active</th>\n",
              "      <th>Discharged</th>\n",
              "      <th>Deaths</th>\n",
              "      <th>Active Ratio (%)</th>\n",
              "      <th>Discharge Ratio (%)</th>\n",
              "      <th>Death Ratio (%)</th>\n",
              "    </tr>\n",
              "  </thead>\n",
              "  <tbody>\n",
              "    <tr>\n",
              "      <th>0</th>\n",
              "      <td>Andaman and Nicobar</td>\n",
              "      <td>7584</td>\n",
              "      <td>8</td>\n",
              "      <td>7447</td>\n",
              "      <td>129</td>\n",
              "      <td>0.11</td>\n",
              "      <td>98.19</td>\n",
              "      <td>1.70</td>\n",
              "    </tr>\n",
              "    <tr>\n",
              "      <th>1</th>\n",
              "      <td>Andhra Pradesh</td>\n",
              "      <td>2030849</td>\n",
              "      <td>14652</td>\n",
              "      <td>2002187</td>\n",
              "      <td>14010</td>\n",
              "      <td>0.72</td>\n",
              "      <td>98.59</td>\n",
              "      <td>0.69</td>\n",
              "    </tr>\n",
              "    <tr>\n",
              "      <th>2</th>\n",
              "      <td>Arunachal Pradesh</td>\n",
              "      <td>53807</td>\n",
              "      <td>533</td>\n",
              "      <td>53004</td>\n",
              "      <td>270</td>\n",
              "      <td>0.99</td>\n",
              "      <td>98.51</td>\n",
              "      <td>0.50</td>\n",
              "    </tr>\n",
              "    <tr>\n",
              "      <th>3</th>\n",
              "      <td>Assam</td>\n",
              "      <td>595669</td>\n",
              "      <td>5615</td>\n",
              "      <td>584296</td>\n",
              "      <td>5758</td>\n",
              "      <td>0.94</td>\n",
              "      <td>98.09</td>\n",
              "      <td>0.97</td>\n",
              "    </tr>\n",
              "    <tr>\n",
              "      <th>4</th>\n",
              "      <td>Bihar</td>\n",
              "      <td>725833</td>\n",
              "      <td>77</td>\n",
              "      <td>716098</td>\n",
              "      <td>9658</td>\n",
              "      <td>0.01</td>\n",
              "      <td>98.66</td>\n",
              "      <td>1.33</td>\n",
              "    </tr>\n",
              "    <tr>\n",
              "      <th>5</th>\n",
              "      <td>Chandigarh</td>\n",
              "      <td>65160</td>\n",
              "      <td>32</td>\n",
              "      <td>64311</td>\n",
              "      <td>817</td>\n",
              "      <td>0.05</td>\n",
              "      <td>98.70</td>\n",
              "      <td>1.25</td>\n",
              "    </tr>\n",
              "    <tr>\n",
              "      <th>6</th>\n",
              "      <td>Chhattisgarh</td>\n",
              "      <td>1004902</td>\n",
              "      <td>376</td>\n",
              "      <td>990968</td>\n",
              "      <td>13558</td>\n",
              "      <td>0.04</td>\n",
              "      <td>98.61</td>\n",
              "      <td>1.35</td>\n",
              "    </tr>\n",
              "    <tr>\n",
              "      <th>7</th>\n",
              "      <td>Daman and Diu</td>\n",
              "      <td>10670</td>\n",
              "      <td>5</td>\n",
              "      <td>10661</td>\n",
              "      <td>4</td>\n",
              "      <td>0.05</td>\n",
              "      <td>99.92</td>\n",
              "      <td>0.04</td>\n",
              "    </tr>\n",
              "  </tbody>\n",
              "</table>\n",
              "</div>"
            ],
            "text/plain": [
              "             State/UTs  Total Cases  ...  Discharge Ratio (%)  Death Ratio (%)\n",
              "0  Andaman and Nicobar         7584  ...                98.19             1.70\n",
              "1       Andhra Pradesh      2030849  ...                98.59             0.69\n",
              "2    Arunachal Pradesh        53807  ...                98.51             0.50\n",
              "3                Assam       595669  ...                98.09             0.97\n",
              "4                Bihar       725833  ...                98.66             1.33\n",
              "5           Chandigarh        65160  ...                98.70             1.25\n",
              "6         Chhattisgarh      1004902  ...                98.61             1.35\n",
              "7        Daman and Diu        10670  ...                99.92             0.04\n",
              "\n",
              "[8 rows x 8 columns]"
            ]
          },
          "metadata": {},
          "execution_count": 88
        }
      ]
    },
    {
      "cell_type": "code",
      "metadata": {
        "execution": {
          "iopub.status.busy": "2021-09-20T11:28:51.394974Z",
          "iopub.execute_input": "2021-09-20T11:28:51.395688Z",
          "iopub.status.idle": "2021-09-20T11:28:51.418980Z",
          "shell.execute_reply.started": "2021-09-20T11:28:51.395648Z",
          "shell.execute_reply": "2021-09-20T11:28:51.418173Z"
        },
        "trusted": true,
        "colab": {
          "base_uri": "https://localhost:8080/"
        },
        "id": "4mFVjUjHgOZG",
        "outputId": "445d9a41-03e5-4466-fcb8-ea624d676054"
      },
      "source": [
        "# Information about dataset\n",
        "\n",
        "df.info()"
      ],
      "execution_count": 89,
      "outputs": [
        {
          "output_type": "stream",
          "name": "stdout",
          "text": [
            "<class 'pandas.core.frame.DataFrame'>\n",
            "RangeIndex: 36 entries, 0 to 35\n",
            "Data columns (total 8 columns):\n",
            " #   Column               Non-Null Count  Dtype  \n",
            "---  ------               --------------  -----  \n",
            " 0   State/UTs            36 non-null     object \n",
            " 1   Total Cases          36 non-null     int64  \n",
            " 2   Active               36 non-null     int64  \n",
            " 3   Discharged           36 non-null     int64  \n",
            " 4   Deaths               36 non-null     int64  \n",
            " 5   Active Ratio (%)     36 non-null     float64\n",
            " 6   Discharge Ratio (%)  36 non-null     float64\n",
            " 7   Death Ratio (%)      36 non-null     float64\n",
            "dtypes: float64(3), int64(4), object(1)\n",
            "memory usage: 2.4+ KB\n"
          ]
        }
      ]
    },
    {
      "cell_type": "code",
      "metadata": {
        "execution": {
          "iopub.status.busy": "2021-09-20T11:28:51.420028Z",
          "iopub.execute_input": "2021-09-20T11:28:51.420246Z",
          "iopub.status.idle": "2021-09-20T11:28:51.453733Z",
          "shell.execute_reply.started": "2021-09-20T11:28:51.420221Z",
          "shell.execute_reply": "2021-09-20T11:28:51.452948Z"
        },
        "trusted": true,
        "colab": {
          "base_uri": "https://localhost:8080/",
          "height": 295
        },
        "id": "26gMb4OigOZG",
        "outputId": "38089a23-d577-4631-c450-38ebe0616900"
      },
      "source": [
        "# Statistical measurement of the dataset\n",
        "\n",
        "df.describe()"
      ],
      "execution_count": 90,
      "outputs": [
        {
          "output_type": "execute_result",
          "data": {
            "text/html": [
              "<div>\n",
              "<style scoped>\n",
              "    .dataframe tbody tr th:only-of-type {\n",
              "        vertical-align: middle;\n",
              "    }\n",
              "\n",
              "    .dataframe tbody tr th {\n",
              "        vertical-align: top;\n",
              "    }\n",
              "\n",
              "    .dataframe thead th {\n",
              "        text-align: right;\n",
              "    }\n",
              "</style>\n",
              "<table border=\"1\" class=\"dataframe\">\n",
              "  <thead>\n",
              "    <tr style=\"text-align: right;\">\n",
              "      <th></th>\n",
              "      <th>Total Cases</th>\n",
              "      <th>Active</th>\n",
              "      <th>Discharged</th>\n",
              "      <th>Deaths</th>\n",
              "      <th>Active Ratio (%)</th>\n",
              "      <th>Discharge Ratio (%)</th>\n",
              "      <th>Death Ratio (%)</th>\n",
              "    </tr>\n",
              "  </thead>\n",
              "  <tbody>\n",
              "    <tr>\n",
              "      <th>count</th>\n",
              "      <td>3.600000e+01</td>\n",
              "      <td>36.000000</td>\n",
              "      <td>3.600000e+01</td>\n",
              "      <td>36.000000</td>\n",
              "      <td>36.000000</td>\n",
              "      <td>36.000000</td>\n",
              "      <td>36.000000</td>\n",
              "    </tr>\n",
              "    <tr>\n",
              "      <th>mean</th>\n",
              "      <td>9.247105e+05</td>\n",
              "      <td>10061.305556</td>\n",
              "      <td>9.023378e+05</td>\n",
              "      <td>12311.472222</td>\n",
              "      <td>1.175000</td>\n",
              "      <td>97.558611</td>\n",
              "      <td>1.266667</td>\n",
              "    </tr>\n",
              "    <tr>\n",
              "      <th>std</th>\n",
              "      <td>1.363114e+06</td>\n",
              "      <td>35512.447915</td>\n",
              "      <td>1.319414e+06</td>\n",
              "      <td>23708.098573</td>\n",
              "      <td>3.103863</td>\n",
              "      <td>2.983397</td>\n",
              "      <td>0.566321</td>\n",
              "    </tr>\n",
              "    <tr>\n",
              "      <th>min</th>\n",
              "      <td>7.584000e+03</td>\n",
              "      <td>5.000000</td>\n",
              "      <td>7.447000e+03</td>\n",
              "      <td>4.000000</td>\n",
              "      <td>0.010000</td>\n",
              "      <td>81.330000</td>\n",
              "      <td>0.040000</td>\n",
              "    </tr>\n",
              "    <tr>\n",
              "      <th>25%</th>\n",
              "      <td>7.699000e+04</td>\n",
              "      <td>153.500000</td>\n",
              "      <td>7.243350e+04</td>\n",
              "      <td>814.000000</td>\n",
              "      <td>0.050000</td>\n",
              "      <td>97.722500</td>\n",
              "      <td>0.955000</td>\n",
              "    </tr>\n",
              "    <tr>\n",
              "      <th>50%</th>\n",
              "      <td>4.718740e+05</td>\n",
              "      <td>556.500000</td>\n",
              "      <td>4.635625e+05</td>\n",
              "      <td>5445.500000</td>\n",
              "      <td>0.460000</td>\n",
              "      <td>98.280000</td>\n",
              "      <td>1.300000</td>\n",
              "    </tr>\n",
              "    <tr>\n",
              "      <th>75%</th>\n",
              "      <td>1.007885e+06</td>\n",
              "      <td>5343.500000</td>\n",
              "      <td>9.939285e+05</td>\n",
              "      <td>13671.000000</td>\n",
              "      <td>0.797500</td>\n",
              "      <td>98.652500</td>\n",
              "      <td>1.585000</td>\n",
              "    </tr>\n",
              "    <tr>\n",
              "      <th>max</th>\n",
              "      <td>6.500617e+06</td>\n",
              "      <td>209335.000000</td>\n",
              "      <td>6.309021e+06</td>\n",
              "      <td>138169.000000</td>\n",
              "      <td>18.340000</td>\n",
              "      <td>99.920000</td>\n",
              "      <td>2.740000</td>\n",
              "    </tr>\n",
              "  </tbody>\n",
              "</table>\n",
              "</div>"
            ],
            "text/plain": [
              "        Total Cases         Active  ...  Discharge Ratio (%)  Death Ratio (%)\n",
              "count  3.600000e+01      36.000000  ...            36.000000        36.000000\n",
              "mean   9.247105e+05   10061.305556  ...            97.558611         1.266667\n",
              "std    1.363114e+06   35512.447915  ...             2.983397         0.566321\n",
              "min    7.584000e+03       5.000000  ...            81.330000         0.040000\n",
              "25%    7.699000e+04     153.500000  ...            97.722500         0.955000\n",
              "50%    4.718740e+05     556.500000  ...            98.280000         1.300000\n",
              "75%    1.007885e+06    5343.500000  ...            98.652500         1.585000\n",
              "max    6.500617e+06  209335.000000  ...            99.920000         2.740000\n",
              "\n",
              "[8 rows x 7 columns]"
            ]
          },
          "metadata": {},
          "execution_count": 90
        }
      ]
    },
    {
      "cell_type": "code",
      "metadata": {
        "execution": {
          "iopub.status.busy": "2021-09-20T11:28:51.456996Z",
          "iopub.execute_input": "2021-09-20T11:28:51.457292Z",
          "iopub.status.idle": "2021-09-20T11:28:51.466444Z",
          "shell.execute_reply.started": "2021-09-20T11:28:51.457258Z",
          "shell.execute_reply": "2021-09-20T11:28:51.465441Z"
        },
        "trusted": true,
        "colab": {
          "base_uri": "https://localhost:8080/"
        },
        "id": "ZL7sxeO0gOZH",
        "outputId": "1c3a044e-9c51-4a6e-c458-77995ff4feb5"
      },
      "source": [
        "# Checking for any missing value\n",
        "\n",
        "df.isnull().sum()"
      ],
      "execution_count": 91,
      "outputs": [
        {
          "output_type": "execute_result",
          "data": {
            "text/plain": [
              "State/UTs              0\n",
              "Total Cases            0\n",
              "Active                 0\n",
              "Discharged             0\n",
              "Deaths                 0\n",
              "Active Ratio (%)       0\n",
              "Discharge Ratio (%)    0\n",
              "Death Ratio (%)        0\n",
              "dtype: int64"
            ]
          },
          "metadata": {},
          "execution_count": 91
        }
      ]
    },
    {
      "cell_type": "code",
      "metadata": {
        "execution": {
          "iopub.status.busy": "2021-09-20T11:28:51.467639Z",
          "iopub.execute_input": "2021-09-20T11:28:51.468240Z",
          "iopub.status.idle": "2021-09-20T11:28:51.889343Z",
          "shell.execute_reply.started": "2021-09-20T11:28:51.468195Z",
          "shell.execute_reply": "2021-09-20T11:28:51.888804Z"
        },
        "trusted": true,
        "colab": {
          "base_uri": "https://localhost:8080/",
          "height": 377
        },
        "id": "YU6TLkxigOZI",
        "outputId": "bbef5da8-72ca-487e-d062-878cb35afcac"
      },
      "source": [
        "# Visualization for missing value\n",
        "\n",
        "sns.heatmap(df.isnull())"
      ],
      "execution_count": 92,
      "outputs": [
        {
          "output_type": "execute_result",
          "data": {
            "text/plain": [
              "<matplotlib.axes._subplots.AxesSubplot at 0x7fc4fd53ce90>"
            ]
          },
          "metadata": {},
          "execution_count": 92
        },
        {
          "output_type": "display_data",
          "data": {
            "image/png": "[encoded data removed]",
            "text/plain": [
              "<Figure size 432x288 with 2 Axes>"
            ]
          },
          "metadata": {
            "needs_background": "light"
          }
        }
      ]
    },
    {
      "cell_type": "code",
      "metadata": {
        "execution": {
          "iopub.status.busy": "2021-09-20T11:28:51.890422Z",
          "iopub.execute_input": "2021-09-20T11:28:51.890763Z",
          "iopub.status.idle": "2021-09-20T11:28:51.905311Z",
          "shell.execute_reply.started": "2021-09-20T11:28:51.890728Z",
          "shell.execute_reply": "2021-09-20T11:28:51.904583Z"
        },
        "trusted": true,
        "colab": {
          "base_uri": "https://localhost:8080/",
          "height": 265
        },
        "id": "5Sewz4g3gOZI",
        "outputId": "77e166f0-38a2-4154-f6df-3a2d0e779f77"
      },
      "source": [
        "# Checking correlations within variables\n",
        "\n",
        "df.corr()"
      ],
      "execution_count": 93,
      "outputs": [
        {
          "output_type": "execute_result",
          "data": {
            "text/html": [
              "<div>\n",
              "<style scoped>\n",
              "    .dataframe tbody tr th:only-of-type {\n",
              "        vertical-align: middle;\n",
              "    }\n",
              "\n",
              "    .dataframe tbody tr th {\n",
              "        vertical-align: top;\n",
              "    }\n",
              "\n",
              "    .dataframe thead th {\n",
              "        text-align: right;\n",
              "    }\n",
              "</style>\n",
              "<table border=\"1\" class=\"dataframe\">\n",
              "  <thead>\n",
              "    <tr style=\"text-align: right;\">\n",
              "      <th></th>\n",
              "      <th>Total Cases</th>\n",
              "      <th>Active</th>\n",
              "      <th>Discharged</th>\n",
              "      <th>Deaths</th>\n",
              "      <th>Active Ratio (%)</th>\n",
              "      <th>Discharge Ratio (%)</th>\n",
              "      <th>Death Ratio (%)</th>\n",
              "    </tr>\n",
              "  </thead>\n",
              "  <tbody>\n",
              "    <tr>\n",
              "      <th>Total Cases</th>\n",
              "      <td>1.000000</td>\n",
              "      <td>0.639275</td>\n",
              "      <td>0.999875</td>\n",
              "      <td>0.892632</td>\n",
              "      <td>-0.019477</td>\n",
              "      <td>0.005099</td>\n",
              "      <td>0.082269</td>\n",
              "    </tr>\n",
              "    <tr>\n",
              "      <th>Active</th>\n",
              "      <td>0.639275</td>\n",
              "      <td>1.000000</td>\n",
              "      <td>0.627818</td>\n",
              "      <td>0.318091</td>\n",
              "      <td>0.239952</td>\n",
              "      <td>-0.212727</td>\n",
              "      <td>-0.191431</td>\n",
              "    </tr>\n",
              "    <tr>\n",
              "      <th>Discharged</th>\n",
              "      <td>0.999875</td>\n",
              "      <td>0.627818</td>\n",
              "      <td>1.000000</td>\n",
              "      <td>0.895666</td>\n",
              "      <td>-0.025199</td>\n",
              "      <td>0.010547</td>\n",
              "      <td>0.084912</td>\n",
              "    </tr>\n",
              "    <tr>\n",
              "      <th>Deaths</th>\n",
              "      <td>0.892632</td>\n",
              "      <td>0.318091</td>\n",
              "      <td>0.895666</td>\n",
              "      <td>1.000000</td>\n",
              "      <td>-0.076856</td>\n",
              "      <td>0.024859</td>\n",
              "      <td>0.291315</td>\n",
              "    </tr>\n",
              "    <tr>\n",
              "      <th>Active Ratio (%)</th>\n",
              "      <td>-0.019477</td>\n",
              "      <td>0.239952</td>\n",
              "      <td>-0.025199</td>\n",
              "      <td>-0.076856</td>\n",
              "      <td>1.000000</td>\n",
              "      <td>-0.983362</td>\n",
              "      <td>-0.300365</td>\n",
              "    </tr>\n",
              "    <tr>\n",
              "      <th>Discharge Ratio (%)</th>\n",
              "      <td>0.005099</td>\n",
              "      <td>-0.212727</td>\n",
              "      <td>0.010547</td>\n",
              "      <td>0.024859</td>\n",
              "      <td>-0.983362</td>\n",
              "      <td>1.000000</td>\n",
              "      <td>0.122105</td>\n",
              "    </tr>\n",
              "    <tr>\n",
              "      <th>Death Ratio (%)</th>\n",
              "      <td>0.082269</td>\n",
              "      <td>-0.191431</td>\n",
              "      <td>0.084912</td>\n",
              "      <td>0.291315</td>\n",
              "      <td>-0.300365</td>\n",
              "      <td>0.122105</td>\n",
              "      <td>1.000000</td>\n",
              "    </tr>\n",
              "  </tbody>\n",
              "</table>\n",
              "</div>"
            ],
            "text/plain": [
              "                     Total Cases  ...  Death Ratio (%)\n",
              "Total Cases             1.000000  ...         0.082269\n",
              "Active                  0.639275  ...        -0.191431\n",
              "Discharged              0.999875  ...         0.084912\n",
              "Deaths                  0.892632  ...         0.291315\n",
              "Active Ratio (%)       -0.019477  ...        -0.300365\n",
              "Discharge Ratio (%)     0.005099  ...         0.122105\n",
              "Death Ratio (%)         0.082269  ...         1.000000\n",
              "\n",
              "[7 rows x 7 columns]"
            ]
          },
          "metadata": {},
          "execution_count": 93
        }
      ]
    },
    {
      "cell_type": "code",
      "metadata": {
        "execution": {
          "iopub.status.busy": "2021-09-20T11:28:51.906367Z",
          "iopub.execute_input": "2021-09-20T11:28:51.906689Z",
          "iopub.status.idle": "2021-09-20T11:28:52.480340Z",
          "shell.execute_reply.started": "2021-09-20T11:28:51.906654Z",
          "shell.execute_reply": "2021-09-20T11:28:52.479334Z"
        },
        "trusted": true,
        "colab": {
          "base_uri": "https://localhost:8080/",
          "height": 377
        },
        "id": "CQHuu3DHgOZI",
        "outputId": "6a3ae97a-77b7-482c-801e-cbdc63fed70a"
      },
      "source": [
        "# Visualization of correlations within variables\n",
        "\n",
        "sns.heatmap(df.corr(), annot=True)"
      ],
      "execution_count": 94,
      "outputs": [
        {
          "output_type": "execute_result",
          "data": {
            "text/plain": [
              "<matplotlib.axes._subplots.AxesSubplot at 0x7fc4fd3c6750>"
            ]
          },
          "metadata": {},
          "execution_count": 94
        },
        {
          "output_type": "display_data",
          "data": {
            "image/png": "[encoded data removed]",
            "text/plain": [
              "<Figure size 432x288 with 2 Axes>"
            ]
          },
          "metadata": {
            "needs_background": "light"
          }
        }
      ]
    },
    {
      "cell_type": "code",
      "metadata": {
        "execution": {
          "iopub.status.busy": "2021-09-20T11:28:52.481408Z",
          "iopub.execute_input": "2021-09-20T11:28:52.481629Z",
          "iopub.status.idle": "2021-09-20T11:28:52.983242Z",
          "shell.execute_reply.started": "2021-09-20T11:28:52.481602Z",
          "shell.execute_reply": "2021-09-20T11:28:52.982643Z"
        },
        "trusted": true,
        "colab": {
          "base_uri": "https://localhost:8080/",
          "height": 624
        },
        "id": "1JYAABGcgOZJ",
        "outputId": "c540850e-2234-4335-96ee-8cb58e2ca9a0"
      },
      "source": [
        "# Barplot using seaborn\n",
        "\n",
        "plt.figure(figsize=(8, 10))\n",
        "sns.barplot(data = df, y=\"State/UTs\", x=\"Total Cases\")"
      ],
      "execution_count": 95,
      "outputs": [
        {
          "output_type": "execute_result",
          "data": {
            "text/plain": [
              "<matplotlib.axes._subplots.AxesSubplot at 0x7fc4fd50c790>"
            ]
          },
          "metadata": {},
          "execution_count": 95
        },
        {
          "output_type": "display_data",
          "data": {
            "image/png": "[encoded data removed]",
            "text/plain": [
              "<Figure size 576x720 with 1 Axes>"
            ]
          },
          "metadata": {
            "needs_background": "light"
          }
        }
      ]
    },
    {
      "cell_type": "code",
      "metadata": {
        "execution": {
          "iopub.status.busy": "2021-09-20T11:28:52.984229Z",
          "iopub.execute_input": "2021-09-20T11:28:52.984528Z",
          "iopub.status.idle": "2021-09-20T11:28:54.156398Z",
          "shell.execute_reply.started": "2021-09-20T11:28:52.984502Z",
          "shell.execute_reply": "2021-09-20T11:28:54.155433Z"
        },
        "trusted": true,
        "colab": {
          "base_uri": "https://localhost:8080/",
          "height": 542
        },
        "id": "2WKUEtcfgOZJ",
        "outputId": "314bf0fd-54e2-4685-9c78-c2da0a36b07a"
      },
      "source": [
        "px.bar(df, x=\"State/UTs\", y=\"Total Cases\", color=\"Death Ratio (%)\", title=\"Total Cases as per each State : \")"
      ],
      "execution_count": 96,
      "outputs": [
        {
          "output_type": "display_data",
          "data": {
            "text/html": [
              "<html>\n",
              "<head><meta charset=\"utf-8\" /></head>\n",
              "<body>\n",
              "    <div>\n",
              "            <script src=\"https://cdnjs.cloudflare.com/ajax/libs/mathjax/2.7.5/MathJax.js?config=TeX-AMS-MML_SVG\"></script><script type=\"text/javascript\">if (window.MathJax) {MathJax.Hub.Config({SVG: {font: \"STIX-Web\"}});}</script>\n",
              "                <script type=\"text/javascript\">window.PlotlyConfig = {MathJaxConfig: 'local'};</script>\n",
              "        <script src=\"https://cdn.plot.ly/plotly-latest.min.js\"></script>    \n",
              "            <div id=\"7add6b3f-fb59-4893-b786-0f6dd7b28889\" class=\"plotly-graph-div\" style=\"height:525px; width:100%;\"></div>\n",
              "            <script type=\"text/javascript\">\n",
              "                \n",
              "                    window.PLOTLYENV=window.PLOTLYENV || {};\n",
              "                    \n",
              "                if (document.getElementById(\"7add6b3f-fb59-4893-b786-0f6dd7b28889\")) {\n",
              "                    Plotly.newPlot(\n",
              "                        '7add6b3f-fb59-4893-b786-0f6dd7b28889',\n",
              "                        [{\"alignmentgroup\": \"True\", \"hoverlabel\": {\"namelength\": 0}, \"hovertemplate\": \"State/UTs=%{x}<br>Total Cases=%{y}<br>Death Ratio (%)=%{marker.color}\", \"legendgroup\": \"\", \"marker\": {\"color\": [1.7, 0.69, 0.5, 0.97, 1.33, 1.25, 1.35, 0.04, 1.74, 1.84, 1.22, 1.27, 1.69, 1.35, 1.47, 1.27, 0.52, 1.0, 0.49, 1.33, 2.13, 1.55, 1.73, 0.33, 2.1, 0.8, 1.46, 2.74, 0.94, 1.23, 1.34, 0.59, 0.96, 1.34, 2.15, 1.19], \"coloraxis\": \"coloraxis\"}, \"name\": \"\", \"offsetgroup\": \"\", \"orientation\": \"v\", \"showlegend\": false, \"textposition\": \"auto\", \"type\": \"bar\", \"x\": [\"Andaman and Nicobar\", \"Andhra Pradesh\", \"Arunachal Pradesh\", \"Assam\", \"Bihar\", \"Chandigarh\", \"Chhattisgarh\", \"Daman and Diu\", \"Delhi\", \"Goa\", \"Gujarat\", \"Haryana\", \"Himachal Pradesh\", \"Jammu and Kashmir\", \"Jharkhand\", \"Karnataka\", \"Kerala\", \"Ladakh\", \"Lakshadweep\", \"Madhya Pradesh\", \"Maharashtra\", \"Manipur\", \"Meghalaya\", \"Mizoram\", \"Nagaland\", \"Odisha\", \"Puducherry\", \"Punjab\", \"Rajasthan\", \"Sikkim\", \"Tamil Nadu\", \"Telengana\", \"Tripura\", \"Uttar Pradesh\", \"Uttarakhand\", \"West Bengal\"], \"xaxis\": \"x\", \"y\": [7584, 2030849, 53807, 595669, 725833, 65160, 1004902, 10670, 1438250, 174891, 825629, 770659, 215893, 326990, 348079, 2962408, 4390489, 20608, 10353, 792353, 6500617, 117230, 78359, 72883, 30657, 1016833, 124836, 601072, 954198, 30650, 2635419, 661866, 83672, 1709555, 343242, 1557414], \"yaxis\": \"y\"}],\n",
              "                        {\"barmode\": \"relative\", \"coloraxis\": {\"colorbar\": {\"title\": {\"text\": \"Death Ratio (%)\"}}, \"colorscale\": [[0.0, \"#0d0887\"], [0.1111111111111111, \"#46039f\"], [0.2222222222222222, \"#7201a8\"], [0.3333333333333333, \"#9c179e\"], [0.4444444444444444, \"#bd3786\"], [0.5555555555555556, \"#d8576b\"], [0.6666666666666666, \"#ed7953\"], [0.7777777777777778, \"#fb9f3a\"], [0.8888888888888888, \"#fdca26\"], [1.0, \"#f0f921\"]]}, \"legend\": {\"tracegroupgap\": 0}, \"template\": {\"data\": {\"bar\": [{\"error_x\": {\"color\": \"#2a3f5f\"}, \"error_y\": {\"color\": \"#2a3f5f\"}, \"marker\": {\"line\": {\"color\": \"#E5ECF6\", \"width\": 0.5}}, \"type\": \"bar\"}], \"barpolar\": [{\"marker\": {\"line\": {\"color\": \"#E5ECF6\", \"width\": 0.5}}, \"type\": \"barpolar\"}], \"carpet\": [{\"aaxis\": {\"endlinecolor\": \"#2a3f5f\", \"gridcolor\": \"white\", \"linecolor\": \"white\", \"minorgridcolor\": \"white\", \"startlinecolor\": \"#2a3f5f\"}, \"baxis\": {\"endlinecolor\": \"#2a3f5f\", \"gridcolor\": \"white\", \"linecolor\": \"white\", \"minorgridcolor\": \"white\", \"startlinecolor\": \"#2a3f5f\"}, \"type\": \"carpet\"}], \"choropleth\": [{\"colorbar\": {\"outlinewidth\": 0, \"ticks\": \"\"}, \"type\": \"choropleth\"}], \"contour\": [{\"colorbar\": {\"outlinewidth\": 0, \"ticks\": \"\"}, \"colorscale\": [[0.0, \"#0d0887\"], [0.1111111111111111, \"#46039f\"], [0.2222222222222222, \"#7201a8\"], [0.3333333333333333, \"#9c179e\"], [0.4444444444444444, \"#bd3786\"], [0.5555555555555556, \"#d8576b\"], [0.6666666666666666, \"#ed7953\"], [0.7777777777777778, \"#fb9f3a\"], [0.8888888888888888, \"#fdca26\"], [1.0, \"#f0f921\"]], \"type\": \"contour\"}], \"contourcarpet\": [{\"colorbar\": {\"outlinewidth\": 0, \"ticks\": \"\"}, \"type\": \"contourcarpet\"}], \"heatmap\": [{\"colorbar\": {\"outlinewidth\": 0, \"ticks\": \"\"}, \"colorscale\": [[0.0, \"#0d0887\"], [0.1111111111111111, \"#46039f\"], [0.2222222222222222, \"#7201a8\"], [0.3333333333333333, \"#9c179e\"], [0.4444444444444444, \"#bd3786\"], [0.5555555555555556, \"#d8576b\"], [0.6666666666666666, \"#ed7953\"], [0.7777777777777778, \"#fb9f3a\"], [0.8888888888888888, \"#fdca26\"], [1.0, \"#f0f921\"]], \"type\": \"heatmap\"}], \"heatmapgl\": [{\"colorbar\": {\"outlinewidth\": 0, \"ticks\": \"\"}, \"colorscale\": [[0.0, \"#0d0887\"], [0.1111111111111111, \"#46039f\"], [0.2222222222222222, \"#7201a8\"], [0.3333333333333333, \"#9c179e\"], [0.4444444444444444, \"#bd3786\"], [0.5555555555555556, \"#d8576b\"], [0.6666666666666666, \"#ed7953\"], [0.7777777777777778, \"#fb9f3a\"], [0.8888888888888888, \"#fdca26\"], [1.0, \"#f0f921\"]], \"type\": \"heatmapgl\"}], \"histogram\": [{\"marker\": {\"colorbar\": {\"outlinewidth\": 0, \"ticks\": \"\"}}, \"type\": \"histogram\"}], \"histogram2d\": [{\"colorbar\": {\"outlinewidth\": 0, \"ticks\": \"\"}, \"colorscale\": [[0.0, \"#0d0887\"], [0.1111111111111111, \"#46039f\"], [0.2222222222222222, \"#7201a8\"], [0.3333333333333333, \"#9c179e\"], [0.4444444444444444, \"#bd3786\"], [0.5555555555555556, \"#d8576b\"], [0.6666666666666666, \"#ed7953\"], [0.7777777777777778, \"#fb9f3a\"], [0.8888888888888888, \"#fdca26\"], [1.0, \"#f0f921\"]], \"type\": \"histogram2d\"}], \"histogram2dcontour\": [{\"colorbar\": {\"outlinewidth\": 0, \"ticks\": \"\"}, \"colorscale\": [[0.0, \"#0d0887\"], [0.1111111111111111, \"#46039f\"], [0.2222222222222222, \"#7201a8\"], [0.3333333333333333, \"#9c179e\"], [0.4444444444444444, \"#bd3786\"], [0.5555555555555556, \"#d8576b\"], [0.6666666666666666, \"#ed7953\"], [0.7777777777777778, \"#fb9f3a\"], [0.8888888888888888, \"#fdca26\"], [1.0, \"#f0f921\"]], \"type\": \"histogram2dcontour\"}], \"mesh3d\": [{\"colorbar\": {\"outlinewidth\": 0, \"ticks\": \"\"}, \"type\": \"mesh3d\"}], \"parcoords\": [{\"line\": {\"colorbar\": {\"outlinewidth\": 0, \"ticks\": \"\"}}, \"type\": \"parcoords\"}], \"pie\": [{\"automargin\": true, \"type\": \"pie\"}], \"scatter\": [{\"marker\": {\"colorbar\": {\"outlinewidth\": 0, \"ticks\": \"\"}}, \"type\": \"scatter\"}], \"scatter3d\": [{\"line\": {\"colorbar\": {\"outlinewidth\": 0, \"ticks\": \"\"}}, \"marker\": {\"colorbar\": {\"outlinewidth\": 0, \"ticks\": \"\"}}, \"type\": \"scatter3d\"}], \"scattercarpet\": [{\"marker\": {\"colorbar\": {\"outlinewidth\": 0, \"ticks\": \"\"}}, \"type\": \"scattercarpet\"}], \"scattergeo\": [{\"marker\": {\"colorbar\": {\"outlinewidth\": 0, \"ticks\": \"\"}}, \"type\": \"scattergeo\"}], \"scattergl\": [{\"marker\": {\"colorbar\": {\"outlinewidth\": 0, \"ticks\": \"\"}}, \"type\": \"scattergl\"}], \"scattermapbox\": [{\"marker\": {\"colorbar\": {\"outlinewidth\": 0, \"ticks\": \"\"}}, \"type\": \"scattermapbox\"}], \"scatterpolar\": [{\"marker\": {\"colorbar\": {\"outlinewidth\": 0, \"ticks\": \"\"}}, \"type\": \"scatterpolar\"}], \"scatterpolargl\": [{\"marker\": {\"colorbar\": {\"outlinewidth\": 0, \"ticks\": \"\"}}, \"type\": \"scatterpolargl\"}], \"scatterternary\": [{\"marker\": {\"colorbar\": {\"outlinewidth\": 0, \"ticks\": \"\"}}, \"type\": \"scatterternary\"}], \"surface\": [{\"colorbar\": {\"outlinewidth\": 0, \"ticks\": \"\"}, \"colorscale\": [[0.0, \"#0d0887\"], [0.1111111111111111, \"#46039f\"], [0.2222222222222222, \"#7201a8\"], [0.3333333333333333, \"#9c179e\"], [0.4444444444444444, \"#bd3786\"], [0.5555555555555556, \"#d8576b\"], [0.6666666666666666, \"#ed7953\"], [0.7777777777777778, \"#fb9f3a\"], [0.8888888888888888, \"#fdca26\"], [1.0, \"#f0f921\"]], \"type\": \"surface\"}], \"table\": [{\"cells\": {\"fill\": {\"color\": \"#EBF0F8\"}, \"line\": {\"color\": \"white\"}}, \"header\": {\"fill\": {\"color\": \"#C8D4E3\"}, \"line\": {\"color\": \"white\"}}, \"type\": \"table\"}]}, \"layout\": {\"annotationdefaults\": {\"arrowcolor\": \"#2a3f5f\", \"arrowhead\": 0, \"arrowwidth\": 1}, \"coloraxis\": {\"colorbar\": {\"outlinewidth\": 0, \"ticks\": \"\"}}, \"colorscale\": {\"diverging\": [[0, \"#8e0152\"], [0.1, \"#c51b7d\"], [0.2, \"#de77ae\"], [0.3, \"#f1b6da\"], [0.4, \"#fde0ef\"], [0.5, \"#f7f7f7\"], [0.6, \"#e6f5d0\"], [0.7, \"#b8e186\"], [0.8, \"#7fbc41\"], [0.9, \"#4d9221\"], [1, \"#276419\"]], \"sequential\": [[0.0, \"#0d0887\"], [0.1111111111111111, \"#46039f\"], [0.2222222222222222, \"#7201a8\"], [0.3333333333333333, \"#9c179e\"], [0.4444444444444444, \"#bd3786\"], [0.5555555555555556, \"#d8576b\"], [0.6666666666666666, \"#ed7953\"], [0.7777777777777778, \"#fb9f3a\"], [0.8888888888888888, \"#fdca26\"], [1.0, \"#f0f921\"]], \"sequentialminus\": [[0.0, \"#0d0887\"], [0.1111111111111111, \"#46039f\"], [0.2222222222222222, \"#7201a8\"], [0.3333333333333333, \"#9c179e\"], [0.4444444444444444, \"#bd3786\"], [0.5555555555555556, \"#d8576b\"], [0.6666666666666666, \"#ed7953\"], [0.7777777777777778, \"#fb9f3a\"], [0.8888888888888888, \"#fdca26\"], [1.0, \"#f0f921\"]]}, \"colorway\": [\"#636efa\", \"#EF553B\", \"#00cc96\", \"#ab63fa\", \"#FFA15A\", \"#19d3f3\", \"#FF6692\", \"#B6E880\", \"#FF97FF\", \"#FECB52\"], \"font\": {\"color\": \"#2a3f5f\"}, \"geo\": {\"bgcolor\": \"white\", \"lakecolor\": \"white\", \"landcolor\": \"#E5ECF6\", \"showlakes\": true, \"showland\": true, \"subunitcolor\": \"white\"}, \"hoverlabel\": {\"align\": \"left\"}, \"hovermode\": \"closest\", \"mapbox\": {\"style\": \"light\"}, \"paper_bgcolor\": \"white\", \"plot_bgcolor\": \"#E5ECF6\", \"polar\": {\"angularaxis\": {\"gridcolor\": \"white\", \"linecolor\": \"white\", \"ticks\": \"\"}, \"bgcolor\": \"#E5ECF6\", \"radialaxis\": {\"gridcolor\": \"white\", \"linecolor\": \"white\", \"ticks\": \"\"}}, \"scene\": {\"xaxis\": {\"backgroundcolor\": \"#E5ECF6\", \"gridcolor\": \"white\", \"gridwidth\": 2, \"linecolor\": \"white\", \"showbackground\": true, \"ticks\": \"\", \"zerolinecolor\": \"white\"}, \"yaxis\": {\"backgroundcolor\": \"#E5ECF6\", \"gridcolor\": \"white\", \"gridwidth\": 2, \"linecolor\": \"white\", \"showbackground\": true, \"ticks\": \"\", \"zerolinecolor\": \"white\"}, \"zaxis\": {\"backgroundcolor\": \"#E5ECF6\", \"gridcolor\": \"white\", \"gridwidth\": 2, \"linecolor\": \"white\", \"showbackground\": true, \"ticks\": \"\", \"zerolinecolor\": \"white\"}}, \"shapedefaults\": {\"line\": {\"color\": \"#2a3f5f\"}}, \"ternary\": {\"aaxis\": {\"gridcolor\": \"white\", \"linecolor\": \"white\", \"ticks\": \"\"}, \"baxis\": {\"gridcolor\": \"white\", \"linecolor\": \"white\", \"ticks\": \"\"}, \"bgcolor\": \"#E5ECF6\", \"caxis\": {\"gridcolor\": \"white\", \"linecolor\": \"white\", \"ticks\": \"\"}}, \"title\": {\"x\": 0.05}, \"xaxis\": {\"automargin\": true, \"gridcolor\": \"white\", \"linecolor\": \"white\", \"ticks\": \"\", \"title\": {\"standoff\": 15}, \"zerolinecolor\": \"white\", \"zerolinewidth\": 2}, \"yaxis\": {\"automargin\": true, \"gridcolor\": \"white\", \"linecolor\": \"white\", \"ticks\": \"\", \"title\": {\"standoff\": 15}, \"zerolinecolor\": \"white\", \"zerolinewidth\": 2}}}, \"title\": {\"text\": \"Total Cases as per each State : \"}, \"xaxis\": {\"anchor\": \"y\", \"domain\": [0.0, 1.0], \"title\": {\"text\": \"State/UTs\"}}, \"yaxis\": {\"anchor\": \"x\", \"domain\": [0.0, 1.0], \"title\": {\"text\": \"Total Cases\"}}},\n",
              "                        {\"responsive\": true}\n",
              "                    ).then(function(){\n",
              "                            \n",
              "var gd = document.getElementById('7add6b3f-fb59-4893-b786-0f6dd7b28889');\n",
              "var x = new MutationObserver(function (mutations, observer) {{\n",
              "        var display = window.getComputedStyle(gd).display;\n",
              "        if (!display || display === 'none') {{\n",
              "            console.log([gd, 'removed!']);\n",
              "            Plotly.purge(gd);\n",
              "            observer.disconnect();\n",
              "        }}\n",
              "}});\n",
              "\n",
              "// Listen for the removal of the full notebook cells\n",
              "var notebookContainer = gd.closest('#notebook-container');\n",
              "if (notebookContainer) {{\n",
              "    x.observe(notebookContainer, {childList: true});\n",
              "}}\n",
              "\n",
              "// Listen for the clearing of the current output cell\n",
              "var outputEl = gd.closest('.output');\n",
              "if (outputEl) {{\n",
              "    x.observe(outputEl, {childList: true});\n",
              "}}\n",
              "\n",
              "                        })\n",
              "                };\n",
              "                \n",
              "            </script>\n",
              "        </div>\n",
              "</body>\n",
              "</html>"
            ]
          },
          "metadata": {}
        }
      ]
    },
    {
      "cell_type": "code",
      "metadata": {
        "execution": {
          "iopub.status.busy": "2021-09-20T11:28:54.157635Z",
          "iopub.execute_input": "2021-09-20T11:28:54.158313Z",
          "iopub.status.idle": "2021-09-20T11:28:54.345206Z",
          "shell.execute_reply.started": "2021-09-20T11:28:54.158277Z",
          "shell.execute_reply": "2021-09-20T11:28:54.344480Z"
        },
        "trusted": true,
        "colab": {
          "base_uri": "https://localhost:8080/",
          "height": 542
        },
        "id": "_1y3P_c8gOZJ",
        "outputId": "ba77156b-5e15-4f05-eb6a-567bb99129d6"
      },
      "source": [
        "px.scatter(df, x='Active Ratio (%)',y='Death Ratio (%)', color=df['State/UTs'])"
      ],
      "execution_count": 97,
      "outputs": [
        {
          "output_type": "display_data",
          "data": {
            "text/html": [
              "<html>\n",
              "<head><meta charset=\"utf-8\" /></head>\n",
              "<body>\n",
              "    <div>\n",
              "            <script src=\"https://cdnjs.cloudflare.com/ajax/libs/mathjax/2.7.5/MathJax.js?config=TeX-AMS-MML_SVG\"></script><script type=\"text/javascript\">if (window.MathJax) {MathJax.Hub.Config({SVG: {font: \"STIX-Web\"}});}</script>\n",
              "                <script type=\"text/javascript\">window.PlotlyConfig = {MathJaxConfig: 'local'};</script>\n",
              "        <script src=\"https://cdn.plot.ly/plotly-latest.min.js\"></script>    \n",
              "            <div id=\"ca3eb76d-f164-4237-8f1d-0463554cbefe\" class=\"plotly-graph-div\" style=\"height:525px; width:100%;\"></div>\n",
              "            <script type=\"text/javascript\">\n",
              "                \n",
              "                    window.PLOTLYENV=window.PLOTLYENV || {};\n",
              "                    \n",
              "                if (document.getElementById(\"ca3eb76d-f164-4237-8f1d-0463554cbefe\")) {\n",
              "                    Plotly.newPlot(\n",
              "                        'ca3eb76d-f164-4237-8f1d-0463554cbefe',\n",
              "                        [{\"hoverlabel\": {\"namelength\": 0}, \"hovertemplate\": \"State/UTs=Andaman and Nicobar<br>Active Ratio (%)=%{x}<br>Death Ratio (%)=%{y}\", \"legendgroup\": \"State/UTs=Andaman and Nicobar\", \"marker\": {\"color\": \"#636efa\", \"symbol\": \"circle\"}, \"mode\": \"markers\", \"name\": \"State/UTs=Andaman and Nicobar\", \"showlegend\": true, \"type\": \"scatter\", \"x\": [0.11], \"xaxis\": \"x\", \"y\": [1.7], \"yaxis\": \"y\"}, {\"hoverlabel\": {\"namelength\": 0}, \"hovertemplate\": \"State/UTs=Andhra Pradesh<br>Active Ratio (%)=%{x}<br>Death Ratio (%)=%{y}\", \"legendgroup\": \"State/UTs=Andhra Pradesh\", \"marker\": {\"color\": \"#EF553B\", \"symbol\": \"circle\"}, \"mode\": \"markers\", \"name\": \"State/UTs=Andhra Pradesh\", \"showlegend\": true, \"type\": \"scatter\", \"x\": [0.72], \"xaxis\": \"x\", \"y\": [0.69], \"yaxis\": \"y\"}, {\"hoverlabel\": {\"namelength\": 0}, \"hovertemplate\": \"State/UTs=Arunachal Pradesh<br>Active Ratio (%)=%{x}<br>Death Ratio (%)=%{y}\", \"legendgroup\": \"State/UTs=Arunachal Pradesh\", \"marker\": {\"color\": \"#00cc96\", \"symbol\": \"circle\"}, \"mode\": \"markers\", \"name\": \"State/UTs=Arunachal Pradesh\", \"showlegend\": true, \"type\": \"scatter\", \"x\": [0.99], \"xaxis\": \"x\", \"y\": [0.5], \"yaxis\": \"y\"}, {\"hoverlabel\": {\"namelength\": 0}, \"hovertemplate\": \"State/UTs=Assam<br>Active Ratio (%)=%{x}<br>Death Ratio (%)=%{y}\", \"legendgroup\": \"State/UTs=Assam\", \"marker\": {\"color\": \"#ab63fa\", \"symbol\": \"circle\"}, \"mode\": \"markers\", \"name\": \"State/UTs=Assam\", \"showlegend\": true, \"type\": \"scatter\", \"x\": [0.94], \"xaxis\": \"x\", \"y\": [0.97], \"yaxis\": \"y\"}, {\"hoverlabel\": {\"namelength\": 0}, \"hovertemplate\": \"State/UTs=Bihar<br>Active Ratio (%)=%{x}<br>Death Ratio (%)=%{y}\", \"legendgroup\": \"State/UTs=Bihar\", \"marker\": {\"color\": \"#FFA15A\", \"symbol\": \"circle\"}, \"mode\": \"markers\", \"name\": \"State/UTs=Bihar\", \"showlegend\": true, \"type\": \"scatter\", \"x\": [0.01], \"xaxis\": \"x\", \"y\": [1.33], \"yaxis\": \"y\"}, {\"hoverlabel\": {\"namelength\": 0}, \"hovertemplate\": \"State/UTs=Chandigarh<br>Active Ratio (%)=%{x}<br>Death Ratio (%)=%{y}\", \"legendgroup\": \"State/UTs=Chandigarh\", \"marker\": {\"color\": \"#19d3f3\", \"symbol\": \"circle\"}, \"mode\": \"markers\", \"name\": \"State/UTs=Chandigarh\", \"showlegend\": true, \"type\": \"scatter\", \"x\": [0.05], \"xaxis\": \"x\", \"y\": [1.25], \"yaxis\": \"y\"}, {\"hoverlabel\": {\"namelength\": 0}, \"hovertemplate\": \"State/UTs=Chhattisgarh<br>Active Ratio (%)=%{x}<br>Death Ratio (%)=%{y}\", \"legendgroup\": \"State/UTs=Chhattisgarh\", \"marker\": {\"color\": \"#FF6692\", \"symbol\": \"circle\"}, \"mode\": \"markers\", \"name\": \"State/UTs=Chhattisgarh\", \"showlegend\": true, \"type\": \"scatter\", \"x\": [0.04], \"xaxis\": \"x\", \"y\": [1.35], \"yaxis\": \"y\"}, {\"hoverlabel\": {\"namelength\": 0}, \"hovertemplate\": \"State/UTs=Daman and Diu<br>Active Ratio (%)=%{x}<br>Death Ratio (%)=%{y}\", \"legendgroup\": \"State/UTs=Daman and Diu\", \"marker\": {\"color\": \"#B6E880\", \"symbol\": \"circle\"}, \"mode\": \"markers\", \"name\": \"State/UTs=Daman and Diu\", \"showlegend\": true, \"type\": \"scatter\", \"x\": [0.05], \"xaxis\": \"x\", \"y\": [0.04], \"yaxis\": \"y\"}, {\"hoverlabel\": {\"namelength\": 0}, \"hovertemplate\": \"State/UTs=Delhi<br>Active Ratio (%)=%{x}<br>Death Ratio (%)=%{y}\", \"legendgroup\": \"State/UTs=Delhi\", \"marker\": {\"color\": \"#FF97FF\", \"symbol\": \"circle\"}, \"mode\": \"markers\", \"name\": \"State/UTs=Delhi\", \"showlegend\": true, \"type\": \"scatter\", \"x\": [0.03], \"xaxis\": \"x\", \"y\": [1.74], \"yaxis\": \"y\"}, {\"hoverlabel\": {\"namelength\": 0}, \"hovertemplate\": \"State/UTs=Goa<br>Active Ratio (%)=%{x}<br>Death Ratio (%)=%{y}\", \"legendgroup\": \"State/UTs=Goa\", \"marker\": {\"color\": \"#FECB52\", \"symbol\": \"circle\"}, \"mode\": \"markers\", \"name\": \"State/UTs=Goa\", \"showlegend\": true, \"type\": \"scatter\", \"x\": [0.4], \"xaxis\": \"x\", \"y\": [1.84], \"yaxis\": \"y\"}, {\"hoverlabel\": {\"namelength\": 0}, \"hovertemplate\": \"State/UTs=Gujarat<br>Active Ratio (%)=%{x}<br>Death Ratio (%)=%{y}\", \"legendgroup\": \"State/UTs=Gujarat\", \"marker\": {\"color\": \"#636efa\", \"symbol\": \"circle\"}, \"mode\": \"markers\", \"name\": \"State/UTs=Gujarat\", \"showlegend\": true, \"type\": \"scatter\", \"x\": [0.02], \"xaxis\": \"x\", \"y\": [1.22], \"yaxis\": \"y\"}, {\"hoverlabel\": {\"namelength\": 0}, \"hovertemplate\": \"State/UTs=Haryana<br>Active Ratio (%)=%{x}<br>Death Ratio (%)=%{y}\", \"legendgroup\": \"State/UTs=Haryana\", \"marker\": {\"color\": \"#EF553B\", \"symbol\": \"circle\"}, \"mode\": \"markers\", \"name\": \"State/UTs=Haryana\", \"showlegend\": true, \"type\": \"scatter\", \"x\": [0.05], \"xaxis\": \"x\", \"y\": [1.27], \"yaxis\": \"y\"}, {\"hoverlabel\": {\"namelength\": 0}, \"hovertemplate\": \"State/UTs=Himachal Pradesh<br>Active Ratio (%)=%{x}<br>Death Ratio (%)=%{y}\", \"legendgroup\": \"State/UTs=Himachal Pradesh\", \"marker\": {\"color\": \"#00cc96\", \"symbol\": \"circle\"}, \"mode\": \"markers\", \"name\": \"State/UTs=Himachal Pradesh\", \"showlegend\": true, \"type\": \"scatter\", \"x\": [0.7], \"xaxis\": \"x\", \"y\": [1.69], \"yaxis\": \"y\"}, {\"hoverlabel\": {\"namelength\": 0}, \"hovertemplate\": \"State/UTs=Jammu and Kashmir<br>Active Ratio (%)=%{x}<br>Death Ratio (%)=%{y}\", \"legendgroup\": \"State/UTs=Jammu and Kashmir\", \"marker\": {\"color\": \"#ab63fa\", \"symbol\": \"circle\"}, \"mode\": \"markers\", \"name\": \"State/UTs=Jammu and Kashmir\", \"showlegend\": true, \"type\": \"scatter\", \"x\": [0.38], \"xaxis\": \"x\", \"y\": [1.35], \"yaxis\": \"y\"}, {\"hoverlabel\": {\"namelength\": 0}, \"hovertemplate\": \"State/UTs=Jharkhand<br>Active Ratio (%)=%{x}<br>Death Ratio (%)=%{y}\", \"legendgroup\": \"State/UTs=Jharkhand\", \"marker\": {\"color\": \"#FFA15A\", \"symbol\": \"circle\"}, \"mode\": \"markers\", \"name\": \"State/UTs=Jharkhand\", \"showlegend\": true, \"type\": \"scatter\", \"x\": [0.03], \"xaxis\": \"x\", \"y\": [1.47], \"yaxis\": \"y\"}, {\"hoverlabel\": {\"namelength\": 0}, \"hovertemplate\": \"State/UTs=Karnataka<br>Active Ratio (%)=%{x}<br>Death Ratio (%)=%{y}\", \"legendgroup\": \"State/UTs=Karnataka\", \"marker\": {\"color\": \"#19d3f3\", \"symbol\": \"circle\"}, \"mode\": \"markers\", \"name\": \"State/UTs=Karnataka\", \"showlegend\": true, \"type\": \"scatter\", \"x\": [0.55], \"xaxis\": \"x\", \"y\": [1.27], \"yaxis\": \"y\"}, {\"hoverlabel\": {\"namelength\": 0}, \"hovertemplate\": \"State/UTs=Kerala<br>Active Ratio (%)=%{x}<br>Death Ratio (%)=%{y}\", \"legendgroup\": \"State/UTs=Kerala\", \"marker\": {\"color\": \"#FF6692\", \"symbol\": \"circle\"}, \"mode\": \"markers\", \"name\": \"State/UTs=Kerala\", \"showlegend\": true, \"type\": \"scatter\", \"x\": [4.77], \"xaxis\": \"x\", \"y\": [0.52], \"yaxis\": \"y\"}, {\"hoverlabel\": {\"namelength\": 0}, \"hovertemplate\": \"State/UTs=Ladakh<br>Active Ratio (%)=%{x}<br>Death Ratio (%)=%{y}\", \"legendgroup\": \"State/UTs=Ladakh\", \"marker\": {\"color\": \"#B6E880\", \"symbol\": \"circle\"}, \"mode\": \"markers\", \"name\": \"State/UTs=Ladakh\", \"showlegend\": true, \"type\": \"scatter\", \"x\": [0.15], \"xaxis\": \"x\", \"y\": [1.0], \"yaxis\": \"y\"}, {\"hoverlabel\": {\"namelength\": 0}, \"hovertemplate\": \"State/UTs=Lakshadweep<br>Active Ratio (%)=%{x}<br>Death Ratio (%)=%{y}\", \"legendgroup\": \"State/UTs=Lakshadweep\", \"marker\": {\"color\": \"#FF97FF\", \"symbol\": \"circle\"}, \"mode\": \"markers\", \"name\": \"State/UTs=Lakshadweep\", \"showlegend\": true, \"type\": \"scatter\", \"x\": [0.05], \"xaxis\": \"x\", \"y\": [0.49], \"yaxis\": \"y\"}, {\"hoverlabel\": {\"namelength\": 0}, \"hovertemplate\": \"State/UTs=Madhya Pradesh<br>Active Ratio (%)=%{x}<br>Death Ratio (%)=%{y}\", \"legendgroup\": \"State/UTs=Madhya Pradesh\", \"marker\": {\"color\": \"#FECB52\", \"symbol\": \"circle\"}, \"mode\": \"markers\", \"name\": \"State/UTs=Madhya Pradesh\", \"showlegend\": true, \"type\": \"scatter\", \"x\": [0.02], \"xaxis\": \"x\", \"y\": [1.33], \"yaxis\": \"y\"}, {\"hoverlabel\": {\"namelength\": 0}, \"hovertemplate\": \"State/UTs=Maharashtra<br>Active Ratio (%)=%{x}<br>Death Ratio (%)=%{y}\", \"legendgroup\": \"State/UTs=Maharashtra\", \"marker\": {\"color\": \"#636efa\", \"symbol\": \"circle\"}, \"mode\": \"markers\", \"name\": \"State/UTs=Maharashtra\", \"showlegend\": true, \"type\": \"scatter\", \"x\": [0.82], \"xaxis\": \"x\", \"y\": [2.13], \"yaxis\": \"y\"}, {\"hoverlabel\": {\"namelength\": 0}, \"hovertemplate\": \"State/UTs=Manipur<br>Active Ratio (%)=%{x}<br>Death Ratio (%)=%{y}\", \"legendgroup\": \"State/UTs=Manipur\", \"marker\": {\"color\": \"#EF553B\", \"symbol\": \"circle\"}, \"mode\": \"markers\", \"name\": \"State/UTs=Manipur\", \"showlegend\": true, \"type\": \"scatter\", \"x\": [2.23], \"xaxis\": \"x\", \"y\": [1.55], \"yaxis\": \"y\"}, {\"hoverlabel\": {\"namelength\": 0}, \"hovertemplate\": \"State/UTs=Meghalaya<br>Active Ratio (%)=%{x}<br>Death Ratio (%)=%{y}\", \"legendgroup\": \"State/UTs=Meghalaya\", \"marker\": {\"color\": \"#00cc96\", \"symbol\": \"circle\"}, \"mode\": \"markers\", \"name\": \"State/UTs=Meghalaya\", \"showlegend\": true, \"type\": \"scatter\", \"x\": [2.37], \"xaxis\": \"x\", \"y\": [1.73], \"yaxis\": \"y\"}, {\"hoverlabel\": {\"namelength\": 0}, \"hovertemplate\": \"State/UTs=Mizoram<br>Active Ratio (%)=%{x}<br>Death Ratio (%)=%{y}\", \"legendgroup\": \"State/UTs=Mizoram\", \"marker\": {\"color\": \"#ab63fa\", \"symbol\": \"circle\"}, \"mode\": \"markers\", \"name\": \"State/UTs=Mizoram\", \"showlegend\": true, \"type\": \"scatter\", \"x\": [18.34], \"xaxis\": \"x\", \"y\": [0.33], \"yaxis\": \"y\"}, {\"hoverlabel\": {\"namelength\": 0}, \"hovertemplate\": \"State/UTs=Nagaland<br>Active Ratio (%)=%{x}<br>Death Ratio (%)=%{y}\", \"legendgroup\": \"State/UTs=Nagaland\", \"marker\": {\"color\": \"#FFA15A\", \"symbol\": \"circle\"}, \"mode\": \"markers\", \"name\": \"State/UTs=Nagaland\", \"showlegend\": true, \"type\": \"scatter\", \"x\": [1.89], \"xaxis\": \"x\", \"y\": [2.1], \"yaxis\": \"y\"}, {\"hoverlabel\": {\"namelength\": 0}, \"hovertemplate\": \"State/UTs=Odisha<br>Active Ratio (%)=%{x}<br>Death Ratio (%)=%{y}\", \"legendgroup\": \"State/UTs=Odisha\", \"marker\": {\"color\": \"#19d3f3\", \"symbol\": \"circle\"}, \"mode\": \"markers\", \"name\": \"State/UTs=Odisha\", \"showlegend\": true, \"type\": \"scatter\", \"x\": [0.58], \"xaxis\": \"x\", \"y\": [0.8], \"yaxis\": \"y\"}, {\"hoverlabel\": {\"namelength\": 0}, \"hovertemplate\": \"State/UTs=Puducherry<br>Active Ratio (%)=%{x}<br>Death Ratio (%)=%{y}\", \"legendgroup\": \"State/UTs=Puducherry\", \"marker\": {\"color\": \"#FF6692\", \"symbol\": \"circle\"}, \"mode\": \"markers\", \"name\": \"State/UTs=Puducherry\", \"showlegend\": true, \"type\": \"scatter\", \"x\": [0.69], \"xaxis\": \"x\", \"y\": [1.46], \"yaxis\": \"y\"}, {\"hoverlabel\": {\"namelength\": 0}, \"hovertemplate\": \"State/UTs=Punjab<br>Active Ratio (%)=%{x}<br>Death Ratio (%)=%{y}\", \"legendgroup\": \"State/UTs=Punjab\", \"marker\": {\"color\": \"#B6E880\", \"symbol\": \"circle\"}, \"mode\": \"markers\", \"name\": \"State/UTs=Punjab\", \"showlegend\": true, \"type\": \"scatter\", \"x\": [0.05], \"xaxis\": \"x\", \"y\": [2.74], \"yaxis\": \"y\"}, {\"hoverlabel\": {\"namelength\": 0}, \"hovertemplate\": \"State/UTs=Rajasthan<br>Active Ratio (%)=%{x}<br>Death Ratio (%)=%{y}\", \"legendgroup\": \"State/UTs=Rajasthan\", \"marker\": {\"color\": \"#FF97FF\", \"symbol\": \"circle\"}, \"mode\": \"markers\", \"name\": \"State/UTs=Rajasthan\", \"showlegend\": true, \"type\": \"scatter\", \"x\": [0.01], \"xaxis\": \"x\", \"y\": [0.94], \"yaxis\": \"y\"}, {\"hoverlabel\": {\"namelength\": 0}, \"hovertemplate\": \"State/UTs=Sikkim<br>Active Ratio (%)=%{x}<br>Death Ratio (%)=%{y}\", \"legendgroup\": \"State/UTs=Sikkim\", \"marker\": {\"color\": \"#FECB52\", \"symbol\": \"circle\"}, \"mode\": \"markers\", \"name\": \"State/UTs=Sikkim\", \"showlegend\": true, \"type\": \"scatter\", \"x\": [2.64], \"xaxis\": \"x\", \"y\": [1.23], \"yaxis\": \"y\"}, {\"hoverlabel\": {\"namelength\": 0}, \"hovertemplate\": \"State/UTs=Tamil Nadu<br>Active Ratio (%)=%{x}<br>Death Ratio (%)=%{y}\", \"legendgroup\": \"State/UTs=Tamil Nadu\", \"marker\": {\"color\": \"#636efa\", \"symbol\": \"circle\"}, \"mode\": \"markers\", \"name\": \"State/UTs=Tamil Nadu\", \"showlegend\": true, \"type\": \"scatter\", \"x\": [0.63], \"xaxis\": \"x\", \"y\": [1.34], \"yaxis\": \"y\"}, {\"hoverlabel\": {\"namelength\": 0}, \"hovertemplate\": \"State/UTs=Telengana<br>Active Ratio (%)=%{x}<br>Death Ratio (%)=%{y}\", \"legendgroup\": \"State/UTs=Telengana\", \"marker\": {\"color\": \"#EF553B\", \"symbol\": \"circle\"}, \"mode\": \"markers\", \"name\": \"State/UTs=Telengana\", \"showlegend\": true, \"type\": \"scatter\", \"x\": [0.79], \"xaxis\": \"x\", \"y\": [0.59], \"yaxis\": \"y\"}, {\"hoverlabel\": {\"namelength\": 0}, \"hovertemplate\": \"State/UTs=Tripura<br>Active Ratio (%)=%{x}<br>Death Ratio (%)=%{y}\", \"legendgroup\": \"State/UTs=Tripura\", \"marker\": {\"color\": \"#00cc96\", \"symbol\": \"circle\"}, \"mode\": \"markers\", \"name\": \"State/UTs=Tripura\", \"showlegend\": true, \"type\": \"scatter\", \"x\": [0.58], \"xaxis\": \"x\", \"y\": [0.96], \"yaxis\": \"y\"}, {\"hoverlabel\": {\"namelength\": 0}, \"hovertemplate\": \"State/UTs=Uttar Pradesh<br>Active Ratio (%)=%{x}<br>Death Ratio (%)=%{y}\", \"legendgroup\": \"State/UTs=Uttar Pradesh\", \"marker\": {\"color\": \"#ab63fa\", \"symbol\": \"circle\"}, \"mode\": \"markers\", \"name\": \"State/UTs=Uttar Pradesh\", \"showlegend\": true, \"type\": \"scatter\", \"x\": [0.01], \"xaxis\": \"x\", \"y\": [1.34], \"yaxis\": \"y\"}, {\"hoverlabel\": {\"namelength\": 0}, \"hovertemplate\": \"State/UTs=Uttarakhand<br>Active Ratio (%)=%{x}<br>Death Ratio (%)=%{y}\", \"legendgroup\": \"State/UTs=Uttarakhand\", \"marker\": {\"color\": \"#FFA15A\", \"symbol\": \"circle\"}, \"mode\": \"markers\", \"name\": \"State/UTs=Uttarakhand\", \"showlegend\": true, \"type\": \"scatter\", \"x\": [0.09], \"xaxis\": \"x\", \"y\": [2.15], \"yaxis\": \"y\"}, {\"hoverlabel\": {\"namelength\": 0}, \"hovertemplate\": \"State/UTs=West Bengal<br>Active Ratio (%)=%{x}<br>Death Ratio (%)=%{y}\", \"legendgroup\": \"State/UTs=West Bengal\", \"marker\": {\"color\": \"#19d3f3\", \"symbol\": \"circle\"}, \"mode\": \"markers\", \"name\": \"State/UTs=West Bengal\", \"showlegend\": true, \"type\": \"scatter\", \"x\": [0.52], \"xaxis\": \"x\", \"y\": [1.19], \"yaxis\": \"y\"}],\n",
              "                        {\"legend\": {\"tracegroupgap\": 0}, \"margin\": {\"t\": 60}, \"template\": {\"data\": {\"bar\": [{\"error_x\": {\"color\": \"#2a3f5f\"}, \"error_y\": {\"color\": \"#2a3f5f\"}, \"marker\": {\"line\": {\"color\": \"#E5ECF6\", \"width\": 0.5}}, \"type\": \"bar\"}], \"barpolar\": [{\"marker\": {\"line\": {\"color\": \"#E5ECF6\", \"width\": 0.5}}, \"type\": \"barpolar\"}], \"carpet\": [{\"aaxis\": {\"endlinecolor\": \"#2a3f5f\", \"gridcolor\": \"white\", \"linecolor\": \"white\", \"minorgridcolor\": \"white\", \"startlinecolor\": \"#2a3f5f\"}, \"baxis\": {\"endlinecolor\": \"#2a3f5f\", \"gridcolor\": \"white\", \"linecolor\": \"white\", \"minorgridcolor\": \"white\", \"startlinecolor\": \"#2a3f5f\"}, \"type\": \"carpet\"}], \"choropleth\": [{\"colorbar\": {\"outlinewidth\": 0, \"ticks\": \"\"}, \"type\": \"choropleth\"}], \"contour\": [{\"colorbar\": {\"outlinewidth\": 0, \"ticks\": \"\"}, \"colorscale\": [[0.0, \"#0d0887\"], [0.1111111111111111, \"#46039f\"], [0.2222222222222222, \"#7201a8\"], [0.3333333333333333, \"#9c179e\"], [0.4444444444444444, \"#bd3786\"], [0.5555555555555556, \"#d8576b\"], [0.6666666666666666, \"#ed7953\"], [0.7777777777777778, \"#fb9f3a\"], [0.8888888888888888, \"#fdca26\"], [1.0, \"#f0f921\"]], \"type\": \"contour\"}], \"contourcarpet\": [{\"colorbar\": {\"outlinewidth\": 0, \"ticks\": \"\"}, \"type\": \"contourcarpet\"}], \"heatmap\": [{\"colorbar\": {\"outlinewidth\": 0, \"ticks\": \"\"}, \"colorscale\": [[0.0, \"#0d0887\"], [0.1111111111111111, \"#46039f\"], [0.2222222222222222, \"#7201a8\"], [0.3333333333333333, \"#9c179e\"], [0.4444444444444444, \"#bd3786\"], [0.5555555555555556, \"#d8576b\"], [0.6666666666666666, \"#ed7953\"], [0.7777777777777778, \"#fb9f3a\"], [0.8888888888888888, \"#fdca26\"], [1.0, \"#f0f921\"]], \"type\": \"heatmap\"}], \"heatmapgl\": [{\"colorbar\": {\"outlinewidth\": 0, \"ticks\": \"\"}, \"colorscale\": [[0.0, \"#0d0887\"], [0.1111111111111111, \"#46039f\"], [0.2222222222222222, \"#7201a8\"], [0.3333333333333333, \"#9c179e\"], [0.4444444444444444, \"#bd3786\"], [0.5555555555555556, \"#d8576b\"], [0.6666666666666666, \"#ed7953\"], [0.7777777777777778, \"#fb9f3a\"], [0.8888888888888888, \"#fdca26\"], [1.0, \"#f0f921\"]], \"type\": \"heatmapgl\"}], \"histogram\": [{\"marker\": {\"colorbar\": {\"outlinewidth\": 0, \"ticks\": \"\"}}, \"type\": \"histogram\"}], \"histogram2d\": [{\"colorbar\": {\"outlinewidth\": 0, \"ticks\": \"\"}, \"colorscale\": [[0.0, \"#0d0887\"], [0.1111111111111111, \"#46039f\"], [0.2222222222222222, \"#7201a8\"], [0.3333333333333333, \"#9c179e\"], [0.4444444444444444, \"#bd3786\"], [0.5555555555555556, \"#d8576b\"], [0.6666666666666666, \"#ed7953\"], [0.7777777777777778, \"#fb9f3a\"], [0.8888888888888888, \"#fdca26\"], [1.0, \"#f0f921\"]], \"type\": \"histogram2d\"}], \"histogram2dcontour\": [{\"colorbar\": {\"outlinewidth\": 0, \"ticks\": \"\"}, \"colorscale\": [[0.0, \"#0d0887\"], [0.1111111111111111, \"#46039f\"], [0.2222222222222222, \"#7201a8\"], [0.3333333333333333, \"#9c179e\"], [0.4444444444444444, \"#bd3786\"], [0.5555555555555556, \"#d8576b\"], [0.6666666666666666, \"#ed7953\"], [0.7777777777777778, \"#fb9f3a\"], [0.8888888888888888, \"#fdca26\"], [1.0, \"#f0f921\"]], \"type\": \"histogram2dcontour\"}], \"mesh3d\": [{\"colorbar\": {\"outlinewidth\": 0, \"ticks\": \"\"}, \"type\": \"mesh3d\"}], \"parcoords\": [{\"line\": {\"colorbar\": {\"outlinewidth\": 0, \"ticks\": \"\"}}, \"type\": \"parcoords\"}], \"pie\": [{\"automargin\": true, \"type\": \"pie\"}], \"scatter\": [{\"marker\": {\"colorbar\": {\"outlinewidth\": 0, \"ticks\": \"\"}}, \"type\": \"scatter\"}], \"scatter3d\": [{\"line\": {\"colorbar\": {\"outlinewidth\": 0, \"ticks\": \"\"}}, \"marker\": {\"colorbar\": {\"outlinewidth\": 0, \"ticks\": \"\"}}, \"type\": \"scatter3d\"}], \"scattercarpet\": [{\"marker\": {\"colorbar\": {\"outlinewidth\": 0, \"ticks\": \"\"}}, \"type\": \"scattercarpet\"}], \"scattergeo\": [{\"marker\": {\"colorbar\": {\"outlinewidth\": 0, \"ticks\": \"\"}}, \"type\": \"scattergeo\"}], \"scattergl\": [{\"marker\": {\"colorbar\": {\"outlinewidth\": 0, \"ticks\": \"\"}}, \"type\": \"scattergl\"}], \"scattermapbox\": [{\"marker\": {\"colorbar\": {\"outlinewidth\": 0, \"ticks\": \"\"}}, \"type\": \"scattermapbox\"}], \"scatterpolar\": [{\"marker\": {\"colorbar\": {\"outlinewidth\": 0, \"ticks\": \"\"}}, \"type\": \"scatterpolar\"}], \"scatterpolargl\": [{\"marker\": {\"colorbar\": {\"outlinewidth\": 0, \"ticks\": \"\"}}, \"type\": \"scatterpolargl\"}], \"scatterternary\": [{\"marker\": {\"colorbar\": {\"outlinewidth\": 0, \"ticks\": \"\"}}, \"type\": \"scatterternary\"}], \"surface\": [{\"colorbar\": {\"outlinewidth\": 0, \"ticks\": \"\"}, \"colorscale\": [[0.0, \"#0d0887\"], [0.1111111111111111, \"#46039f\"], [0.2222222222222222, \"#7201a8\"], [0.3333333333333333, \"#9c179e\"], [0.4444444444444444, \"#bd3786\"], [0.5555555555555556, \"#d8576b\"], [0.6666666666666666, \"#ed7953\"], [0.7777777777777778, \"#fb9f3a\"], [0.8888888888888888, \"#fdca26\"], [1.0, \"#f0f921\"]], \"type\": \"surface\"}], \"table\": [{\"cells\": {\"fill\": {\"color\": \"#EBF0F8\"}, \"line\": {\"color\": \"white\"}}, \"header\": {\"fill\": {\"color\": \"#C8D4E3\"}, \"line\": {\"color\": \"white\"}}, \"type\": \"table\"}]}, \"layout\": {\"annotationdefaults\": {\"arrowcolor\": \"#2a3f5f\", \"arrowhead\": 0, \"arrowwidth\": 1}, \"coloraxis\": {\"colorbar\": {\"outlinewidth\": 0, \"ticks\": \"\"}}, \"colorscale\": {\"diverging\": [[0, \"#8e0152\"], [0.1, \"#c51b7d\"], [0.2, \"#de77ae\"], [0.3, \"#f1b6da\"], [0.4, \"#fde0ef\"], [0.5, \"#f7f7f7\"], [0.6, \"#e6f5d0\"], [0.7, \"#b8e186\"], [0.8, \"#7fbc41\"], [0.9, \"#4d9221\"], [1, \"#276419\"]], \"sequential\": [[0.0, \"#0d0887\"], [0.1111111111111111, \"#46039f\"], [0.2222222222222222, \"#7201a8\"], [0.3333333333333333, \"#9c179e\"], [0.4444444444444444, \"#bd3786\"], [0.5555555555555556, \"#d8576b\"], [0.6666666666666666, \"#ed7953\"], [0.7777777777777778, \"#fb9f3a\"], [0.8888888888888888, \"#fdca26\"], [1.0, \"#f0f921\"]], \"sequentialminus\": [[0.0, \"#0d0887\"], [0.1111111111111111, \"#46039f\"], [0.2222222222222222, \"#7201a8\"], [0.3333333333333333, \"#9c179e\"], [0.4444444444444444, \"#bd3786\"], [0.5555555555555556, \"#d8576b\"], [0.6666666666666666, \"#ed7953\"], [0.7777777777777778, \"#fb9f3a\"], [0.8888888888888888, \"#fdca26\"], [1.0, \"#f0f921\"]]}, \"colorway\": [\"#636efa\", \"#EF553B\", \"#00cc96\", \"#ab63fa\", \"#FFA15A\", \"#19d3f3\", \"#FF6692\", \"#B6E880\", \"#FF97FF\", \"#FECB52\"], \"font\": {\"color\": \"#2a3f5f\"}, \"geo\": {\"bgcolor\": \"white\", \"lakecolor\": \"white\", \"landcolor\": \"#E5ECF6\", \"showlakes\": true, \"showland\": true, \"subunitcolor\": \"white\"}, \"hoverlabel\": {\"align\": \"left\"}, \"hovermode\": \"closest\", \"mapbox\": {\"style\": \"light\"}, \"paper_bgcolor\": \"white\", \"plot_bgcolor\": \"#E5ECF6\", \"polar\": {\"angularaxis\": {\"gridcolor\": \"white\", \"linecolor\": \"white\", \"ticks\": \"\"}, \"bgcolor\": \"#E5ECF6\", \"radialaxis\": {\"gridcolor\": \"white\", \"linecolor\": \"white\", \"ticks\": \"\"}}, \"scene\": {\"xaxis\": {\"backgroundcolor\": \"#E5ECF6\", \"gridcolor\": \"white\", \"gridwidth\": 2, \"linecolor\": \"white\", \"showbackground\": true, \"ticks\": \"\", \"zerolinecolor\": \"white\"}, \"yaxis\": {\"backgroundcolor\": \"#E5ECF6\", \"gridcolor\": \"white\", \"gridwidth\": 2, \"linecolor\": \"white\", \"showbackground\": true, \"ticks\": \"\", \"zerolinecolor\": \"white\"}, \"zaxis\": {\"backgroundcolor\": \"#E5ECF6\", \"gridcolor\": \"white\", \"gridwidth\": 2, \"linecolor\": \"white\", \"showbackground\": true, \"ticks\": \"\", \"zerolinecolor\": \"white\"}}, \"shapedefaults\": {\"line\": {\"color\": \"#2a3f5f\"}}, \"ternary\": {\"aaxis\": {\"gridcolor\": \"white\", \"linecolor\": \"white\", \"ticks\": \"\"}, \"baxis\": {\"gridcolor\": \"white\", \"linecolor\": \"white\", \"ticks\": \"\"}, \"bgcolor\": \"#E5ECF6\", \"caxis\": {\"gridcolor\": \"white\", \"linecolor\": \"white\", \"ticks\": \"\"}}, \"title\": {\"x\": 0.05}, \"xaxis\": {\"automargin\": true, \"gridcolor\": \"white\", \"linecolor\": \"white\", \"ticks\": \"\", \"title\": {\"standoff\": 15}, \"zerolinecolor\": \"white\", \"zerolinewidth\": 2}, \"yaxis\": {\"automargin\": true, \"gridcolor\": \"white\", \"linecolor\": \"white\", \"ticks\": \"\", \"title\": {\"standoff\": 15}, \"zerolinecolor\": \"white\", \"zerolinewidth\": 2}}}, \"xaxis\": {\"anchor\": \"y\", \"domain\": [0.0, 1.0], \"title\": {\"text\": \"Active Ratio (%)\"}}, \"yaxis\": {\"anchor\": \"x\", \"domain\": [0.0, 1.0], \"title\": {\"text\": \"Death Ratio (%)\"}}},\n",
              "                        {\"responsive\": true}\n",
              "                    ).then(function(){\n",
              "                            \n",
              "var gd = document.getElementById('ca3eb76d-f164-4237-8f1d-0463554cbefe');\n",
              "var x = new MutationObserver(function (mutations, observer) {{\n",
              "        var display = window.getComputedStyle(gd).display;\n",
              "        if (!display || display === 'none') {{\n",
              "            console.log([gd, 'removed!']);\n",
              "            Plotly.purge(gd);\n",
              "            observer.disconnect();\n",
              "        }}\n",
              "}});\n",
              "\n",
              "// Listen for the removal of the full notebook cells\n",
              "var notebookContainer = gd.closest('#notebook-container');\n",
              "if (notebookContainer) {{\n",
              "    x.observe(notebookContainer, {childList: true});\n",
              "}}\n",
              "\n",
              "// Listen for the clearing of the current output cell\n",
              "var outputEl = gd.closest('.output');\n",
              "if (outputEl) {{\n",
              "    x.observe(outputEl, {childList: true});\n",
              "}}\n",
              "\n",
              "                        })\n",
              "                };\n",
              "                \n",
              "            </script>\n",
              "        </div>\n",
              "</body>\n",
              "</html>"
            ]
          },
          "metadata": {}
        }
      ]
    },
    {
      "cell_type": "code",
      "metadata": {
        "execution": {
          "iopub.status.busy": "2021-09-20T11:28:54.346410Z",
          "iopub.execute_input": "2021-09-20T11:28:54.346652Z",
          "iopub.status.idle": "2021-09-20T11:29:03.576804Z",
          "shell.execute_reply.started": "2021-09-20T11:28:54.346620Z",
          "shell.execute_reply": "2021-09-20T11:29:03.576148Z"
        },
        "trusted": true,
        "colab": {
          "base_uri": "https://localhost:8080/",
          "height": 1000
        },
        "id": "ulEYipQGgOZK",
        "outputId": "28e9d8dd-cf1a-417f-b06c-1783200007bc"
      },
      "source": [
        "sns.pairplot(df)"
      ],
      "execution_count": 98,
      "outputs": [
        {
          "output_type": "execute_result",
          "data": {
            "text/plain": [
              "<seaborn.axisgrid.PairGrid at 0x7fc4fd050110>"
            ]
          },
          "metadata": {},
          "execution_count": 98
        },
        {
          "output_type": "display_data",
          "data": {
            "image/png": "[encoded data removed]",
            "text/plain": [
              "<Figure size 1260x1260 with 56 Axes>"
            ]
          },
          "metadata": {
            "needs_background": "light"
          }
        }
      ]
    },
    {
      "cell_type": "code",
      "metadata": {
        "execution": {
          "iopub.status.busy": "2021-09-20T11:29:03.577855Z",
          "iopub.execute_input": "2021-09-20T11:29:03.578176Z",
          "iopub.status.idle": "2021-09-20T11:29:03.725847Z",
          "shell.execute_reply.started": "2021-09-20T11:29:03.578145Z",
          "shell.execute_reply": "2021-09-20T11:29:03.724978Z"
        },
        "trusted": true,
        "colab": {
          "base_uri": "https://localhost:8080/",
          "height": 542
        },
        "id": "3htQ7ICbgOZK",
        "outputId": "2f0eb091-7108-4552-869c-fbdc20e83c28"
      },
      "source": [
        "px.density_heatmap(df, y=\"Total Cases\", x=\"State/UTs\", marginal_x=\"histogram\", marginal_y=\"histogram\")"
      ],
      "execution_count": 99,
      "outputs": [
        {
          "output_type": "display_data",
          "data": {
            "text/html": [
              "<html>\n",
              "<head><meta charset=\"utf-8\" /></head>\n",
              "<body>\n",
              "    <div>\n",
              "            <script src=\"https://cdnjs.cloudflare.com/ajax/libs/mathjax/2.7.5/MathJax.js?config=TeX-AMS-MML_SVG\"></script><script type=\"text/javascript\">if (window.MathJax) {MathJax.Hub.Config({SVG: {font: \"STIX-Web\"}});}</script>\n",
              "                <script type=\"text/javascript\">window.PlotlyConfig = {MathJaxConfig: 'local'};</script>\n",
              "        <script src=\"https://cdn.plot.ly/plotly-latest.min.js\"></script>    \n",
              "            <div id=\"b18584d2-75d4-4a25-861f-077b478bb1a8\" class=\"plotly-graph-div\" style=\"height:525px; width:100%;\"></div>\n",
              "            <script type=\"text/javascript\">\n",
              "                \n",
              "                    window.PLOTLYENV=window.PLOTLYENV || {};\n",
              "                    \n",
              "                if (document.getElementById(\"b18584d2-75d4-4a25-861f-077b478bb1a8\")) {\n",
              "                    Plotly.newPlot(\n",
              "                        'b18584d2-75d4-4a25-861f-077b478bb1a8',\n",
              "                        [{\"coloraxis\": \"coloraxis\", \"hoverlabel\": {\"namelength\": 0}, \"hovertemplate\": \"State/UTs=%{x}<br>Total Cases=%{y}<br>count=%{z}\", \"name\": \"\", \"type\": \"histogram2d\", \"x\": [\"Andaman and Nicobar\", \"Andhra Pradesh\", \"Arunachal Pradesh\", \"Assam\", \"Bihar\", \"Chandigarh\", \"Chhattisgarh\", \"Daman and Diu\", \"Delhi\", \"Goa\", \"Gujarat\", \"Haryana\", \"Himachal Pradesh\", \"Jammu and Kashmir\", \"Jharkhand\", \"Karnataka\", \"Kerala\", \"Ladakh\", \"Lakshadweep\", \"Madhya Pradesh\", \"Maharashtra\", \"Manipur\", \"Meghalaya\", \"Mizoram\", \"Nagaland\", \"Odisha\", \"Puducherry\", \"Punjab\", \"Rajasthan\", \"Sikkim\", \"Tamil Nadu\", \"Telengana\", \"Tripura\", \"Uttar Pradesh\", \"Uttarakhand\", \"West Bengal\"], \"xaxis\": \"x\", \"xbingroup\": \"x\", \"y\": [7584, 2030849, 53807, 595669, 725833, 65160, 1004902, 10670, 1438250, 174891, 825629, 770659, 215893, 326990, 348079, 2962408, 4390489, 20608, 10353, 792353, 6500617, 117230, 78359, 72883, 30657, 1016833, 124836, 601072, 954198, 30650, 2635419, 661866, 83672, 1709555, 343242, 1557414], \"yaxis\": \"y\", \"ybingroup\": \"y\"}, {\"alignmentgroup\": \"True\", \"bingroup\": \"x\", \"hoverlabel\": {\"namelength\": 0}, \"hovertemplate\": \"State/UTs=%{x}<br>count=%{y}\", \"legendgroup\": \"\", \"marker\": {\"color\": \"#0d0887\"}, \"name\": \"\", \"offsetgroup\": \"\", \"opacity\": 0.5, \"showlegend\": false, \"type\": \"histogram\", \"x\": [\"Andaman and Nicobar\", \"Andhra Pradesh\", \"Arunachal Pradesh\", \"Assam\", \"Bihar\", \"Chandigarh\", \"Chhattisgarh\", \"Daman and Diu\", \"Delhi\", \"Goa\", \"Gujarat\", \"Haryana\", \"Himachal Pradesh\", \"Jammu and Kashmir\", \"Jharkhand\", \"Karnataka\", \"Kerala\", \"Ladakh\", \"Lakshadweep\", \"Madhya Pradesh\", \"Maharashtra\", \"Manipur\", \"Meghalaya\", \"Mizoram\", \"Nagaland\", \"Odisha\", \"Puducherry\", \"Punjab\", \"Rajasthan\", \"Sikkim\", \"Tamil Nadu\", \"Telengana\", \"Tripura\", \"Uttar Pradesh\", \"Uttarakhand\", \"West Bengal\"], \"xaxis\": \"x3\", \"yaxis\": \"y3\"}, {\"alignmentgroup\": \"True\", \"bingroup\": \"y\", \"hoverlabel\": {\"namelength\": 0}, \"hovertemplate\": \"Total Cases=%{y}<br>count=%{x}\", \"legendgroup\": \"\", \"marker\": {\"color\": \"#0d0887\"}, \"name\": \"\", \"offsetgroup\": \"\", \"opacity\": 0.5, \"showlegend\": false, \"type\": \"histogram\", \"xaxis\": \"x2\", \"y\": [7584, 2030849, 53807, 595669, 725833, 65160, 1004902, 10670, 1438250, 174891, 825629, 770659, 215893, 326990, 348079, 2962408, 4390489, 20608, 10353, 792353, 6500617, 117230, 78359, 72883, 30657, 1016833, 124836, 601072, 954198, 30650, 2635419, 661866, 83672, 1709555, 343242, 1557414], \"yaxis\": \"y2\"}],\n",
              "                        {\"barmode\": \"overlay\", \"coloraxis\": {\"colorbar\": {\"title\": {\"text\": \"count\"}}, \"colorscale\": [[0.0, \"#0d0887\"], [0.1111111111111111, \"#46039f\"], [0.2222222222222222, \"#7201a8\"], [0.3333333333333333, \"#9c179e\"], [0.4444444444444444, \"#bd3786\"], [0.5555555555555556, \"#d8576b\"], [0.6666666666666666, \"#ed7953\"], [0.7777777777777778, \"#fb9f3a\"], [0.8888888888888888, \"#fdca26\"], [1.0, \"#f0f921\"]]}, \"legend\": {\"tracegroupgap\": 0}, \"margin\": {\"t\": 60}, \"template\": {\"data\": {\"bar\": [{\"error_x\": {\"color\": \"#2a3f5f\"}, \"error_y\": {\"color\": \"#2a3f5f\"}, \"marker\": {\"line\": {\"color\": \"#E5ECF6\", \"width\": 0.5}}, \"type\": \"bar\"}], \"barpolar\": [{\"marker\": {\"line\": {\"color\": \"#E5ECF6\", \"width\": 0.5}}, \"type\": \"barpolar\"}], \"carpet\": [{\"aaxis\": {\"endlinecolor\": \"#2a3f5f\", \"gridcolor\": \"white\", \"linecolor\": \"white\", \"minorgridcolor\": \"white\", \"startlinecolor\": \"#2a3f5f\"}, \"baxis\": {\"endlinecolor\": \"#2a3f5f\", \"gridcolor\": \"white\", \"linecolor\": \"white\", \"minorgridcolor\": \"white\", \"startlinecolor\": \"#2a3f5f\"}, \"type\": \"carpet\"}], \"choropleth\": [{\"colorbar\": {\"outlinewidth\": 0, \"ticks\": \"\"}, \"type\": \"choropleth\"}], \"contour\": [{\"colorbar\": {\"outlinewidth\": 0, \"ticks\": \"\"}, \"colorscale\": [[0.0, \"#0d0887\"], [0.1111111111111111, \"#46039f\"], [0.2222222222222222, \"#7201a8\"], [0.3333333333333333, \"#9c179e\"], [0.4444444444444444, \"#bd3786\"], [0.5555555555555556, \"#d8576b\"], [0.6666666666666666, \"#ed7953\"], [0.7777777777777778, \"#fb9f3a\"], [0.8888888888888888, \"#fdca26\"], [1.0, \"#f0f921\"]], \"type\": \"contour\"}], \"contourcarpet\": [{\"colorbar\": {\"outlinewidth\": 0, \"ticks\": \"\"}, \"type\": \"contourcarpet\"}], \"heatmap\": [{\"colorbar\": {\"outlinewidth\": 0, \"ticks\": \"\"}, \"colorscale\": [[0.0, \"#0d0887\"], [0.1111111111111111, \"#46039f\"], [0.2222222222222222, \"#7201a8\"], [0.3333333333333333, \"#9c179e\"], [0.4444444444444444, \"#bd3786\"], [0.5555555555555556, \"#d8576b\"], [0.6666666666666666, \"#ed7953\"], [0.7777777777777778, \"#fb9f3a\"], [0.8888888888888888, \"#fdca26\"], [1.0, \"#f0f921\"]], \"type\": \"heatmap\"}], \"heatmapgl\": [{\"colorbar\": {\"outlinewidth\": 0, \"ticks\": \"\"}, \"colorscale\": [[0.0, \"#0d0887\"], [0.1111111111111111, \"#46039f\"], [0.2222222222222222, \"#7201a8\"], [0.3333333333333333, \"#9c179e\"], [0.4444444444444444, \"#bd3786\"], [0.5555555555555556, \"#d8576b\"], [0.6666666666666666, \"#ed7953\"], [0.7777777777777778, \"#fb9f3a\"], [0.8888888888888888, \"#fdca26\"], [1.0, \"#f0f921\"]], \"type\": \"heatmapgl\"}], \"histogram\": [{\"marker\": {\"colorbar\": {\"outlinewidth\": 0, \"ticks\": \"\"}}, \"type\": \"histogram\"}], \"histogram2d\": [{\"colorbar\": {\"outlinewidth\": 0, \"ticks\": \"\"}, \"colorscale\": [[0.0, \"#0d0887\"], [0.1111111111111111, \"#46039f\"], [0.2222222222222222, \"#7201a8\"], [0.3333333333333333, \"#9c179e\"], [0.4444444444444444, \"#bd3786\"], [0.5555555555555556, \"#d8576b\"], [0.6666666666666666, \"#ed7953\"], [0.7777777777777778, \"#fb9f3a\"], [0.8888888888888888, \"#fdca26\"], [1.0, \"#f0f921\"]], \"type\": \"histogram2d\"}], \"histogram2dcontour\": [{\"colorbar\": {\"outlinewidth\": 0, \"ticks\": \"\"}, \"colorscale\": [[0.0, \"#0d0887\"], [0.1111111111111111, \"#46039f\"], [0.2222222222222222, \"#7201a8\"], [0.3333333333333333, \"#9c179e\"], [0.4444444444444444, \"#bd3786\"], [0.5555555555555556, \"#d8576b\"], [0.6666666666666666, \"#ed7953\"], [0.7777777777777778, \"#fb9f3a\"], [0.8888888888888888, \"#fdca26\"], [1.0, \"#f0f921\"]], \"type\": \"histogram2dcontour\"}], \"mesh3d\": [{\"colorbar\": {\"outlinewidth\": 0, \"ticks\": \"\"}, \"type\": \"mesh3d\"}], \"parcoords\": [{\"line\": {\"colorbar\": {\"outlinewidth\": 0, \"ticks\": \"\"}}, \"type\": \"parcoords\"}], \"pie\": [{\"automargin\": true, \"type\": \"pie\"}], \"scatter\": [{\"marker\": {\"colorbar\": {\"outlinewidth\": 0, \"ticks\": \"\"}}, \"type\": \"scatter\"}], \"scatter3d\": [{\"line\": {\"colorbar\": {\"outlinewidth\": 0, \"ticks\": \"\"}}, \"marker\": {\"colorbar\": {\"outlinewidth\": 0, \"ticks\": \"\"}}, \"type\": \"scatter3d\"}], \"scattercarpet\": [{\"marker\": {\"colorbar\": {\"outlinewidth\": 0, \"ticks\": \"\"}}, \"type\": \"scattercarpet\"}], \"scattergeo\": [{\"marker\": {\"colorbar\": {\"outlinewidth\": 0, \"ticks\": \"\"}}, \"type\": \"scattergeo\"}], \"scattergl\": [{\"marker\": {\"colorbar\": {\"outlinewidth\": 0, \"ticks\": \"\"}}, \"type\": \"scattergl\"}], \"scattermapbox\": [{\"marker\": {\"colorbar\": {\"outlinewidth\": 0, \"ticks\": \"\"}}, \"type\": \"scattermapbox\"}], \"scatterpolar\": [{\"marker\": {\"colorbar\": {\"outlinewidth\": 0, \"ticks\": \"\"}}, \"type\": \"scatterpolar\"}], \"scatterpolargl\": [{\"marker\": {\"colorbar\": {\"outlinewidth\": 0, \"ticks\": \"\"}}, \"type\": \"scatterpolargl\"}], \"scatterternary\": [{\"marker\": {\"colorbar\": {\"outlinewidth\": 0, \"ticks\": \"\"}}, \"type\": \"scatterternary\"}], \"surface\": [{\"colorbar\": {\"outlinewidth\": 0, \"ticks\": \"\"}, \"colorscale\": [[0.0, \"#0d0887\"], [0.1111111111111111, \"#46039f\"], [0.2222222222222222, \"#7201a8\"], [0.3333333333333333, \"#9c179e\"], [0.4444444444444444, \"#bd3786\"], [0.5555555555555556, \"#d8576b\"], [0.6666666666666666, \"#ed7953\"], [0.7777777777777778, \"#fb9f3a\"], [0.8888888888888888, \"#fdca26\"], [1.0, \"#f0f921\"]], \"type\": \"surface\"}], \"table\": [{\"cells\": {\"fill\": {\"color\": \"#EBF0F8\"}, \"line\": {\"color\": \"white\"}}, \"header\": {\"fill\": {\"color\": \"#C8D4E3\"}, \"line\": {\"color\": \"white\"}}, \"type\": \"table\"}]}, \"layout\": {\"annotationdefaults\": {\"arrowcolor\": \"#2a3f5f\", \"arrowhead\": 0, \"arrowwidth\": 1}, \"coloraxis\": {\"colorbar\": {\"outlinewidth\": 0, \"ticks\": \"\"}}, \"colorscale\": {\"diverging\": [[0, \"#8e0152\"], [0.1, \"#c51b7d\"], [0.2, \"#de77ae\"], [0.3, \"#f1b6da\"], [0.4, \"#fde0ef\"], [0.5, \"#f7f7f7\"], [0.6, \"#e6f5d0\"], [0.7, \"#b8e186\"], [0.8, \"#7fbc41\"], [0.9, \"#4d9221\"], [1, \"#276419\"]], \"sequential\": [[0.0, \"#0d0887\"], [0.1111111111111111, \"#46039f\"], [0.2222222222222222, \"#7201a8\"], [0.3333333333333333, \"#9c179e\"], [0.4444444444444444, \"#bd3786\"], [0.5555555555555556, \"#d8576b\"], [0.6666666666666666, \"#ed7953\"], [0.7777777777777778, \"#fb9f3a\"], [0.8888888888888888, \"#fdca26\"], [1.0, \"#f0f921\"]], \"sequentialminus\": [[0.0, \"#0d0887\"], [0.1111111111111111, \"#46039f\"], [0.2222222222222222, \"#7201a8\"], [0.3333333333333333, \"#9c179e\"], [0.4444444444444444, \"#bd3786\"], [0.5555555555555556, \"#d8576b\"], [0.6666666666666666, \"#ed7953\"], [0.7777777777777778, \"#fb9f3a\"], [0.8888888888888888, \"#fdca26\"], [1.0, \"#f0f921\"]]}, \"colorway\": [\"#636efa\", \"#EF553B\", \"#00cc96\", \"#ab63fa\", \"#FFA15A\", \"#19d3f3\", \"#FF6692\", \"#B6E880\", \"#FF97FF\", \"#FECB52\"], \"font\": {\"color\": \"#2a3f5f\"}, \"geo\": {\"bgcolor\": \"white\", \"lakecolor\": \"white\", \"landcolor\": \"#E5ECF6\", \"showlakes\": true, \"showland\": true, \"subunitcolor\": \"white\"}, \"hoverlabel\": {\"align\": \"left\"}, \"hovermode\": \"closest\", \"mapbox\": {\"style\": \"light\"}, \"paper_bgcolor\": \"white\", \"plot_bgcolor\": \"#E5ECF6\", \"polar\": {\"angularaxis\": {\"gridcolor\": \"white\", \"linecolor\": \"white\", \"ticks\": \"\"}, \"bgcolor\": \"#E5ECF6\", \"radialaxis\": {\"gridcolor\": \"white\", \"linecolor\": \"white\", \"ticks\": \"\"}}, \"scene\": {\"xaxis\": {\"backgroundcolor\": \"#E5ECF6\", \"gridcolor\": \"white\", \"gridwidth\": 2, \"linecolor\": \"white\", \"showbackground\": true, \"ticks\": \"\", \"zerolinecolor\": \"white\"}, \"yaxis\": {\"backgroundcolor\": \"#E5ECF6\", \"gridcolor\": \"white\", \"gridwidth\": 2, \"linecolor\": \"white\", \"showbackground\": true, \"ticks\": \"\", \"zerolinecolor\": \"white\"}, \"zaxis\": {\"backgroundcolor\": \"#E5ECF6\", \"gridcolor\": \"white\", \"gridwidth\": 2, \"linecolor\": \"white\", \"showbackground\": true, \"ticks\": \"\", \"zerolinecolor\": \"white\"}}, \"shapedefaults\": {\"line\": {\"color\": \"#2a3f5f\"}}, \"ternary\": {\"aaxis\": {\"gridcolor\": \"white\", \"linecolor\": \"white\", \"ticks\": \"\"}, \"baxis\": {\"gridcolor\": \"white\", \"linecolor\": \"white\", \"ticks\": \"\"}, \"bgcolor\": \"#E5ECF6\", \"caxis\": {\"gridcolor\": \"white\", \"linecolor\": \"white\", \"ticks\": \"\"}}, \"title\": {\"x\": 0.05}, \"xaxis\": {\"automargin\": true, \"gridcolor\": \"white\", \"linecolor\": \"white\", \"ticks\": \"\", \"title\": {\"standoff\": 15}, \"zerolinecolor\": \"white\", \"zerolinewidth\": 2}, \"yaxis\": {\"automargin\": true, \"gridcolor\": \"white\", \"linecolor\": \"white\", \"ticks\": \"\", \"title\": {\"standoff\": 15}, \"zerolinecolor\": \"white\", \"zerolinewidth\": 2}}}, \"xaxis\": {\"anchor\": \"y\", \"domain\": [0.0, 0.7363], \"title\": {\"text\": \"State/UTs\"}}, \"xaxis2\": {\"anchor\": \"y2\", \"domain\": [0.7413, 1.0], \"matches\": \"x2\", \"showgrid\": true, \"showline\": false, \"showticklabels\": false, \"ticks\": \"\"}, \"xaxis3\": {\"anchor\": \"y3\", \"domain\": [0.0, 0.7363], \"matches\": \"x\", \"showgrid\": true, \"showticklabels\": false}, \"xaxis4\": {\"anchor\": \"y4\", \"domain\": [0.7413, 1.0], \"matches\": \"x2\", \"showgrid\": true, \"showline\": false, \"showticklabels\": false, \"ticks\": \"\"}, \"yaxis\": {\"anchor\": \"x\", \"domain\": [0.0, 0.7326], \"title\": {\"text\": \"Total Cases\"}}, \"yaxis2\": {\"anchor\": \"x2\", \"domain\": [0.0, 0.7326], \"matches\": \"y\", \"showgrid\": true, \"showticklabels\": false}, \"yaxis3\": {\"anchor\": \"x3\", \"domain\": [0.7426, 1.0], \"matches\": \"y3\", \"showgrid\": true, \"showline\": false, \"showticklabels\": false, \"ticks\": \"\"}, \"yaxis4\": {\"anchor\": \"x4\", \"domain\": [0.7426, 1.0], \"matches\": \"y3\", \"showgrid\": true, \"showline\": false, \"showticklabels\": false, \"ticks\": \"\"}},\n",
              "                        {\"responsive\": true}\n",
              "                    ).then(function(){\n",
              "                            \n",
              "var gd = document.getElementById('b18584d2-75d4-4a25-861f-077b478bb1a8');\n",
              "var x = new MutationObserver(function (mutations, observer) {{\n",
              "        var display = window.getComputedStyle(gd).display;\n",
              "        if (!display || display === 'none') {{\n",
              "            console.log([gd, 'removed!']);\n",
              "            Plotly.purge(gd);\n",
              "            observer.disconnect();\n",
              "        }}\n",
              "}});\n",
              "\n",
              "// Listen for the removal of the full notebook cells\n",
              "var notebookContainer = gd.closest('#notebook-container');\n",
              "if (notebookContainer) {{\n",
              "    x.observe(notebookContainer, {childList: true});\n",
              "}}\n",
              "\n",
              "// Listen for the clearing of the current output cell\n",
              "var outputEl = gd.closest('.output');\n",
              "if (outputEl) {{\n",
              "    x.observe(outputEl, {childList: true});\n",
              "}}\n",
              "\n",
              "                        })\n",
              "                };\n",
              "                \n",
              "            </script>\n",
              "        </div>\n",
              "</body>\n",
              "</html>"
            ]
          },
          "metadata": {}
        }
      ]
    },
    {
      "cell_type": "code",
      "metadata": {
        "execution": {
          "iopub.status.busy": "2021-09-20T11:29:03.727038Z",
          "iopub.execute_input": "2021-09-20T11:29:03.727329Z",
          "iopub.status.idle": "2021-09-20T11:29:05.933282Z",
          "shell.execute_reply.started": "2021-09-20T11:29:03.727292Z",
          "shell.execute_reply": "2021-09-20T11:29:05.932318Z"
        },
        "trusted": true,
        "colab": {
          "base_uri": "https://localhost:8080/",
          "height": 606
        },
        "id": "R_viS2TzgOZK",
        "outputId": "3bdc9af9-1c60-4b65-f57b-b04255351b1d"
      },
      "source": [
        "sns.relplot(x = 'Total Cases', y ='Discharged', hue = 'State/UTs', data = df)"
      ],
      "execution_count": 100,
      "outputs": [
        {
          "output_type": "execute_result",
          "data": {
            "text/plain": [
              "<seaborn.axisgrid.FacetGrid at 0x7fc4fed5a610>"
            ]
          },
          "metadata": {},
          "execution_count": 100
        },
        {
          "output_type": "display_data",
          "data": {
            "image/png": "[encoded data removed]",
            "text/plain": [
              "<Figure size 507.375x360 with 1 Axes>"
            ]
          },
          "metadata": {
            "needs_background": "light"
          }
        }
      ]
    },
    {
      "cell_type": "code",
      "metadata": {
        "execution": {
          "iopub.status.busy": "2021-09-20T11:29:05.934449Z",
          "iopub.execute_input": "2021-09-20T11:29:05.934679Z",
          "iopub.status.idle": "2021-09-20T11:29:06.322326Z",
          "shell.execute_reply.started": "2021-09-20T11:29:05.934644Z",
          "shell.execute_reply": "2021-09-20T11:29:06.321463Z"
        },
        "trusted": true,
        "colab": {
          "base_uri": "https://localhost:8080/",
          "height": 542
        },
        "id": "H3iaLv-tgOZK",
        "outputId": "df4c45b7-c7d0-4a4c-fbbd-0949719f5c1c"
      },
      "source": [
        "fig = px.scatter_matrix(df, dimensions=[\"Total Cases\", \"Active\", \"Discharged\", \"Deaths\"], color=df['State/UTs'])\n",
        "fig.show()"
      ],
      "execution_count": 101,
      "outputs": [
        {
          "output_type": "display_data",
          "data": {
            "text/html": [
              "<html>\n",
              "<head><meta charset=\"utf-8\" /></head>\n",
              "<body>\n",
              "    <div>\n",
              "            <script src=\"https://cdnjs.cloudflare.com/ajax/libs/mathjax/2.7.5/MathJax.js?config=TeX-AMS-MML_SVG\"></script><script type=\"text/javascript\">if (window.MathJax) {MathJax.Hub.Config({SVG: {font: \"STIX-Web\"}});}</script>\n",
              "                <script type=\"text/javascript\">window.PlotlyConfig = {MathJaxConfig: 'local'};</script>\n",
              "        <script src=\"https://cdn.plot.ly/plotly-latest.min.js\"></script>    \n",
              "            <div id=\"9d8f09c5-55f9-4fc4-94bf-71ec3a7c7a61\" class=\"plotly-graph-div\" style=\"height:525px; width:100%;\"></div>\n",
              "            <script type=\"text/javascript\">\n",
              "                \n",
              "                    window.PLOTLYENV=window.PLOTLYENV || {};\n",
              "                    \n",
              "                if (document.getElementById(\"9d8f09c5-55f9-4fc4-94bf-71ec3a7c7a61\")) {\n",
              "                    Plotly.newPlot(\n",
              "                        '9d8f09c5-55f9-4fc4-94bf-71ec3a7c7a61',\n",
              "                        [{\"dimensions\": [{\"axis\": {\"matches\": true}, \"label\": \"Total Cases\", \"values\": [7584]}, {\"axis\": {\"matches\": true}, \"label\": \"Active\", \"values\": [8]}, {\"axis\": {\"matches\": true}, \"label\": \"Discharged\", \"values\": [7447]}, {\"axis\": {\"matches\": true}, \"label\": \"Deaths\", \"values\": [129]}], \"hoverlabel\": {\"namelength\": 0}, \"hovertemplate\": \"State/UTs=Andaman and Nicobar<br>%{xaxis.title.text}=%{x}<br>%{yaxis.title.text}=%{y}\", \"legendgroup\": \"State/UTs=Andaman and Nicobar\", \"marker\": {\"color\": \"#636efa\", \"symbol\": \"circle\"}, \"name\": \"State/UTs=Andaman and Nicobar\", \"showlegend\": true, \"type\": \"splom\"}, {\"dimensions\": [{\"axis\": {\"matches\": true}, \"label\": \"Total Cases\", \"values\": [2030849]}, {\"axis\": {\"matches\": true}, \"label\": \"Active\", \"values\": [14652]}, {\"axis\": {\"matches\": true}, \"label\": \"Discharged\", \"values\": [2002187]}, {\"axis\": {\"matches\": true}, \"label\": \"Deaths\", \"values\": [14010]}], \"hoverlabel\": {\"namelength\": 0}, \"hovertemplate\": \"State/UTs=Andhra Pradesh<br>%{xaxis.title.text}=%{x}<br>%{yaxis.title.text}=%{y}\", \"legendgroup\": \"State/UTs=Andhra Pradesh\", \"marker\": {\"color\": \"#EF553B\", \"symbol\": \"circle\"}, \"name\": \"State/UTs=Andhra Pradesh\", \"showlegend\": true, \"type\": \"splom\"}, {\"dimensions\": [{\"axis\": {\"matches\": true}, \"label\": \"Total Cases\", \"values\": [53807]}, {\"axis\": {\"matches\": true}, \"label\": \"Active\", \"values\": [533]}, {\"axis\": {\"matches\": true}, \"label\": \"Discharged\", \"values\": [53004]}, {\"axis\": {\"matches\": true}, \"label\": \"Deaths\", \"values\": [270]}], \"hoverlabel\": {\"namelength\": 0}, \"hovertemplate\": \"State/UTs=Arunachal Pradesh<br>%{xaxis.title.text}=%{x}<br>%{yaxis.title.text}=%{y}\", \"legendgroup\": \"State/UTs=Arunachal Pradesh\", \"marker\": {\"color\": \"#00cc96\", \"symbol\": \"circle\"}, \"name\": \"State/UTs=Arunachal Pradesh\", \"showlegend\": true, \"type\": \"splom\"}, {\"dimensions\": [{\"axis\": {\"matches\": true}, \"label\": \"Total Cases\", \"values\": [595669]}, {\"axis\": {\"matches\": true}, \"label\": \"Active\", \"values\": [5615]}, {\"axis\": {\"matches\": true}, \"label\": \"Discharged\", \"values\": [584296]}, {\"axis\": {\"matches\": true}, \"label\": \"Deaths\", \"values\": [5758]}], \"hoverlabel\": {\"namelength\": 0}, \"hovertemplate\": \"State/UTs=Assam<br>%{xaxis.title.text}=%{x}<br>%{yaxis.title.text}=%{y}\", \"legendgroup\": \"State/UTs=Assam\", \"marker\": {\"color\": \"#ab63fa\", \"symbol\": \"circle\"}, \"name\": \"State/UTs=Assam\", \"showlegend\": true, \"type\": \"splom\"}, {\"dimensions\": [{\"axis\": {\"matches\": true}, \"label\": \"Total Cases\", \"values\": [725833]}, {\"axis\": {\"matches\": true}, \"label\": \"Active\", \"values\": [77]}, {\"axis\": {\"matches\": true}, \"label\": \"Discharged\", \"values\": [716098]}, {\"axis\": {\"matches\": true}, \"label\": \"Deaths\", \"values\": [9658]}], \"hoverlabel\": {\"namelength\": 0}, \"hovertemplate\": \"State/UTs=Bihar<br>%{xaxis.title.text}=%{x}<br>%{yaxis.title.text}=%{y}\", \"legendgroup\": \"State/UTs=Bihar\", \"marker\": {\"color\": \"#FFA15A\", \"symbol\": \"circle\"}, \"name\": \"State/UTs=Bihar\", \"showlegend\": true, \"type\": \"splom\"}, {\"dimensions\": [{\"axis\": {\"matches\": true}, \"label\": \"Total Cases\", \"values\": [65160]}, {\"axis\": {\"matches\": true}, \"label\": \"Active\", \"values\": [32]}, {\"axis\": {\"matches\": true}, \"label\": \"Discharged\", \"values\": [64311]}, {\"axis\": {\"matches\": true}, \"label\": \"Deaths\", \"values\": [817]}], \"hoverlabel\": {\"namelength\": 0}, \"hovertemplate\": \"State/UTs=Chandigarh<br>%{xaxis.title.text}=%{x}<br>%{yaxis.title.text}=%{y}\", \"legendgroup\": \"State/UTs=Chandigarh\", \"marker\": {\"color\": \"#19d3f3\", \"symbol\": \"circle\"}, \"name\": \"State/UTs=Chandigarh\", \"showlegend\": true, \"type\": \"splom\"}, {\"dimensions\": [{\"axis\": {\"matches\": true}, \"label\": \"Total Cases\", \"values\": [1004902]}, {\"axis\": {\"matches\": true}, \"label\": \"Active\", \"values\": [376]}, {\"axis\": {\"matches\": true}, \"label\": \"Discharged\", \"values\": [990968]}, {\"axis\": {\"matches\": true}, \"label\": \"Deaths\", \"values\": [13558]}], \"hoverlabel\": {\"namelength\": 0}, \"hovertemplate\": \"State/UTs=Chhattisgarh<br>%{xaxis.title.text}=%{x}<br>%{yaxis.title.text}=%{y}\", \"legendgroup\": \"State/UTs=Chhattisgarh\", \"marker\": {\"color\": \"#FF6692\", \"symbol\": \"circle\"}, \"name\": \"State/UTs=Chhattisgarh\", \"showlegend\": true, \"type\": \"splom\"}, {\"dimensions\": [{\"axis\": {\"matches\": true}, \"label\": \"Total Cases\", \"values\": [10670]}, {\"axis\": {\"matches\": true}, \"label\": \"Active\", \"values\": [5]}, {\"axis\": {\"matches\": true}, \"label\": \"Discharged\", \"values\": [10661]}, {\"axis\": {\"matches\": true}, \"label\": \"Deaths\", \"values\": [4]}], \"hoverlabel\": {\"namelength\": 0}, \"hovertemplate\": \"State/UTs=Daman and Diu<br>%{xaxis.title.text}=%{x}<br>%{yaxis.title.text}=%{y}\", \"legendgroup\": \"State/UTs=Daman and Diu\", \"marker\": {\"color\": \"#B6E880\", \"symbol\": \"circle\"}, \"name\": \"State/UTs=Daman and Diu\", \"showlegend\": true, \"type\": \"splom\"}, {\"dimensions\": [{\"axis\": {\"matches\": true}, \"label\": \"Total Cases\", \"values\": [1438250]}, {\"axis\": {\"matches\": true}, \"label\": \"Active\", \"values\": [377]}, {\"axis\": {\"matches\": true}, \"label\": \"Discharged\", \"values\": [1412790]}, {\"axis\": {\"matches\": true}, \"label\": \"Deaths\", \"values\": [25083]}], \"hoverlabel\": {\"namelength\": 0}, \"hovertemplate\": \"State/UTs=Delhi<br>%{xaxis.title.text}=%{x}<br>%{yaxis.title.text}=%{y}\", \"legendgroup\": \"State/UTs=Delhi\", \"marker\": {\"color\": \"#FF97FF\", \"symbol\": \"circle\"}, \"name\": \"State/UTs=Delhi\", \"showlegend\": true, \"type\": \"splom\"}, {\"dimensions\": [{\"axis\": {\"matches\": true}, \"label\": \"Total Cases\", \"values\": [174891]}, {\"axis\": {\"matches\": true}, \"label\": \"Active\", \"values\": [702]}, {\"axis\": {\"matches\": true}, \"label\": \"Discharged\", \"values\": [170972]}, {\"axis\": {\"matches\": true}, \"label\": \"Deaths\", \"values\": [3217]}], \"hoverlabel\": {\"namelength\": 0}, \"hovertemplate\": \"State/UTs=Goa<br>%{xaxis.title.text}=%{x}<br>%{yaxis.title.text}=%{y}\", \"legendgroup\": \"State/UTs=Goa\", \"marker\": {\"color\": \"#FECB52\", \"symbol\": \"circle\"}, \"name\": \"State/UTs=Goa\", \"showlegend\": true, \"type\": \"splom\"}, {\"dimensions\": [{\"axis\": {\"matches\": true}, \"label\": \"Total Cases\", \"values\": [825629]}, {\"axis\": {\"matches\": true}, \"label\": \"Active\", \"values\": [161]}, {\"axis\": {\"matches\": true}, \"label\": \"Discharged\", \"values\": [815386]}, {\"axis\": {\"matches\": true}, \"label\": \"Deaths\", \"values\": [10082]}], \"hoverlabel\": {\"namelength\": 0}, \"hovertemplate\": \"State/UTs=Gujarat<br>%{xaxis.title.text}=%{x}<br>%{yaxis.title.text}=%{y}\", \"legendgroup\": \"State/UTs=Gujarat\", \"marker\": {\"color\": \"#636efa\", \"symbol\": \"circle\"}, \"name\": \"State/UTs=Gujarat\", \"showlegend\": true, \"type\": \"splom\"}, {\"dimensions\": [{\"axis\": {\"matches\": true}, \"label\": \"Total Cases\", \"values\": [770659]}, {\"axis\": {\"matches\": true}, \"label\": \"Active\", \"values\": [351]}, {\"axis\": {\"matches\": true}, \"label\": \"Discharged\", \"values\": [760501]}, {\"axis\": {\"matches\": true}, \"label\": \"Deaths\", \"values\": [9807]}], \"hoverlabel\": {\"namelength\": 0}, \"hovertemplate\": \"State/UTs=Haryana<br>%{xaxis.title.text}=%{x}<br>%{yaxis.title.text}=%{y}\", \"legendgroup\": \"State/UTs=Haryana\", \"marker\": {\"color\": \"#EF553B\", \"symbol\": \"circle\"}, \"name\": \"State/UTs=Haryana\", \"showlegend\": true, \"type\": \"splom\"}, {\"dimensions\": [{\"axis\": {\"matches\": true}, \"label\": \"Total Cases\", \"values\": [215893]}, {\"axis\": {\"matches\": true}, \"label\": \"Active\", \"values\": [1521]}, {\"axis\": {\"matches\": true}, \"label\": \"Discharged\", \"values\": [210733]}, {\"axis\": {\"matches\": true}, \"label\": \"Deaths\", \"values\": [3639]}], \"hoverlabel\": {\"namelength\": 0}, \"hovertemplate\": \"State/UTs=Himachal Pradesh<br>%{xaxis.title.text}=%{x}<br>%{yaxis.title.text}=%{y}\", \"legendgroup\": \"State/UTs=Himachal Pradesh\", \"marker\": {\"color\": \"#00cc96\", \"symbol\": \"circle\"}, \"name\": \"State/UTs=Himachal Pradesh\", \"showlegend\": true, \"type\": \"splom\"}, {\"dimensions\": [{\"axis\": {\"matches\": true}, \"label\": \"Total Cases\", \"values\": [326990]}, {\"axis\": {\"matches\": true}, \"label\": \"Active\", \"values\": [1247]}, {\"axis\": {\"matches\": true}, \"label\": \"Discharged\", \"values\": [321329]}, {\"axis\": {\"matches\": true}, \"label\": \"Deaths\", \"values\": [4414]}], \"hoverlabel\": {\"namelength\": 0}, \"hovertemplate\": \"State/UTs=Jammu and Kashmir<br>%{xaxis.title.text}=%{x}<br>%{yaxis.title.text}=%{y}\", \"legendgroup\": \"State/UTs=Jammu and Kashmir\", \"marker\": {\"color\": \"#ab63fa\", \"symbol\": \"circle\"}, \"name\": \"State/UTs=Jammu and Kashmir\", \"showlegend\": true, \"type\": \"splom\"}, {\"dimensions\": [{\"axis\": {\"matches\": true}, \"label\": \"Total Cases\", \"values\": [348079]}, {\"axis\": {\"matches\": true}, \"label\": \"Active\", \"values\": [117]}, {\"axis\": {\"matches\": true}, \"label\": \"Discharged\", \"values\": [342829]}, {\"axis\": {\"matches\": true}, \"label\": \"Deaths\", \"values\": [5133]}], \"hoverlabel\": {\"namelength\": 0}, \"hovertemplate\": \"State/UTs=Jharkhand<br>%{xaxis.title.text}=%{x}<br>%{yaxis.title.text}=%{y}\", \"legendgroup\": \"State/UTs=Jharkhand\", \"marker\": {\"color\": \"#FFA15A\", \"symbol\": \"circle\"}, \"name\": \"State/UTs=Jharkhand\", \"showlegend\": true, \"type\": \"splom\"}, {\"dimensions\": [{\"axis\": {\"matches\": true}, \"label\": \"Total Cases\", \"values\": [2962408]}, {\"axis\": {\"matches\": true}, \"label\": \"Active\", \"values\": [16269]}, {\"axis\": {\"matches\": true}, \"label\": \"Discharged\", \"values\": [2908622]}, {\"axis\": {\"matches\": true}, \"label\": \"Deaths\", \"values\": [37517]}], \"hoverlabel\": {\"namelength\": 0}, \"hovertemplate\": \"State/UTs=Karnataka<br>%{xaxis.title.text}=%{x}<br>%{yaxis.title.text}=%{y}\", \"legendgroup\": \"State/UTs=Karnataka\", \"marker\": {\"color\": \"#19d3f3\", \"symbol\": \"circle\"}, \"name\": \"State/UTs=Karnataka\", \"showlegend\": true, \"type\": \"splom\"}, {\"dimensions\": [{\"axis\": {\"matches\": true}, \"label\": \"Total Cases\", \"values\": [4390489]}, {\"axis\": {\"matches\": true}, \"label\": \"Active\", \"values\": [209335]}, {\"axis\": {\"matches\": true}, \"label\": \"Discharged\", \"values\": [4158504]}, {\"axis\": {\"matches\": true}, \"label\": \"Deaths\", \"values\": [22650]}], \"hoverlabel\": {\"namelength\": 0}, \"hovertemplate\": \"State/UTs=Kerala<br>%{xaxis.title.text}=%{x}<br>%{yaxis.title.text}=%{y}\", \"legendgroup\": \"State/UTs=Kerala\", \"marker\": {\"color\": \"#FF6692\", \"symbol\": \"circle\"}, \"name\": \"State/UTs=Kerala\", \"showlegend\": true, \"type\": \"splom\"}, {\"dimensions\": [{\"axis\": {\"matches\": true}, \"label\": \"Total Cases\", \"values\": [20608]}, {\"axis\": {\"matches\": true}, \"label\": \"Active\", \"values\": [30]}, {\"axis\": {\"matches\": true}, \"label\": \"Discharged\", \"values\": [20371]}, {\"axis\": {\"matches\": true}, \"label\": \"Deaths\", \"values\": [207]}], \"hoverlabel\": {\"namelength\": 0}, \"hovertemplate\": \"State/UTs=Ladakh<br>%{xaxis.title.text}=%{x}<br>%{yaxis.title.text}=%{y}\", \"legendgroup\": \"State/UTs=Ladakh\", \"marker\": {\"color\": \"#B6E880\", \"symbol\": \"circle\"}, \"name\": \"State/UTs=Ladakh\", \"showlegend\": true, \"type\": \"splom\"}, {\"dimensions\": [{\"axis\": {\"matches\": true}, \"label\": \"Total Cases\", \"values\": [10353]}, {\"axis\": {\"matches\": true}, \"label\": \"Active\", \"values\": [5]}, {\"axis\": {\"matches\": true}, \"label\": \"Discharged\", \"values\": [10297]}, {\"axis\": {\"matches\": true}, \"label\": \"Deaths\", \"values\": [51]}], \"hoverlabel\": {\"namelength\": 0}, \"hovertemplate\": \"State/UTs=Lakshadweep<br>%{xaxis.title.text}=%{x}<br>%{yaxis.title.text}=%{y}\", \"legendgroup\": \"State/UTs=Lakshadweep\", \"marker\": {\"color\": \"#FF97FF\", \"symbol\": \"circle\"}, \"name\": \"State/UTs=Lakshadweep\", \"showlegend\": true, \"type\": \"splom\"}, {\"dimensions\": [{\"axis\": {\"matches\": true}, \"label\": \"Total Cases\", \"values\": [792353]}, {\"axis\": {\"matches\": true}, \"label\": \"Active\", \"values\": [131]}, {\"axis\": {\"matches\": true}, \"label\": \"Discharged\", \"values\": [781705]}, {\"axis\": {\"matches\": true}, \"label\": \"Deaths\", \"values\": [10517]}], \"hoverlabel\": {\"namelength\": 0}, \"hovertemplate\": \"State/UTs=Madhya Pradesh<br>%{xaxis.title.text}=%{x}<br>%{yaxis.title.text}=%{y}\", \"legendgroup\": \"State/UTs=Madhya Pradesh\", \"marker\": {\"color\": \"#FECB52\", \"symbol\": \"circle\"}, \"name\": \"State/UTs=Madhya Pradesh\", \"showlegend\": true, \"type\": \"splom\"}, {\"dimensions\": [{\"axis\": {\"matches\": true}, \"label\": \"Total Cases\", \"values\": [6500617]}, {\"axis\": {\"matches\": true}, \"label\": \"Active\", \"values\": [53427]}, {\"axis\": {\"matches\": true}, \"label\": \"Discharged\", \"values\": [6309021]}, {\"axis\": {\"matches\": true}, \"label\": \"Deaths\", \"values\": [138169]}], \"hoverlabel\": {\"namelength\": 0}, \"hovertemplate\": \"State/UTs=Maharashtra<br>%{xaxis.title.text}=%{x}<br>%{yaxis.title.text}=%{y}\", \"legendgroup\": \"State/UTs=Maharashtra\", \"marker\": {\"color\": \"#636efa\", \"symbol\": \"circle\"}, \"name\": \"State/UTs=Maharashtra\", \"showlegend\": true, \"type\": \"splom\"}, {\"dimensions\": [{\"axis\": {\"matches\": true}, \"label\": \"Total Cases\", \"values\": [117230]}, {\"axis\": {\"matches\": true}, \"label\": \"Active\", \"values\": [2617]}, {\"axis\": {\"matches\": true}, \"label\": \"Discharged\", \"values\": [112801]}, {\"axis\": {\"matches\": true}, \"label\": \"Deaths\", \"values\": [1812]}], \"hoverlabel\": {\"namelength\": 0}, \"hovertemplate\": \"State/UTs=Manipur<br>%{xaxis.title.text}=%{x}<br>%{yaxis.title.text}=%{y}\", \"legendgroup\": \"State/UTs=Manipur\", \"marker\": {\"color\": \"#EF553B\", \"symbol\": \"circle\"}, \"name\": \"State/UTs=Manipur\", \"showlegend\": true, \"type\": \"splom\"}, {\"dimensions\": [{\"axis\": {\"matches\": true}, \"label\": \"Total Cases\", \"values\": [78359]}, {\"axis\": {\"matches\": true}, \"label\": \"Active\", \"values\": [1859]}, {\"axis\": {\"matches\": true}, \"label\": \"Discharged\", \"values\": [75141]}, {\"axis\": {\"matches\": true}, \"label\": \"Deaths\", \"values\": [1359]}], \"hoverlabel\": {\"namelength\": 0}, \"hovertemplate\": \"State/UTs=Meghalaya<br>%{xaxis.title.text}=%{x}<br>%{yaxis.title.text}=%{y}\", \"legendgroup\": \"State/UTs=Meghalaya\", \"marker\": {\"color\": \"#00cc96\", \"symbol\": \"circle\"}, \"name\": \"State/UTs=Meghalaya\", \"showlegend\": true, \"type\": \"splom\"}, {\"dimensions\": [{\"axis\": {\"matches\": true}, \"label\": \"Total Cases\", \"values\": [72883]}, {\"axis\": {\"matches\": true}, \"label\": \"Active\", \"values\": [13369]}, {\"axis\": {\"matches\": true}, \"label\": \"Discharged\", \"values\": [59273]}, {\"axis\": {\"matches\": true}, \"label\": \"Deaths\", \"values\": [241]}], \"hoverlabel\": {\"namelength\": 0}, \"hovertemplate\": \"State/UTs=Mizoram<br>%{xaxis.title.text}=%{x}<br>%{yaxis.title.text}=%{y}\", \"legendgroup\": \"State/UTs=Mizoram\", \"marker\": {\"color\": \"#ab63fa\", \"symbol\": \"circle\"}, \"name\": \"State/UTs=Mizoram\", \"showlegend\": true, \"type\": \"splom\"}, {\"dimensions\": [{\"axis\": {\"matches\": true}, \"label\": \"Total Cases\", \"values\": [30657]}, {\"axis\": {\"matches\": true}, \"label\": \"Active\", \"values\": [580]}, {\"axis\": {\"matches\": true}, \"label\": \"Discharged\", \"values\": [29432]}, {\"axis\": {\"matches\": true}, \"label\": \"Deaths\", \"values\": [645]}], \"hoverlabel\": {\"namelength\": 0}, \"hovertemplate\": \"State/UTs=Nagaland<br>%{xaxis.title.text}=%{x}<br>%{yaxis.title.text}=%{y}\", \"legendgroup\": \"State/UTs=Nagaland\", \"marker\": {\"color\": \"#FFA15A\", \"symbol\": \"circle\"}, \"name\": \"State/UTs=Nagaland\", \"showlegend\": true, \"type\": \"splom\"}, {\"dimensions\": [{\"axis\": {\"matches\": true}, \"label\": \"Total Cases\", \"values\": [1016833]}, {\"axis\": {\"matches\": true}, \"label\": \"Active\", \"values\": [5919]}, {\"axis\": {\"matches\": true}, \"label\": \"Discharged\", \"values\": [1002810]}, {\"axis\": {\"matches\": true}, \"label\": \"Deaths\", \"values\": [8104]}], \"hoverlabel\": {\"namelength\": 0}, \"hovertemplate\": \"State/UTs=Odisha<br>%{xaxis.title.text}=%{x}<br>%{yaxis.title.text}=%{y}\", \"legendgroup\": \"State/UTs=Odisha\", \"marker\": {\"color\": \"#19d3f3\", \"symbol\": \"circle\"}, \"name\": \"State/UTs=Odisha\", \"showlegend\": true, \"type\": \"splom\"}, {\"dimensions\": [{\"axis\": {\"matches\": true}, \"label\": \"Total Cases\", \"values\": [124836]}, {\"axis\": {\"matches\": true}, \"label\": \"Active\", \"values\": [860]}, {\"axis\": {\"matches\": true}, \"label\": \"Discharged\", \"values\": [122153]}, {\"axis\": {\"matches\": true}, \"label\": \"Deaths\", \"values\": [1823]}], \"hoverlabel\": {\"namelength\": 0}, \"hovertemplate\": \"State/UTs=Puducherry<br>%{xaxis.title.text}=%{x}<br>%{yaxis.title.text}=%{y}\", \"legendgroup\": \"State/UTs=Puducherry\", \"marker\": {\"color\": \"#FF6692\", \"symbol\": \"circle\"}, \"name\": \"State/UTs=Puducherry\", \"showlegend\": true, \"type\": \"splom\"}, {\"dimensions\": [{\"axis\": {\"matches\": true}, \"label\": \"Total Cases\", \"values\": [601072]}, {\"axis\": {\"matches\": true}, \"label\": \"Active\", \"values\": [309]}, {\"axis\": {\"matches\": true}, \"label\": \"Discharged\", \"values\": [584306]}, {\"axis\": {\"matches\": true}, \"label\": \"Deaths\", \"values\": [16457]}], \"hoverlabel\": {\"namelength\": 0}, \"hovertemplate\": \"State/UTs=Punjab<br>%{xaxis.title.text}=%{x}<br>%{yaxis.title.text}=%{y}\", \"legendgroup\": \"State/UTs=Punjab\", \"marker\": {\"color\": \"#B6E880\", \"symbol\": \"circle\"}, \"name\": \"State/UTs=Punjab\", \"showlegend\": true, \"type\": \"splom\"}, {\"dimensions\": [{\"axis\": {\"matches\": true}, \"label\": \"Total Cases\", \"values\": [954198]}, {\"axis\": {\"matches\": true}, \"label\": \"Active\", \"values\": [90]}, {\"axis\": {\"matches\": true}, \"label\": \"Discharged\", \"values\": [945154]}, {\"axis\": {\"matches\": true}, \"label\": \"Deaths\", \"values\": [8954]}], \"hoverlabel\": {\"namelength\": 0}, \"hovertemplate\": \"State/UTs=Rajasthan<br>%{xaxis.title.text}=%{x}<br>%{yaxis.title.text}=%{y}\", \"legendgroup\": \"State/UTs=Rajasthan\", \"marker\": {\"color\": \"#FF97FF\", \"symbol\": \"circle\"}, \"name\": \"State/UTs=Rajasthan\", \"showlegend\": true, \"type\": \"splom\"}, {\"dimensions\": [{\"axis\": {\"matches\": true}, \"label\": \"Total Cases\", \"values\": [30650]}, {\"axis\": {\"matches\": true}, \"label\": \"Active\", \"values\": [809]}, {\"axis\": {\"matches\": true}, \"label\": \"Discharged\", \"values\": [29464]}, {\"axis\": {\"matches\": true}, \"label\": \"Deaths\", \"values\": [377]}], \"hoverlabel\": {\"namelength\": 0}, \"hovertemplate\": \"State/UTs=Sikkim<br>%{xaxis.title.text}=%{x}<br>%{yaxis.title.text}=%{y}\", \"legendgroup\": \"State/UTs=Sikkim\", \"marker\": {\"color\": \"#FECB52\", \"symbol\": \"circle\"}, \"name\": \"State/UTs=Sikkim\", \"showlegend\": true, \"type\": \"splom\"}, {\"dimensions\": [{\"axis\": {\"matches\": true}, \"label\": \"Total Cases\", \"values\": [2635419]}, {\"axis\": {\"matches\": true}, \"label\": \"Active\", \"values\": [16522]}, {\"axis\": {\"matches\": true}, \"label\": \"Discharged\", \"values\": [2583707]}, {\"axis\": {\"matches\": true}, \"label\": \"Deaths\", \"values\": [35190]}], \"hoverlabel\": {\"namelength\": 0}, \"hovertemplate\": \"State/UTs=Tamil Nadu<br>%{xaxis.title.text}=%{x}<br>%{yaxis.title.text}=%{y}\", \"legendgroup\": \"State/UTs=Tamil Nadu\", \"marker\": {\"color\": \"#636efa\", \"symbol\": \"circle\"}, \"name\": \"State/UTs=Tamil Nadu\", \"showlegend\": true, \"type\": \"splom\"}, {\"dimensions\": [{\"axis\": {\"matches\": true}, \"label\": \"Total Cases\", \"values\": [661866]}, {\"axis\": {\"matches\": true}, \"label\": \"Active\", \"values\": [5253]}, {\"axis\": {\"matches\": true}, \"label\": \"Discharged\", \"values\": [652716]}, {\"axis\": {\"matches\": true}, \"label\": \"Deaths\", \"values\": [3897]}], \"hoverlabel\": {\"namelength\": 0}, \"hovertemplate\": \"State/UTs=Telengana<br>%{xaxis.title.text}=%{x}<br>%{yaxis.title.text}=%{y}\", \"legendgroup\": \"State/UTs=Telengana\", \"marker\": {\"color\": \"#EF553B\", \"symbol\": \"circle\"}, \"name\": \"State/UTs=Telengana\", \"showlegend\": true, \"type\": \"splom\"}, {\"dimensions\": [{\"axis\": {\"matches\": true}, \"label\": \"Total Cases\", \"values\": [83672]}, {\"axis\": {\"matches\": true}, \"label\": \"Active\", \"values\": [485]}, {\"axis\": {\"matches\": true}, \"label\": \"Discharged\", \"values\": [82382]}, {\"axis\": {\"matches\": true}, \"label\": \"Deaths\", \"values\": [805]}], \"hoverlabel\": {\"namelength\": 0}, \"hovertemplate\": \"State/UTs=Tripura<br>%{xaxis.title.text}=%{x}<br>%{yaxis.title.text}=%{y}\", \"legendgroup\": \"State/UTs=Tripura\", \"marker\": {\"color\": \"#00cc96\", \"symbol\": \"circle\"}, \"name\": \"State/UTs=Tripura\", \"showlegend\": true, \"type\": \"splom\"}, {\"dimensions\": [{\"axis\": {\"matches\": true}, \"label\": \"Total Cases\", \"values\": [1709555]}, {\"axis\": {\"matches\": true}, \"label\": \"Active\", \"values\": [175]}, {\"axis\": {\"matches\": true}, \"label\": \"Discharged\", \"values\": [1686497]}, {\"axis\": {\"matches\": true}, \"label\": \"Deaths\", \"values\": [22883]}], \"hoverlabel\": {\"namelength\": 0}, \"hovertemplate\": \"State/UTs=Uttar Pradesh<br>%{xaxis.title.text}=%{x}<br>%{yaxis.title.text}=%{y}\", \"legendgroup\": \"State/UTs=Uttar Pradesh\", \"marker\": {\"color\": \"#ab63fa\", \"symbol\": \"circle\"}, \"name\": \"State/UTs=Uttar Pradesh\", \"showlegend\": true, \"type\": \"splom\"}, {\"dimensions\": [{\"axis\": {\"matches\": true}, \"label\": \"Total Cases\", \"values\": [343242]}, {\"axis\": {\"matches\": true}, \"label\": \"Active\", \"values\": [293]}, {\"axis\": {\"matches\": true}, \"label\": \"Discharged\", \"values\": [335560]}, {\"axis\": {\"matches\": true}, \"label\": \"Deaths\", \"values\": [7389]}], \"hoverlabel\": {\"namelength\": 0}, \"hovertemplate\": \"State/UTs=Uttarakhand<br>%{xaxis.title.text}=%{x}<br>%{yaxis.title.text}=%{y}\", \"legendgroup\": \"State/UTs=Uttarakhand\", \"marker\": {\"color\": \"#FFA15A\", \"symbol\": \"circle\"}, \"name\": \"State/UTs=Uttarakhand\", \"showlegend\": true, \"type\": \"splom\"}, {\"dimensions\": [{\"axis\": {\"matches\": true}, \"label\": \"Total Cases\", \"values\": [1557414]}, {\"axis\": {\"matches\": true}, \"label\": \"Active\", \"values\": [8096]}, {\"axis\": {\"matches\": true}, \"label\": \"Discharged\", \"values\": [1530731]}, {\"axis\": {\"matches\": true}, \"label\": \"Deaths\", \"values\": [18587]}], \"hoverlabel\": {\"namelength\": 0}, \"hovertemplate\": \"State/UTs=West Bengal<br>%{xaxis.title.text}=%{x}<br>%{yaxis.title.text}=%{y}\", \"legendgroup\": \"State/UTs=West Bengal\", \"marker\": {\"color\": \"#19d3f3\", \"symbol\": \"circle\"}, \"name\": \"State/UTs=West Bengal\", \"showlegend\": true, \"type\": \"splom\"}],\n",
              "                        {\"dragmode\": \"select\", \"legend\": {\"tracegroupgap\": 0}, \"margin\": {\"t\": 60}, \"template\": {\"data\": {\"bar\": [{\"error_x\": {\"color\": \"#2a3f5f\"}, \"error_y\": {\"color\": \"#2a3f5f\"}, \"marker\": {\"line\": {\"color\": \"#E5ECF6\", \"width\": 0.5}}, \"type\": \"bar\"}], \"barpolar\": [{\"marker\": {\"line\": {\"color\": \"#E5ECF6\", \"width\": 0.5}}, \"type\": \"barpolar\"}], \"carpet\": [{\"aaxis\": {\"endlinecolor\": \"#2a3f5f\", \"gridcolor\": \"white\", \"linecolor\": \"white\", \"minorgridcolor\": \"white\", \"startlinecolor\": \"#2a3f5f\"}, \"baxis\": {\"endlinecolor\": \"#2a3f5f\", \"gridcolor\": \"white\", \"linecolor\": \"white\", \"minorgridcolor\": \"white\", \"startlinecolor\": \"#2a3f5f\"}, \"type\": \"carpet\"}], \"choropleth\": [{\"colorbar\": {\"outlinewidth\": 0, \"ticks\": \"\"}, \"type\": \"choropleth\"}], \"contour\": [{\"colorbar\": {\"outlinewidth\": 0, \"ticks\": \"\"}, \"colorscale\": [[0.0, \"#0d0887\"], [0.1111111111111111, \"#46039f\"], [0.2222222222222222, \"#7201a8\"], [0.3333333333333333, \"#9c179e\"], [0.4444444444444444, \"#bd3786\"], [0.5555555555555556, \"#d8576b\"], [0.6666666666666666, \"#ed7953\"], [0.7777777777777778, \"#fb9f3a\"], [0.8888888888888888, \"#fdca26\"], [1.0, \"#f0f921\"]], \"type\": \"contour\"}], \"contourcarpet\": [{\"colorbar\": {\"outlinewidth\": 0, \"ticks\": \"\"}, \"type\": \"contourcarpet\"}], \"heatmap\": [{\"colorbar\": {\"outlinewidth\": 0, \"ticks\": \"\"}, \"colorscale\": [[0.0, \"#0d0887\"], [0.1111111111111111, \"#46039f\"], [0.2222222222222222, \"#7201a8\"], [0.3333333333333333, \"#9c179e\"], [0.4444444444444444, \"#bd3786\"], [0.5555555555555556, \"#d8576b\"], [0.6666666666666666, \"#ed7953\"], [0.7777777777777778, \"#fb9f3a\"], [0.8888888888888888, \"#fdca26\"], [1.0, \"#f0f921\"]], \"type\": \"heatmap\"}], \"heatmapgl\": [{\"colorbar\": {\"outlinewidth\": 0, \"ticks\": \"\"}, \"colorscale\": [[0.0, \"#0d0887\"], [0.1111111111111111, \"#46039f\"], [0.2222222222222222, \"#7201a8\"], [0.3333333333333333, \"#9c179e\"], [0.4444444444444444, \"#bd3786\"], [0.5555555555555556, \"#d8576b\"], [0.6666666666666666, \"#ed7953\"], [0.7777777777777778, \"#fb9f3a\"], [0.8888888888888888, \"#fdca26\"], [1.0, \"#f0f921\"]], \"type\": \"heatmapgl\"}], \"histogram\": [{\"marker\": {\"colorbar\": {\"outlinewidth\": 0, \"ticks\": \"\"}}, \"type\": \"histogram\"}], \"histogram2d\": [{\"colorbar\": {\"outlinewidth\": 0, \"ticks\": \"\"}, \"colorscale\": [[0.0, \"#0d0887\"], [0.1111111111111111, \"#46039f\"], [0.2222222222222222, \"#7201a8\"], [0.3333333333333333, \"#9c179e\"], [0.4444444444444444, \"#bd3786\"], [0.5555555555555556, \"#d8576b\"], [0.6666666666666666, \"#ed7953\"], [0.7777777777777778, \"#fb9f3a\"], [0.8888888888888888, \"#fdca26\"], [1.0, \"#f0f921\"]], \"type\": \"histogram2d\"}], \"histogram2dcontour\": [{\"colorbar\": {\"outlinewidth\": 0, \"ticks\": \"\"}, \"colorscale\": [[0.0, \"#0d0887\"], [0.1111111111111111, \"#46039f\"], [0.2222222222222222, \"#7201a8\"], [0.3333333333333333, \"#9c179e\"], [0.4444444444444444, \"#bd3786\"], [0.5555555555555556, \"#d8576b\"], [0.6666666666666666, \"#ed7953\"], [0.7777777777777778, \"#fb9f3a\"], [0.8888888888888888, \"#fdca26\"], [1.0, \"#f0f921\"]], \"type\": \"histogram2dcontour\"}], \"mesh3d\": [{\"colorbar\": {\"outlinewidth\": 0, \"ticks\": \"\"}, \"type\": \"mesh3d\"}], \"parcoords\": [{\"line\": {\"colorbar\": {\"outlinewidth\": 0, \"ticks\": \"\"}}, \"type\": \"parcoords\"}], \"pie\": [{\"automargin\": true, \"type\": \"pie\"}], \"scatter\": [{\"marker\": {\"colorbar\": {\"outlinewidth\": 0, \"ticks\": \"\"}}, \"type\": \"scatter\"}], \"scatter3d\": [{\"line\": {\"colorbar\": {\"outlinewidth\": 0, \"ticks\": \"\"}}, \"marker\": {\"colorbar\": {\"outlinewidth\": 0, \"ticks\": \"\"}}, \"type\": \"scatter3d\"}], \"scattercarpet\": [{\"marker\": {\"colorbar\": {\"outlinewidth\": 0, \"ticks\": \"\"}}, \"type\": \"scattercarpet\"}], \"scattergeo\": [{\"marker\": {\"colorbar\": {\"outlinewidth\": 0, \"ticks\": \"\"}}, \"type\": \"scattergeo\"}], \"scattergl\": [{\"marker\": {\"colorbar\": {\"outlinewidth\": 0, \"ticks\": \"\"}}, \"type\": \"scattergl\"}], \"scattermapbox\": [{\"marker\": {\"colorbar\": {\"outlinewidth\": 0, \"ticks\": \"\"}}, \"type\": \"scattermapbox\"}], \"scatterpolar\": [{\"marker\": {\"colorbar\": {\"outlinewidth\": 0, \"ticks\": \"\"}}, \"type\": \"scatterpolar\"}], \"scatterpolargl\": [{\"marker\": {\"colorbar\": {\"outlinewidth\": 0, \"ticks\": \"\"}}, \"type\": \"scatterpolargl\"}], \"scatterternary\": [{\"marker\": {\"colorbar\": {\"outlinewidth\": 0, \"ticks\": \"\"}}, \"type\": \"scatterternary\"}], \"surface\": [{\"colorbar\": {\"outlinewidth\": 0, \"ticks\": \"\"}, \"colorscale\": [[0.0, \"#0d0887\"], [0.1111111111111111, \"#46039f\"], [0.2222222222222222, \"#7201a8\"], [0.3333333333333333, \"#9c179e\"], [0.4444444444444444, \"#bd3786\"], [0.5555555555555556, \"#d8576b\"], [0.6666666666666666, \"#ed7953\"], [0.7777777777777778, \"#fb9f3a\"], [0.8888888888888888, \"#fdca26\"], [1.0, \"#f0f921\"]], \"type\": \"surface\"}], \"table\": [{\"cells\": {\"fill\": {\"color\": \"#EBF0F8\"}, \"line\": {\"color\": \"white\"}}, \"header\": {\"fill\": {\"color\": \"#C8D4E3\"}, \"line\": {\"color\": \"white\"}}, \"type\": \"table\"}]}, \"layout\": {\"annotationdefaults\": {\"arrowcolor\": \"#2a3f5f\", \"arrowhead\": 0, \"arrowwidth\": 1}, \"coloraxis\": {\"colorbar\": {\"outlinewidth\": 0, \"ticks\": \"\"}}, \"colorscale\": {\"diverging\": [[0, \"#8e0152\"], [0.1, \"#c51b7d\"], [0.2, \"#de77ae\"], [0.3, \"#f1b6da\"], [0.4, \"#fde0ef\"], [0.5, \"#f7f7f7\"], [0.6, \"#e6f5d0\"], [0.7, \"#b8e186\"], [0.8, \"#7fbc41\"], [0.9, \"#4d9221\"], [1, \"#276419\"]], \"sequential\": [[0.0, \"#0d0887\"], [0.1111111111111111, \"#46039f\"], [0.2222222222222222, \"#7201a8\"], [0.3333333333333333, \"#9c179e\"], [0.4444444444444444, \"#bd3786\"], [0.5555555555555556, \"#d8576b\"], [0.6666666666666666, \"#ed7953\"], [0.7777777777777778, \"#fb9f3a\"], [0.8888888888888888, \"#fdca26\"], [1.0, \"#f0f921\"]], \"sequentialminus\": [[0.0, \"#0d0887\"], [0.1111111111111111, \"#46039f\"], [0.2222222222222222, \"#7201a8\"], [0.3333333333333333, \"#9c179e\"], [0.4444444444444444, \"#bd3786\"], [0.5555555555555556, \"#d8576b\"], [0.6666666666666666, \"#ed7953\"], [0.7777777777777778, \"#fb9f3a\"], [0.8888888888888888, \"#fdca26\"], [1.0, \"#f0f921\"]]}, \"colorway\": [\"#636efa\", \"#EF553B\", \"#00cc96\", \"#ab63fa\", \"#FFA15A\", \"#19d3f3\", \"#FF6692\", \"#B6E880\", \"#FF97FF\", \"#FECB52\"], \"font\": {\"color\": \"#2a3f5f\"}, \"geo\": {\"bgcolor\": \"white\", \"lakecolor\": \"white\", \"landcolor\": \"#E5ECF6\", \"showlakes\": true, \"showland\": true, \"subunitcolor\": \"white\"}, \"hoverlabel\": {\"align\": \"left\"}, \"hovermode\": \"closest\", \"mapbox\": {\"style\": \"light\"}, \"paper_bgcolor\": \"white\", \"plot_bgcolor\": \"#E5ECF6\", \"polar\": {\"angularaxis\": {\"gridcolor\": \"white\", \"linecolor\": \"white\", \"ticks\": \"\"}, \"bgcolor\": \"#E5ECF6\", \"radialaxis\": {\"gridcolor\": \"white\", \"linecolor\": \"white\", \"ticks\": \"\"}}, \"scene\": {\"xaxis\": {\"backgroundcolor\": \"#E5ECF6\", \"gridcolor\": \"white\", \"gridwidth\": 2, \"linecolor\": \"white\", \"showbackground\": true, \"ticks\": \"\", \"zerolinecolor\": \"white\"}, \"yaxis\": {\"backgroundcolor\": \"#E5ECF6\", \"gridcolor\": \"white\", \"gridwidth\": 2, \"linecolor\": \"white\", \"showbackground\": true, \"ticks\": \"\", \"zerolinecolor\": \"white\"}, \"zaxis\": {\"backgroundcolor\": \"#E5ECF6\", \"gridcolor\": \"white\", \"gridwidth\": 2, \"linecolor\": \"white\", \"showbackground\": true, \"ticks\": \"\", \"zerolinecolor\": \"white\"}}, \"shapedefaults\": {\"line\": {\"color\": \"#2a3f5f\"}}, \"ternary\": {\"aaxis\": {\"gridcolor\": \"white\", \"linecolor\": \"white\", \"ticks\": \"\"}, \"baxis\": {\"gridcolor\": \"white\", \"linecolor\": \"white\", \"ticks\": \"\"}, \"bgcolor\": \"#E5ECF6\", \"caxis\": {\"gridcolor\": \"white\", \"linecolor\": \"white\", \"ticks\": \"\"}}, \"title\": {\"x\": 0.05}, \"xaxis\": {\"automargin\": true, \"gridcolor\": \"white\", \"linecolor\": \"white\", \"ticks\": \"\", \"title\": {\"standoff\": 15}, \"zerolinecolor\": \"white\", \"zerolinewidth\": 2}, \"yaxis\": {\"automargin\": true, \"gridcolor\": \"white\", \"linecolor\": \"white\", \"ticks\": \"\", \"title\": {\"standoff\": 15}, \"zerolinecolor\": \"white\", \"zerolinewidth\": 2}}}},\n",
              "                        {\"responsive\": true}\n",
              "                    ).then(function(){\n",
              "                            \n",
              "var gd = document.getElementById('9d8f09c5-55f9-4fc4-94bf-71ec3a7c7a61');\n",
              "var x = new MutationObserver(function (mutations, observer) {{\n",
              "        var display = window.getComputedStyle(gd).display;\n",
              "        if (!display || display === 'none') {{\n",
              "            console.log([gd, 'removed!']);\n",
              "            Plotly.purge(gd);\n",
              "            observer.disconnect();\n",
              "        }}\n",
              "}});\n",
              "\n",
              "// Listen for the removal of the full notebook cells\n",
              "var notebookContainer = gd.closest('#notebook-container');\n",
              "if (notebookContainer) {{\n",
              "    x.observe(notebookContainer, {childList: true});\n",
              "}}\n",
              "\n",
              "// Listen for the clearing of the current output cell\n",
              "var outputEl = gd.closest('.output');\n",
              "if (outputEl) {{\n",
              "    x.observe(outputEl, {childList: true});\n",
              "}}\n",
              "\n",
              "                        })\n",
              "                };\n",
              "                \n",
              "            </script>\n",
              "        </div>\n",
              "</body>\n",
              "</html>"
            ]
          },
          "metadata": {}
        }
      ]
    },
    {
      "cell_type": "code",
      "metadata": {
        "execution": {
          "iopub.status.busy": "2021-09-20T11:29:06.323625Z",
          "iopub.execute_input": "2021-09-20T11:29:06.323933Z",
          "iopub.status.idle": "2021-09-20T11:29:06.400533Z",
          "shell.execute_reply.started": "2021-09-20T11:29:06.323881Z",
          "shell.execute_reply": "2021-09-20T11:29:06.399809Z"
        },
        "trusted": true,
        "colab": {
          "base_uri": "https://localhost:8080/",
          "height": 542
        },
        "id": "NfXk1vnSgOZL",
        "outputId": "dfbfa6e7-a0e6-4a2e-dbba-9ac2e6a98015"
      },
      "source": [
        "px.scatter(df, x=\"Total Cases\", y=\"Active\",size=\"Active Ratio (%)\", color=\"Active Ratio (%)\",hover_name=\"State/UTs\", log_x=True, size_max=60)"
      ],
      "execution_count": 102,
      "outputs": [
        {
          "output_type": "display_data",
          "data": {
            "text/html": [
              "<html>\n",
              "<head><meta charset=\"utf-8\" /></head>\n",
              "<body>\n",
              "    <div>\n",
              "            <script src=\"https://cdnjs.cloudflare.com/ajax/libs/mathjax/2.7.5/MathJax.js?config=TeX-AMS-MML_SVG\"></script><script type=\"text/javascript\">if (window.MathJax) {MathJax.Hub.Config({SVG: {font: \"STIX-Web\"}});}</script>\n",
              "                <script type=\"text/javascript\">window.PlotlyConfig = {MathJaxConfig: 'local'};</script>\n",
              "        <script src=\"https://cdn.plot.ly/plotly-latest.min.js\"></script>    \n",
              "            <div id=\"a6a037c7-5967-488f-803d-9ab509e553a3\" class=\"plotly-graph-div\" style=\"height:525px; width:100%;\"></div>\n",
              "            <script type=\"text/javascript\">\n",
              "                \n",
              "                    window.PLOTLYENV=window.PLOTLYENV || {};\n",
              "                    \n",
              "                if (document.getElementById(\"a6a037c7-5967-488f-803d-9ab509e553a3\")) {\n",
              "                    Plotly.newPlot(\n",
              "                        'a6a037c7-5967-488f-803d-9ab509e553a3',\n",
              "                        [{\"hoverlabel\": {\"namelength\": 0}, \"hovertemplate\": \"<b>%{hovertext}</b><br><br>Total Cases=%{x}<br>Active=%{y}<br>Active Ratio (%)=%{marker.color}\", \"hovertext\": [\"Andaman and Nicobar\", \"Andhra Pradesh\", \"Arunachal Pradesh\", \"Assam\", \"Bihar\", \"Chandigarh\", \"Chhattisgarh\", \"Daman and Diu\", \"Delhi\", \"Goa\", \"Gujarat\", \"Haryana\", \"Himachal Pradesh\", \"Jammu and Kashmir\", \"Jharkhand\", \"Karnataka\", \"Kerala\", \"Ladakh\", \"Lakshadweep\", \"Madhya Pradesh\", \"Maharashtra\", \"Manipur\", \"Meghalaya\", \"Mizoram\", \"Nagaland\", \"Odisha\", \"Puducherry\", \"Punjab\", \"Rajasthan\", \"Sikkim\", \"Tamil Nadu\", \"Telengana\", \"Tripura\", \"Uttar Pradesh\", \"Uttarakhand\", \"West Bengal\"], \"legendgroup\": \"\", \"marker\": {\"color\": [0.11, 0.72, 0.99, 0.94, 0.01, 0.05, 0.04, 0.05, 0.03, 0.4, 0.02, 0.05, 0.7, 0.38, 0.03, 0.55, 4.77, 0.15, 0.05, 0.02, 0.82, 2.23, 2.37, 18.34, 1.89, 0.58, 0.69, 0.05, 0.01, 2.64, 0.63, 0.79, 0.58, 0.01, 0.09, 0.52], \"coloraxis\": \"coloraxis\", \"size\": [0.11, 0.72, 0.99, 0.94, 0.01, 0.05, 0.04, 0.05, 0.03, 0.4, 0.02, 0.05, 0.7, 0.38, 0.03, 0.55, 4.77, 0.15, 0.05, 0.02, 0.82, 2.23, 2.37, 18.34, 1.89, 0.58, 0.69, 0.05, 0.01, 2.64, 0.63, 0.79, 0.58, 0.01, 0.09, 0.52], \"sizemode\": \"area\", \"sizeref\": 0.005094444444444444, \"symbol\": \"circle\"}, \"mode\": \"markers\", \"name\": \"\", \"showlegend\": false, \"type\": \"scatter\", \"x\": [7584, 2030849, 53807, 595669, 725833, 65160, 1004902, 10670, 1438250, 174891, 825629, 770659, 215893, 326990, 348079, 2962408, 4390489, 20608, 10353, 792353, 6500617, 117230, 78359, 72883, 30657, 1016833, 124836, 601072, 954198, 30650, 2635419, 661866, 83672, 1709555, 343242, 1557414], \"xaxis\": \"x\", \"y\": [8, 14652, 533, 5615, 77, 32, 376, 5, 377, 702, 161, 351, 1521, 1247, 117, 16269, 209335, 30, 5, 131, 53427, 2617, 1859, 13369, 580, 5919, 860, 309, 90, 809, 16522, 5253, 485, 175, 293, 8096], \"yaxis\": \"y\"}],\n",
              "                        {\"coloraxis\": {\"colorbar\": {\"title\": {\"text\": \"Active Ratio (%)\"}}, \"colorscale\": [[0.0, \"#0d0887\"], [0.1111111111111111, \"#46039f\"], [0.2222222222222222, \"#7201a8\"], [0.3333333333333333, \"#9c179e\"], [0.4444444444444444, \"#bd3786\"], [0.5555555555555556, \"#d8576b\"], [0.6666666666666666, \"#ed7953\"], [0.7777777777777778, \"#fb9f3a\"], [0.8888888888888888, \"#fdca26\"], [1.0, \"#f0f921\"]]}, \"legend\": {\"itemsizing\": \"constant\", \"tracegroupgap\": 0}, \"margin\": {\"t\": 60}, \"template\": {\"data\": {\"bar\": [{\"error_x\": {\"color\": \"#2a3f5f\"}, \"error_y\": {\"color\": \"#2a3f5f\"}, \"marker\": {\"line\": {\"color\": \"#E5ECF6\", \"width\": 0.5}}, \"type\": \"bar\"}], \"barpolar\": [{\"marker\": {\"line\": {\"color\": \"#E5ECF6\", \"width\": 0.5}}, \"type\": \"barpolar\"}], \"carpet\": [{\"aaxis\": {\"endlinecolor\": \"#2a3f5f\", \"gridcolor\": \"white\", \"linecolor\": \"white\", \"minorgridcolor\": \"white\", \"startlinecolor\": \"#2a3f5f\"}, \"baxis\": {\"endlinecolor\": \"#2a3f5f\", \"gridcolor\": \"white\", \"linecolor\": \"white\", \"minorgridcolor\": \"white\", \"startlinecolor\": \"#2a3f5f\"}, \"type\": \"carpet\"}], \"choropleth\": [{\"colorbar\": {\"outlinewidth\": 0, \"ticks\": \"\"}, \"type\": \"choropleth\"}], \"contour\": [{\"colorbar\": {\"outlinewidth\": 0, \"ticks\": \"\"}, \"colorscale\": [[0.0, \"#0d0887\"], [0.1111111111111111, \"#46039f\"], [0.2222222222222222, \"#7201a8\"], [0.3333333333333333, \"#9c179e\"], [0.4444444444444444, \"#bd3786\"], [0.5555555555555556, \"#d8576b\"], [0.6666666666666666, \"#ed7953\"], [0.7777777777777778, \"#fb9f3a\"], [0.8888888888888888, \"#fdca26\"], [1.0, \"#f0f921\"]], \"type\": \"contour\"}], \"contourcarpet\": [{\"colorbar\": {\"outlinewidth\": 0, \"ticks\": \"\"}, \"type\": \"contourcarpet\"}], \"heatmap\": [{\"colorbar\": {\"outlinewidth\": 0, \"ticks\": \"\"}, \"colorscale\": [[0.0, \"#0d0887\"], [0.1111111111111111, \"#46039f\"], [0.2222222222222222, \"#7201a8\"], [0.3333333333333333, \"#9c179e\"], [0.4444444444444444, \"#bd3786\"], [0.5555555555555556, \"#d8576b\"], [0.6666666666666666, \"#ed7953\"], [0.7777777777777778, \"#fb9f3a\"], [0.8888888888888888, \"#fdca26\"], [1.0, \"#f0f921\"]], \"type\": \"heatmap\"}], \"heatmapgl\": [{\"colorbar\": {\"outlinewidth\": 0, \"ticks\": \"\"}, \"colorscale\": [[0.0, \"#0d0887\"], [0.1111111111111111, \"#46039f\"], [0.2222222222222222, \"#7201a8\"], [0.3333333333333333, \"#9c179e\"], [0.4444444444444444, \"#bd3786\"], [0.5555555555555556, \"#d8576b\"], [0.6666666666666666, \"#ed7953\"], [0.7777777777777778, \"#fb9f3a\"], [0.8888888888888888, \"#fdca26\"], [1.0, \"#f0f921\"]], \"type\": \"heatmapgl\"}], \"histogram\": [{\"marker\": {\"colorbar\": {\"outlinewidth\": 0, \"ticks\": \"\"}}, \"type\": \"histogram\"}], \"histogram2d\": [{\"colorbar\": {\"outlinewidth\": 0, \"ticks\": \"\"}, \"colorscale\": [[0.0, \"#0d0887\"], [0.1111111111111111, \"#46039f\"], [0.2222222222222222, \"#7201a8\"], [0.3333333333333333, \"#9c179e\"], [0.4444444444444444, \"#bd3786\"], [0.5555555555555556, \"#d8576b\"], [0.6666666666666666, \"#ed7953\"], [0.7777777777777778, \"#fb9f3a\"], [0.8888888888888888, \"#fdca26\"], [1.0, \"#f0f921\"]], \"type\": \"histogram2d\"}], \"histogram2dcontour\": [{\"colorbar\": {\"outlinewidth\": 0, \"ticks\": \"\"}, \"colorscale\": [[0.0, \"#0d0887\"], [0.1111111111111111, \"#46039f\"], [0.2222222222222222, \"#7201a8\"], [0.3333333333333333, \"#9c179e\"], [0.4444444444444444, \"#bd3786\"], [0.5555555555555556, \"#d8576b\"], [0.6666666666666666, \"#ed7953\"], [0.7777777777777778, \"#fb9f3a\"], [0.8888888888888888, \"#fdca26\"], [1.0, \"#f0f921\"]], \"type\": \"histogram2dcontour\"}], \"mesh3d\": [{\"colorbar\": {\"outlinewidth\": 0, \"ticks\": \"\"}, \"type\": \"mesh3d\"}], \"parcoords\": [{\"line\": {\"colorbar\": {\"outlinewidth\": 0, \"ticks\": \"\"}}, \"type\": \"parcoords\"}], \"pie\": [{\"automargin\": true, \"type\": \"pie\"}], \"scatter\": [{\"marker\": {\"colorbar\": {\"outlinewidth\": 0, \"ticks\": \"\"}}, \"type\": \"scatter\"}], \"scatter3d\": [{\"line\": {\"colorbar\": {\"outlinewidth\": 0, \"ticks\": \"\"}}, \"marker\": {\"colorbar\": {\"outlinewidth\": 0, \"ticks\": \"\"}}, \"type\": \"scatter3d\"}], \"scattercarpet\": [{\"marker\": {\"colorbar\": {\"outlinewidth\": 0, \"ticks\": \"\"}}, \"type\": \"scattercarpet\"}], \"scattergeo\": [{\"marker\": {\"colorbar\": {\"outlinewidth\": 0, \"ticks\": \"\"}}, \"type\": \"scattergeo\"}], \"scattergl\": [{\"marker\": {\"colorbar\": {\"outlinewidth\": 0, \"ticks\": \"\"}}, \"type\": \"scattergl\"}], \"scattermapbox\": [{\"marker\": {\"colorbar\": {\"outlinewidth\": 0, \"ticks\": \"\"}}, \"type\": \"scattermapbox\"}], \"scatterpolar\": [{\"marker\": {\"colorbar\": {\"outlinewidth\": 0, \"ticks\": \"\"}}, \"type\": \"scatterpolar\"}], \"scatterpolargl\": [{\"marker\": {\"colorbar\": {\"outlinewidth\": 0, \"ticks\": \"\"}}, \"type\": \"scatterpolargl\"}], \"scatterternary\": [{\"marker\": {\"colorbar\": {\"outlinewidth\": 0, \"ticks\": \"\"}}, \"type\": \"scatterternary\"}], \"surface\": [{\"colorbar\": {\"outlinewidth\": 0, \"ticks\": \"\"}, \"colorscale\": [[0.0, \"#0d0887\"], [0.1111111111111111, \"#46039f\"], [0.2222222222222222, \"#7201a8\"], [0.3333333333333333, \"#9c179e\"], [0.4444444444444444, \"#bd3786\"], [0.5555555555555556, \"#d8576b\"], [0.6666666666666666, \"#ed7953\"], [0.7777777777777778, \"#fb9f3a\"], [0.8888888888888888, \"#fdca26\"], [1.0, \"#f0f921\"]], \"type\": \"surface\"}], \"table\": [{\"cells\": {\"fill\": {\"color\": \"#EBF0F8\"}, \"line\": {\"color\": \"white\"}}, \"header\": {\"fill\": {\"color\": \"#C8D4E3\"}, \"line\": {\"color\": \"white\"}}, \"type\": \"table\"}]}, \"layout\": {\"annotationdefaults\": {\"arrowcolor\": \"#2a3f5f\", \"arrowhead\": 0, \"arrowwidth\": 1}, \"coloraxis\": {\"colorbar\": {\"outlinewidth\": 0, \"ticks\": \"\"}}, \"colorscale\": {\"diverging\": [[0, \"#8e0152\"], [0.1, \"#c51b7d\"], [0.2, \"#de77ae\"], [0.3, \"#f1b6da\"], [0.4, \"#fde0ef\"], [0.5, \"#f7f7f7\"], [0.6, \"#e6f5d0\"], [0.7, \"#b8e186\"], [0.8, \"#7fbc41\"], [0.9, \"#4d9221\"], [1, \"#276419\"]], \"sequential\": [[0.0, \"#0d0887\"], [0.1111111111111111, \"#46039f\"], [0.2222222222222222, \"#7201a8\"], [0.3333333333333333, \"#9c179e\"], [0.4444444444444444, \"#bd3786\"], [0.5555555555555556, \"#d8576b\"], [0.6666666666666666, \"#ed7953\"], [0.7777777777777778, \"#fb9f3a\"], [0.8888888888888888, \"#fdca26\"], [1.0, \"#f0f921\"]], \"sequentialminus\": [[0.0, \"#0d0887\"], [0.1111111111111111, \"#46039f\"], [0.2222222222222222, \"#7201a8\"], [0.3333333333333333, \"#9c179e\"], [0.4444444444444444, \"#bd3786\"], [0.5555555555555556, \"#d8576b\"], [0.6666666666666666, \"#ed7953\"], [0.7777777777777778, \"#fb9f3a\"], [0.8888888888888888, \"#fdca26\"], [1.0, \"#f0f921\"]]}, \"colorway\": [\"#636efa\", \"#EF553B\", \"#00cc96\", \"#ab63fa\", \"#FFA15A\", \"#19d3f3\", \"#FF6692\", \"#B6E880\", \"#FF97FF\", \"#FECB52\"], \"font\": {\"color\": \"#2a3f5f\"}, \"geo\": {\"bgcolor\": \"white\", \"lakecolor\": \"white\", \"landcolor\": \"#E5ECF6\", \"showlakes\": true, \"showland\": true, \"subunitcolor\": \"white\"}, \"hoverlabel\": {\"align\": \"left\"}, \"hovermode\": \"closest\", \"mapbox\": {\"style\": \"light\"}, \"paper_bgcolor\": \"white\", \"plot_bgcolor\": \"#E5ECF6\", \"polar\": {\"angularaxis\": {\"gridcolor\": \"white\", \"linecolor\": \"white\", \"ticks\": \"\"}, \"bgcolor\": \"#E5ECF6\", \"radialaxis\": {\"gridcolor\": \"white\", \"linecolor\": \"white\", \"ticks\": \"\"}}, \"scene\": {\"xaxis\": {\"backgroundcolor\": \"#E5ECF6\", \"gridcolor\": \"white\", \"gridwidth\": 2, \"linecolor\": \"white\", \"showbackground\": true, \"ticks\": \"\", \"zerolinecolor\": \"white\"}, \"yaxis\": {\"backgroundcolor\": \"#E5ECF6\", \"gridcolor\": \"white\", \"gridwidth\": 2, \"linecolor\": \"white\", \"showbackground\": true, \"ticks\": \"\", \"zerolinecolor\": \"white\"}, \"zaxis\": {\"backgroundcolor\": \"#E5ECF6\", \"gridcolor\": \"white\", \"gridwidth\": 2, \"linecolor\": \"white\", \"showbackground\": true, \"ticks\": \"\", \"zerolinecolor\": \"white\"}}, \"shapedefaults\": {\"line\": {\"color\": \"#2a3f5f\"}}, \"ternary\": {\"aaxis\": {\"gridcolor\": \"white\", \"linecolor\": \"white\", \"ticks\": \"\"}, \"baxis\": {\"gridcolor\": \"white\", \"linecolor\": \"white\", \"ticks\": \"\"}, \"bgcolor\": \"#E5ECF6\", \"caxis\": {\"gridcolor\": \"white\", \"linecolor\": \"white\", \"ticks\": \"\"}}, \"title\": {\"x\": 0.05}, \"xaxis\": {\"automargin\": true, \"gridcolor\": \"white\", \"linecolor\": \"white\", \"ticks\": \"\", \"title\": {\"standoff\": 15}, \"zerolinecolor\": \"white\", \"zerolinewidth\": 2}, \"yaxis\": {\"automargin\": true, \"gridcolor\": \"white\", \"linecolor\": \"white\", \"ticks\": \"\", \"title\": {\"standoff\": 15}, \"zerolinecolor\": \"white\", \"zerolinewidth\": 2}}}, \"xaxis\": {\"anchor\": \"y\", \"domain\": [0.0, 1.0], \"title\": {\"text\": \"Total Cases\"}, \"type\": \"log\"}, \"yaxis\": {\"anchor\": \"x\", \"domain\": [0.0, 1.0], \"title\": {\"text\": \"Active\"}}},\n",
              "                        {\"responsive\": true}\n",
              "                    ).then(function(){\n",
              "                            \n",
              "var gd = document.getElementById('a6a037c7-5967-488f-803d-9ab509e553a3');\n",
              "var x = new MutationObserver(function (mutations, observer) {{\n",
              "        var display = window.getComputedStyle(gd).display;\n",
              "        if (!display || display === 'none') {{\n",
              "            console.log([gd, 'removed!']);\n",
              "            Plotly.purge(gd);\n",
              "            observer.disconnect();\n",
              "        }}\n",
              "}});\n",
              "\n",
              "// Listen for the removal of the full notebook cells\n",
              "var notebookContainer = gd.closest('#notebook-container');\n",
              "if (notebookContainer) {{\n",
              "    x.observe(notebookContainer, {childList: true});\n",
              "}}\n",
              "\n",
              "// Listen for the clearing of the current output cell\n",
              "var outputEl = gd.closest('.output');\n",
              "if (outputEl) {{\n",
              "    x.observe(outputEl, {childList: true});\n",
              "}}\n",
              "\n",
              "                        })\n",
              "                };\n",
              "                \n",
              "            </script>\n",
              "        </div>\n",
              "</body>\n",
              "</html>"
            ]
          },
          "metadata": {}
        }
      ]
    },
    {
      "cell_type": "code",
      "metadata": {
        "execution": {
          "iopub.status.busy": "2021-09-20T11:29:06.401692Z",
          "iopub.execute_input": "2021-09-20T11:29:06.401943Z",
          "iopub.status.idle": "2021-09-20T11:29:06.581123Z",
          "shell.execute_reply.started": "2021-09-20T11:29:06.401902Z",
          "shell.execute_reply": "2021-09-20T11:29:06.580551Z"
        },
        "trusted": true,
        "colab": {
          "base_uri": "https://localhost:8080/",
          "height": 542
        },
        "id": "xrAYXXr0gOZL",
        "outputId": "f41f084c-b4ad-4747-bbfb-45b6c1ccc401"
      },
      "source": [
        "fig = px.scatter(df, x=\"Total Cases\", y=\"Active\", size=\"Deaths\", color=df['State/UTs'], log_x=True, size_max=50)\n",
        "fig.show()"
      ],
      "execution_count": 103,
      "outputs": [
        {
          "output_type": "display_data",
          "data": {
            "text/html": [
              "<html>\n",
              "<head><meta charset=\"utf-8\" /></head>\n",
              "<body>\n",
              "    <div>\n",
              "            <script src=\"https://cdnjs.cloudflare.com/ajax/libs/mathjax/2.7.5/MathJax.js?config=TeX-AMS-MML_SVG\"></script><script type=\"text/javascript\">if (window.MathJax) {MathJax.Hub.Config({SVG: {font: \"STIX-Web\"}});}</script>\n",
              "                <script type=\"text/javascript\">window.PlotlyConfig = {MathJaxConfig: 'local'};</script>\n",
              "        <script src=\"https://cdn.plot.ly/plotly-latest.min.js\"></script>    \n",
              "            <div id=\"3ab53bca-bb76-44a4-8395-53ff2081abf0\" class=\"plotly-graph-div\" style=\"height:525px; width:100%;\"></div>\n",
              "            <script type=\"text/javascript\">\n",
              "                \n",
              "                    window.PLOTLYENV=window.PLOTLYENV || {};\n",
              "                    \n",
              "                if (document.getElementById(\"3ab53bca-bb76-44a4-8395-53ff2081abf0\")) {\n",
              "                    Plotly.newPlot(\n",
              "                        '3ab53bca-bb76-44a4-8395-53ff2081abf0',\n",
              "                        [{\"hoverlabel\": {\"namelength\": 0}, \"hovertemplate\": \"State/UTs=Andaman and Nicobar<br>Total Cases=%{x}<br>Active=%{y}<br>Deaths=%{marker.size}\", \"legendgroup\": \"State/UTs=Andaman and Nicobar\", \"marker\": {\"color\": \"#636efa\", \"size\": [129], \"sizemode\": \"area\", \"sizeref\": 55.2676, \"symbol\": \"circle\"}, \"mode\": \"markers\", \"name\": \"State/UTs=Andaman and Nicobar\", \"showlegend\": true, \"type\": \"scatter\", \"x\": [7584], \"xaxis\": \"x\", \"y\": [8], \"yaxis\": \"y\"}, {\"hoverlabel\": {\"namelength\": 0}, \"hovertemplate\": \"State/UTs=Andhra Pradesh<br>Total Cases=%{x}<br>Active=%{y}<br>Deaths=%{marker.size}\", \"legendgroup\": \"State/UTs=Andhra Pradesh\", \"marker\": {\"color\": \"#EF553B\", \"size\": [14010], \"sizemode\": \"area\", \"sizeref\": 55.2676, \"symbol\": \"circle\"}, \"mode\": \"markers\", \"name\": \"State/UTs=Andhra Pradesh\", \"showlegend\": true, \"type\": \"scatter\", \"x\": [2030849], \"xaxis\": \"x\", \"y\": [14652], \"yaxis\": \"y\"}, {\"hoverlabel\": {\"namelength\": 0}, \"hovertemplate\": \"State/UTs=Arunachal Pradesh<br>Total Cases=%{x}<br>Active=%{y}<br>Deaths=%{marker.size}\", \"legendgroup\": \"State/UTs=Arunachal Pradesh\", \"marker\": {\"color\": \"#00cc96\", \"size\": [270], \"sizemode\": \"area\", \"sizeref\": 55.2676, \"symbol\": \"circle\"}, \"mode\": \"markers\", \"name\": \"State/UTs=Arunachal Pradesh\", \"showlegend\": true, \"type\": \"scatter\", \"x\": [53807], \"xaxis\": \"x\", \"y\": [533], \"yaxis\": \"y\"}, {\"hoverlabel\": {\"namelength\": 0}, \"hovertemplate\": \"State/UTs=Assam<br>Total Cases=%{x}<br>Active=%{y}<br>Deaths=%{marker.size}\", \"legendgroup\": \"State/UTs=Assam\", \"marker\": {\"color\": \"#ab63fa\", \"size\": [5758], \"sizemode\": \"area\", \"sizeref\": 55.2676, \"symbol\": \"circle\"}, \"mode\": \"markers\", \"name\": \"State/UTs=Assam\", \"showlegend\": true, \"type\": \"scatter\", \"x\": [595669], \"xaxis\": \"x\", \"y\": [5615], \"yaxis\": \"y\"}, {\"hoverlabel\": {\"namelength\": 0}, \"hovertemplate\": \"State/UTs=Bihar<br>Total Cases=%{x}<br>Active=%{y}<br>Deaths=%{marker.size}\", \"legendgroup\": \"State/UTs=Bihar\", \"marker\": {\"color\": \"#FFA15A\", \"size\": [9658], \"sizemode\": \"area\", \"sizeref\": 55.2676, \"symbol\": \"circle\"}, \"mode\": \"markers\", \"name\": \"State/UTs=Bihar\", \"showlegend\": true, \"type\": \"scatter\", \"x\": [725833], \"xaxis\": \"x\", \"y\": [77], \"yaxis\": \"y\"}, {\"hoverlabel\": {\"namelength\": 0}, \"hovertemplate\": \"State/UTs=Chandigarh<br>Total Cases=%{x}<br>Active=%{y}<br>Deaths=%{marker.size}\", \"legendgroup\": \"State/UTs=Chandigarh\", \"marker\": {\"color\": \"#19d3f3\", \"size\": [817], \"sizemode\": \"area\", \"sizeref\": 55.2676, \"symbol\": \"circle\"}, \"mode\": \"markers\", \"name\": \"State/UTs=Chandigarh\", \"showlegend\": true, \"type\": \"scatter\", \"x\": [65160], \"xaxis\": \"x\", \"y\": [32], \"yaxis\": \"y\"}, {\"hoverlabel\": {\"namelength\": 0}, \"hovertemplate\": \"State/UTs=Chhattisgarh<br>Total Cases=%{x}<br>Active=%{y}<br>Deaths=%{marker.size}\", \"legendgroup\": \"State/UTs=Chhattisgarh\", \"marker\": {\"color\": \"#FF6692\", \"size\": [13558], \"sizemode\": \"area\", \"sizeref\": 55.2676, \"symbol\": \"circle\"}, \"mode\": \"markers\", \"name\": \"State/UTs=Chhattisgarh\", \"showlegend\": true, \"type\": \"scatter\", \"x\": [1004902], \"xaxis\": \"x\", \"y\": [376], \"yaxis\": \"y\"}, {\"hoverlabel\": {\"namelength\": 0}, \"hovertemplate\": \"State/UTs=Daman and Diu<br>Total Cases=%{x}<br>Active=%{y}<br>Deaths=%{marker.size}\", \"legendgroup\": \"State/UTs=Daman and Diu\", \"marker\": {\"color\": \"#B6E880\", \"size\": [4], \"sizemode\": \"area\", \"sizeref\": 55.2676, \"symbol\": \"circle\"}, \"mode\": \"markers\", \"name\": \"State/UTs=Daman and Diu\", \"showlegend\": true, \"type\": \"scatter\", \"x\": [10670], \"xaxis\": \"x\", \"y\": [5], \"yaxis\": \"y\"}, {\"hoverlabel\": {\"namelength\": 0}, \"hovertemplate\": \"State/UTs=Delhi<br>Total Cases=%{x}<br>Active=%{y}<br>Deaths=%{marker.size}\", \"legendgroup\": \"State/UTs=Delhi\", \"marker\": {\"color\": \"#FF97FF\", \"size\": [25083], \"sizemode\": \"area\", \"sizeref\": 55.2676, \"symbol\": \"circle\"}, \"mode\": \"markers\", \"name\": \"State/UTs=Delhi\", \"showlegend\": true, \"type\": \"scatter\", \"x\": [1438250], \"xaxis\": \"x\", \"y\": [377], \"yaxis\": \"y\"}, {\"hoverlabel\": {\"namelength\": 0}, \"hovertemplate\": \"State/UTs=Goa<br>Total Cases=%{x}<br>Active=%{y}<br>Deaths=%{marker.size}\", \"legendgroup\": \"State/UTs=Goa\", \"marker\": {\"color\": \"#FECB52\", \"size\": [3217], \"sizemode\": \"area\", \"sizeref\": 55.2676, \"symbol\": \"circle\"}, \"mode\": \"markers\", \"name\": \"State/UTs=Goa\", \"showlegend\": true, \"type\": \"scatter\", \"x\": [174891], \"xaxis\": \"x\", \"y\": [702], \"yaxis\": \"y\"}, {\"hoverlabel\": {\"namelength\": 0}, \"hovertemplate\": \"State/UTs=Gujarat<br>Total Cases=%{x}<br>Active=%{y}<br>Deaths=%{marker.size}\", \"legendgroup\": \"State/UTs=Gujarat\", \"marker\": {\"color\": \"#636efa\", \"size\": [10082], \"sizemode\": \"area\", \"sizeref\": 55.2676, \"symbol\": \"circle\"}, \"mode\": \"markers\", \"name\": \"State/UTs=Gujarat\", \"showlegend\": true, \"type\": \"scatter\", \"x\": [825629], \"xaxis\": \"x\", \"y\": [161], \"yaxis\": \"y\"}, {\"hoverlabel\": {\"namelength\": 0}, \"hovertemplate\": \"State/UTs=Haryana<br>Total Cases=%{x}<br>Active=%{y}<br>Deaths=%{marker.size}\", \"legendgroup\": \"State/UTs=Haryana\", \"marker\": {\"color\": \"#EF553B\", \"size\": [9807], \"sizemode\": \"area\", \"sizeref\": 55.2676, \"symbol\": \"circle\"}, \"mode\": \"markers\", \"name\": \"State/UTs=Haryana\", \"showlegend\": true, \"type\": \"scatter\", \"x\": [770659], \"xaxis\": \"x\", \"y\": [351], \"yaxis\": \"y\"}, {\"hoverlabel\": {\"namelength\": 0}, \"hovertemplate\": \"State/UTs=Himachal Pradesh<br>Total Cases=%{x}<br>Active=%{y}<br>Deaths=%{marker.size}\", \"legendgroup\": \"State/UTs=Himachal Pradesh\", \"marker\": {\"color\": \"#00cc96\", \"size\": [3639], \"sizemode\": \"area\", \"sizeref\": 55.2676, \"symbol\": \"circle\"}, \"mode\": \"markers\", \"name\": \"State/UTs=Himachal Pradesh\", \"showlegend\": true, \"type\": \"scatter\", \"x\": [215893], \"xaxis\": \"x\", \"y\": [1521], \"yaxis\": \"y\"}, {\"hoverlabel\": {\"namelength\": 0}, \"hovertemplate\": \"State/UTs=Jammu and Kashmir<br>Total Cases=%{x}<br>Active=%{y}<br>Deaths=%{marker.size}\", \"legendgroup\": \"State/UTs=Jammu and Kashmir\", \"marker\": {\"color\": \"#ab63fa\", \"size\": [4414], \"sizemode\": \"area\", \"sizeref\": 55.2676, \"symbol\": \"circle\"}, \"mode\": \"markers\", \"name\": \"State/UTs=Jammu and Kashmir\", \"showlegend\": true, \"type\": \"scatter\", \"x\": [326990], \"xaxis\": \"x\", \"y\": [1247], \"yaxis\": \"y\"}, {\"hoverlabel\": {\"namelength\": 0}, \"hovertemplate\": \"State/UTs=Jharkhand<br>Total Cases=%{x}<br>Active=%{y}<br>Deaths=%{marker.size}\", \"legendgroup\": \"State/UTs=Jharkhand\", \"marker\": {\"color\": \"#FFA15A\", \"size\": [5133], \"sizemode\": \"area\", \"sizeref\": 55.2676, \"symbol\": \"circle\"}, \"mode\": \"markers\", \"name\": \"State/UTs=Jharkhand\", \"showlegend\": true, \"type\": \"scatter\", \"x\": [348079], \"xaxis\": \"x\", \"y\": [117], \"yaxis\": \"y\"}, {\"hoverlabel\": {\"namelength\": 0}, \"hovertemplate\": \"State/UTs=Karnataka<br>Total Cases=%{x}<br>Active=%{y}<br>Deaths=%{marker.size}\", \"legendgroup\": \"State/UTs=Karnataka\", \"marker\": {\"color\": \"#19d3f3\", \"size\": [37517], \"sizemode\": \"area\", \"sizeref\": 55.2676, \"symbol\": \"circle\"}, \"mode\": \"markers\", \"name\": \"State/UTs=Karnataka\", \"showlegend\": true, \"type\": \"scatter\", \"x\": [2962408], \"xaxis\": \"x\", \"y\": [16269], \"yaxis\": \"y\"}, {\"hoverlabel\": {\"namelength\": 0}, \"hovertemplate\": \"State/UTs=Kerala<br>Total Cases=%{x}<br>Active=%{y}<br>Deaths=%{marker.size}\", \"legendgroup\": \"State/UTs=Kerala\", \"marker\": {\"color\": \"#FF6692\", \"size\": [22650], \"sizemode\": \"area\", \"sizeref\": 55.2676, \"symbol\": \"circle\"}, \"mode\": \"markers\", \"name\": \"State/UTs=Kerala\", \"showlegend\": true, \"type\": \"scatter\", \"x\": [4390489], \"xaxis\": \"x\", \"y\": [209335], \"yaxis\": \"y\"}, {\"hoverlabel\": {\"namelength\": 0}, \"hovertemplate\": \"State/UTs=Ladakh<br>Total Cases=%{x}<br>Active=%{y}<br>Deaths=%{marker.size}\", \"legendgroup\": \"State/UTs=Ladakh\", \"marker\": {\"color\": \"#B6E880\", \"size\": [207], \"sizemode\": \"area\", \"sizeref\": 55.2676, \"symbol\": \"circle\"}, \"mode\": \"markers\", \"name\": \"State/UTs=Ladakh\", \"showlegend\": true, \"type\": \"scatter\", \"x\": [20608], \"xaxis\": \"x\", \"y\": [30], \"yaxis\": \"y\"}, {\"hoverlabel\": {\"namelength\": 0}, \"hovertemplate\": \"State/UTs=Lakshadweep<br>Total Cases=%{x}<br>Active=%{y}<br>Deaths=%{marker.size}\", \"legendgroup\": \"State/UTs=Lakshadweep\", \"marker\": {\"color\": \"#FF97FF\", \"size\": [51], \"sizemode\": \"area\", \"sizeref\": 55.2676, \"symbol\": \"circle\"}, \"mode\": \"markers\", \"name\": \"State/UTs=Lakshadweep\", \"showlegend\": true, \"type\": \"scatter\", \"x\": [10353], \"xaxis\": \"x\", \"y\": [5], \"yaxis\": \"y\"}, {\"hoverlabel\": {\"namelength\": 0}, \"hovertemplate\": \"State/UTs=Madhya Pradesh<br>Total Cases=%{x}<br>Active=%{y}<br>Deaths=%{marker.size}\", \"legendgroup\": \"State/UTs=Madhya Pradesh\", \"marker\": {\"color\": \"#FECB52\", \"size\": [10517], \"sizemode\": \"area\", \"sizeref\": 55.2676, \"symbol\": \"circle\"}, \"mode\": \"markers\", \"name\": \"State/UTs=Madhya Pradesh\", \"showlegend\": true, \"type\": \"scatter\", \"x\": [792353], \"xaxis\": \"x\", \"y\": [131], \"yaxis\": \"y\"}, {\"hoverlabel\": {\"namelength\": 0}, \"hovertemplate\": \"State/UTs=Maharashtra<br>Total Cases=%{x}<br>Active=%{y}<br>Deaths=%{marker.size}\", \"legendgroup\": \"State/UTs=Maharashtra\", \"marker\": {\"color\": \"#636efa\", \"size\": [138169], \"sizemode\": \"area\", \"sizeref\": 55.2676, \"symbol\": \"circle\"}, \"mode\": \"markers\", \"name\": \"State/UTs=Maharashtra\", \"showlegend\": true, \"type\": \"scatter\", \"x\": [6500617], \"xaxis\": \"x\", \"y\": [53427], \"yaxis\": \"y\"}, {\"hoverlabel\": {\"namelength\": 0}, \"hovertemplate\": \"State/UTs=Manipur<br>Total Cases=%{x}<br>Active=%{y}<br>Deaths=%{marker.size}\", \"legendgroup\": \"State/UTs=Manipur\", \"marker\": {\"color\": \"#EF553B\", \"size\": [1812], \"sizemode\": \"area\", \"sizeref\": 55.2676, \"symbol\": \"circle\"}, \"mode\": \"markers\", \"name\": \"State/UTs=Manipur\", \"showlegend\": true, \"type\": \"scatter\", \"x\": [117230], \"xaxis\": \"x\", \"y\": [2617], \"yaxis\": \"y\"}, {\"hoverlabel\": {\"namelength\": 0}, \"hovertemplate\": \"State/UTs=Meghalaya<br>Total Cases=%{x}<br>Active=%{y}<br>Deaths=%{marker.size}\", \"legendgroup\": \"State/UTs=Meghalaya\", \"marker\": {\"color\": \"#00cc96\", \"size\": [1359], \"sizemode\": \"area\", \"sizeref\": 55.2676, \"symbol\": \"circle\"}, \"mode\": \"markers\", \"name\": \"State/UTs=Meghalaya\", \"showlegend\": true, \"type\": \"scatter\", \"x\": [78359], \"xaxis\": \"x\", \"y\": [1859], \"yaxis\": \"y\"}, {\"hoverlabel\": {\"namelength\": 0}, \"hovertemplate\": \"State/UTs=Mizoram<br>Total Cases=%{x}<br>Active=%{y}<br>Deaths=%{marker.size}\", \"legendgroup\": \"State/UTs=Mizoram\", \"marker\": {\"color\": \"#ab63fa\", \"size\": [241], \"sizemode\": \"area\", \"sizeref\": 55.2676, \"symbol\": \"circle\"}, \"mode\": \"markers\", \"name\": \"State/UTs=Mizoram\", \"showlegend\": true, \"type\": \"scatter\", \"x\": [72883], \"xaxis\": \"x\", \"y\": [13369], \"yaxis\": \"y\"}, {\"hoverlabel\": {\"namelength\": 0}, \"hovertemplate\": \"State/UTs=Nagaland<br>Total Cases=%{x}<br>Active=%{y}<br>Deaths=%{marker.size}\", \"legendgroup\": \"State/UTs=Nagaland\", \"marker\": {\"color\": \"#FFA15A\", \"size\": [645], \"sizemode\": \"area\", \"sizeref\": 55.2676, \"symbol\": \"circle\"}, \"mode\": \"markers\", \"name\": \"State/UTs=Nagaland\", \"showlegend\": true, \"type\": \"scatter\", \"x\": [30657], \"xaxis\": \"x\", \"y\": [580], \"yaxis\": \"y\"}, {\"hoverlabel\": {\"namelength\": 0}, \"hovertemplate\": \"State/UTs=Odisha<br>Total Cases=%{x}<br>Active=%{y}<br>Deaths=%{marker.size}\", \"legendgroup\": \"State/UTs=Odisha\", \"marker\": {\"color\": \"#19d3f3\", \"size\": [8104], \"sizemode\": \"area\", \"sizeref\": 55.2676, \"symbol\": \"circle\"}, \"mode\": \"markers\", \"name\": \"State/UTs=Odisha\", \"showlegend\": true, \"type\": \"scatter\", \"x\": [1016833], \"xaxis\": \"x\", \"y\": [5919], \"yaxis\": \"y\"}, {\"hoverlabel\": {\"namelength\": 0}, \"hovertemplate\": \"State/UTs=Puducherry<br>Total Cases=%{x}<br>Active=%{y}<br>Deaths=%{marker.size}\", \"legendgroup\": \"State/UTs=Puducherry\", \"marker\": {\"color\": \"#FF6692\", \"size\": [1823], \"sizemode\": \"area\", \"sizeref\": 55.2676, \"symbol\": \"circle\"}, \"mode\": \"markers\", \"name\": \"State/UTs=Puducherry\", \"showlegend\": true, \"type\": \"scatter\", \"x\": [124836], \"xaxis\": \"x\", \"y\": [860], \"yaxis\": \"y\"}, {\"hoverlabel\": {\"namelength\": 0}, \"hovertemplate\": \"State/UTs=Punjab<br>Total Cases=%{x}<br>Active=%{y}<br>Deaths=%{marker.size}\", \"legendgroup\": \"State/UTs=Punjab\", \"marker\": {\"color\": \"#B6E880\", \"size\": [16457], \"sizemode\": \"area\", \"sizeref\": 55.2676, \"symbol\": \"circle\"}, \"mode\": \"markers\", \"name\": \"State/UTs=Punjab\", \"showlegend\": true, \"type\": \"scatter\", \"x\": [601072], \"xaxis\": \"x\", \"y\": [309], \"yaxis\": \"y\"}, {\"hoverlabel\": {\"namelength\": 0}, \"hovertemplate\": \"State/UTs=Rajasthan<br>Total Cases=%{x}<br>Active=%{y}<br>Deaths=%{marker.size}\", \"legendgroup\": \"State/UTs=Rajasthan\", \"marker\": {\"color\": \"#FF97FF\", \"size\": [8954], \"sizemode\": \"area\", \"sizeref\": 55.2676, \"symbol\": \"circle\"}, \"mode\": \"markers\", \"name\": \"State/UTs=Rajasthan\", \"showlegend\": true, \"type\": \"scatter\", \"x\": [954198], \"xaxis\": \"x\", \"y\": [90], \"yaxis\": \"y\"}, {\"hoverlabel\": {\"namelength\": 0}, \"hovertemplate\": \"State/UTs=Sikkim<br>Total Cases=%{x}<br>Active=%{y}<br>Deaths=%{marker.size}\", \"legendgroup\": \"State/UTs=Sikkim\", \"marker\": {\"color\": \"#FECB52\", \"size\": [377], \"sizemode\": \"area\", \"sizeref\": 55.2676, \"symbol\": \"circle\"}, \"mode\": \"markers\", \"name\": \"State/UTs=Sikkim\", \"showlegend\": true, \"type\": \"scatter\", \"x\": [30650], \"xaxis\": \"x\", \"y\": [809], \"yaxis\": \"y\"}, {\"hoverlabel\": {\"namelength\": 0}, \"hovertemplate\": \"State/UTs=Tamil Nadu<br>Total Cases=%{x}<br>Active=%{y}<br>Deaths=%{marker.size}\", \"legendgroup\": \"State/UTs=Tamil Nadu\", \"marker\": {\"color\": \"#636efa\", \"size\": [35190], \"sizemode\": \"area\", \"sizeref\": 55.2676, \"symbol\": \"circle\"}, \"mode\": \"markers\", \"name\": \"State/UTs=Tamil Nadu\", \"showlegend\": true, \"type\": \"scatter\", \"x\": [2635419], \"xaxis\": \"x\", \"y\": [16522], \"yaxis\": \"y\"}, {\"hoverlabel\": {\"namelength\": 0}, \"hovertemplate\": \"State/UTs=Telengana<br>Total Cases=%{x}<br>Active=%{y}<br>Deaths=%{marker.size}\", \"legendgroup\": \"State/UTs=Telengana\", \"marker\": {\"color\": \"#EF553B\", \"size\": [3897], \"sizemode\": \"area\", \"sizeref\": 55.2676, \"symbol\": \"circle\"}, \"mode\": \"markers\", \"name\": \"State/UTs=Telengana\", \"showlegend\": true, \"type\": \"scatter\", \"x\": [661866], \"xaxis\": \"x\", \"y\": [5253], \"yaxis\": \"y\"}, {\"hoverlabel\": {\"namelength\": 0}, \"hovertemplate\": \"State/UTs=Tripura<br>Total Cases=%{x}<br>Active=%{y}<br>Deaths=%{marker.size}\", \"legendgroup\": \"State/UTs=Tripura\", \"marker\": {\"color\": \"#00cc96\", \"size\": [805], \"sizemode\": \"area\", \"sizeref\": 55.2676, \"symbol\": \"circle\"}, \"mode\": \"markers\", \"name\": \"State/UTs=Tripura\", \"showlegend\": true, \"type\": \"scatter\", \"x\": [83672], \"xaxis\": \"x\", \"y\": [485], \"yaxis\": \"y\"}, {\"hoverlabel\": {\"namelength\": 0}, \"hovertemplate\": \"State/UTs=Uttar Pradesh<br>Total Cases=%{x}<br>Active=%{y}<br>Deaths=%{marker.size}\", \"legendgroup\": \"State/UTs=Uttar Pradesh\", \"marker\": {\"color\": \"#ab63fa\", \"size\": [22883], \"sizemode\": \"area\", \"sizeref\": 55.2676, \"symbol\": \"circle\"}, \"mode\": \"markers\", \"name\": \"State/UTs=Uttar Pradesh\", \"showlegend\": true, \"type\": \"scatter\", \"x\": [1709555], \"xaxis\": \"x\", \"y\": [175], \"yaxis\": \"y\"}, {\"hoverlabel\": {\"namelength\": 0}, \"hovertemplate\": \"State/UTs=Uttarakhand<br>Total Cases=%{x}<br>Active=%{y}<br>Deaths=%{marker.size}\", \"legendgroup\": \"State/UTs=Uttarakhand\", \"marker\": {\"color\": \"#FFA15A\", \"size\": [7389], \"sizemode\": \"area\", \"sizeref\": 55.2676, \"symbol\": \"circle\"}, \"mode\": \"markers\", \"name\": \"State/UTs=Uttarakhand\", \"showlegend\": true, \"type\": \"scatter\", \"x\": [343242], \"xaxis\": \"x\", \"y\": [293], \"yaxis\": \"y\"}, {\"hoverlabel\": {\"namelength\": 0}, \"hovertemplate\": \"State/UTs=West Bengal<br>Total Cases=%{x}<br>Active=%{y}<br>Deaths=%{marker.size}\", \"legendgroup\": \"State/UTs=West Bengal\", \"marker\": {\"color\": \"#19d3f3\", \"size\": [18587], \"sizemode\": \"area\", \"sizeref\": 55.2676, \"symbol\": \"circle\"}, \"mode\": \"markers\", \"name\": \"State/UTs=West Bengal\", \"showlegend\": true, \"type\": \"scatter\", \"x\": [1557414], \"xaxis\": \"x\", \"y\": [8096], \"yaxis\": \"y\"}],\n",
              "                        {\"legend\": {\"itemsizing\": \"constant\", \"tracegroupgap\": 0}, \"margin\": {\"t\": 60}, \"template\": {\"data\": {\"bar\": [{\"error_x\": {\"color\": \"#2a3f5f\"}, \"error_y\": {\"color\": \"#2a3f5f\"}, \"marker\": {\"line\": {\"color\": \"#E5ECF6\", \"width\": 0.5}}, \"type\": \"bar\"}], \"barpolar\": [{\"marker\": {\"line\": {\"color\": \"#E5ECF6\", \"width\": 0.5}}, \"type\": \"barpolar\"}], \"carpet\": [{\"aaxis\": {\"endlinecolor\": \"#2a3f5f\", \"gridcolor\": \"white\", \"linecolor\": \"white\", \"minorgridcolor\": \"white\", \"startlinecolor\": \"#2a3f5f\"}, \"baxis\": {\"endlinecolor\": \"#2a3f5f\", \"gridcolor\": \"white\", \"linecolor\": \"white\", \"minorgridcolor\": \"white\", \"startlinecolor\": \"#2a3f5f\"}, \"type\": \"carpet\"}], \"choropleth\": [{\"colorbar\": {\"outlinewidth\": 0, \"ticks\": \"\"}, \"type\": \"choropleth\"}], \"contour\": [{\"colorbar\": {\"outlinewidth\": 0, \"ticks\": \"\"}, \"colorscale\": [[0.0, \"#0d0887\"], [0.1111111111111111, \"#46039f\"], [0.2222222222222222, \"#7201a8\"], [0.3333333333333333, \"#9c179e\"], [0.4444444444444444, \"#bd3786\"], [0.5555555555555556, \"#d8576b\"], [0.6666666666666666, \"#ed7953\"], [0.7777777777777778, \"#fb9f3a\"], [0.8888888888888888, \"#fdca26\"], [1.0, \"#f0f921\"]], \"type\": \"contour\"}], \"contourcarpet\": [{\"colorbar\": {\"outlinewidth\": 0, \"ticks\": \"\"}, \"type\": \"contourcarpet\"}], \"heatmap\": [{\"colorbar\": {\"outlinewidth\": 0, \"ticks\": \"\"}, \"colorscale\": [[0.0, \"#0d0887\"], [0.1111111111111111, \"#46039f\"], [0.2222222222222222, \"#7201a8\"], [0.3333333333333333, \"#9c179e\"], [0.4444444444444444, \"#bd3786\"], [0.5555555555555556, \"#d8576b\"], [0.6666666666666666, \"#ed7953\"], [0.7777777777777778, \"#fb9f3a\"], [0.8888888888888888, \"#fdca26\"], [1.0, \"#f0f921\"]], \"type\": \"heatmap\"}], \"heatmapgl\": [{\"colorbar\": {\"outlinewidth\": 0, \"ticks\": \"\"}, \"colorscale\": [[0.0, \"#0d0887\"], [0.1111111111111111, \"#46039f\"], [0.2222222222222222, \"#7201a8\"], [0.3333333333333333, \"#9c179e\"], [0.4444444444444444, \"#bd3786\"], [0.5555555555555556, \"#d8576b\"], [0.6666666666666666, \"#ed7953\"], [0.7777777777777778, \"#fb9f3a\"], [0.8888888888888888, \"#fdca26\"], [1.0, \"#f0f921\"]], \"type\": \"heatmapgl\"}], \"histogram\": [{\"marker\": {\"colorbar\": {\"outlinewidth\": 0, \"ticks\": \"\"}}, \"type\": \"histogram\"}], \"histogram2d\": [{\"colorbar\": {\"outlinewidth\": 0, \"ticks\": \"\"}, \"colorscale\": [[0.0, \"#0d0887\"], [0.1111111111111111, \"#46039f\"], [0.2222222222222222, \"#7201a8\"], [0.3333333333333333, \"#9c179e\"], [0.4444444444444444, \"#bd3786\"], [0.5555555555555556, \"#d8576b\"], [0.6666666666666666, \"#ed7953\"], [0.7777777777777778, \"#fb9f3a\"], [0.8888888888888888, \"#fdca26\"], [1.0, \"#f0f921\"]], \"type\": \"histogram2d\"}], \"histogram2dcontour\": [{\"colorbar\": {\"outlinewidth\": 0, \"ticks\": \"\"}, \"colorscale\": [[0.0, \"#0d0887\"], [0.1111111111111111, \"#46039f\"], [0.2222222222222222, \"#7201a8\"], [0.3333333333333333, \"#9c179e\"], [0.4444444444444444, \"#bd3786\"], [0.5555555555555556, \"#d8576b\"], [0.6666666666666666, \"#ed7953\"], [0.7777777777777778, \"#fb9f3a\"], [0.8888888888888888, \"#fdca26\"], [1.0, \"#f0f921\"]], \"type\": \"histogram2dcontour\"}], \"mesh3d\": [{\"colorbar\": {\"outlinewidth\": 0, \"ticks\": \"\"}, \"type\": \"mesh3d\"}], \"parcoords\": [{\"line\": {\"colorbar\": {\"outlinewidth\": 0, \"ticks\": \"\"}}, \"type\": \"parcoords\"}], \"pie\": [{\"automargin\": true, \"type\": \"pie\"}], \"scatter\": [{\"marker\": {\"colorbar\": {\"outlinewidth\": 0, \"ticks\": \"\"}}, \"type\": \"scatter\"}], \"scatter3d\": [{\"line\": {\"colorbar\": {\"outlinewidth\": 0, \"ticks\": \"\"}}, \"marker\": {\"colorbar\": {\"outlinewidth\": 0, \"ticks\": \"\"}}, \"type\": \"scatter3d\"}], \"scattercarpet\": [{\"marker\": {\"colorbar\": {\"outlinewidth\": 0, \"ticks\": \"\"}}, \"type\": \"scattercarpet\"}], \"scattergeo\": [{\"marker\": {\"colorbar\": {\"outlinewidth\": 0, \"ticks\": \"\"}}, \"type\": \"scattergeo\"}], \"scattergl\": [{\"marker\": {\"colorbar\": {\"outlinewidth\": 0, \"ticks\": \"\"}}, \"type\": \"scattergl\"}], \"scattermapbox\": [{\"marker\": {\"colorbar\": {\"outlinewidth\": 0, \"ticks\": \"\"}}, \"type\": \"scattermapbox\"}], \"scatterpolar\": [{\"marker\": {\"colorbar\": {\"outlinewidth\": 0, \"ticks\": \"\"}}, \"type\": \"scatterpolar\"}], \"scatterpolargl\": [{\"marker\": {\"colorbar\": {\"outlinewidth\": 0, \"ticks\": \"\"}}, \"type\": \"scatterpolargl\"}], \"scatterternary\": [{\"marker\": {\"colorbar\": {\"outlinewidth\": 0, \"ticks\": \"\"}}, \"type\": \"scatterternary\"}], \"surface\": [{\"colorbar\": {\"outlinewidth\": 0, \"ticks\": \"\"}, \"colorscale\": [[0.0, \"#0d0887\"], [0.1111111111111111, \"#46039f\"], [0.2222222222222222, \"#7201a8\"], [0.3333333333333333, \"#9c179e\"], [0.4444444444444444, \"#bd3786\"], [0.5555555555555556, \"#d8576b\"], [0.6666666666666666, \"#ed7953\"], [0.7777777777777778, \"#fb9f3a\"], [0.8888888888888888, \"#fdca26\"], [1.0, \"#f0f921\"]], \"type\": \"surface\"}], \"table\": [{\"cells\": {\"fill\": {\"color\": \"#EBF0F8\"}, \"line\": {\"color\": \"white\"}}, \"header\": {\"fill\": {\"color\": \"#C8D4E3\"}, \"line\": {\"color\": \"white\"}}, \"type\": \"table\"}]}, \"layout\": {\"annotationdefaults\": {\"arrowcolor\": \"#2a3f5f\", \"arrowhead\": 0, \"arrowwidth\": 1}, \"coloraxis\": {\"colorbar\": {\"outlinewidth\": 0, \"ticks\": \"\"}}, \"colorscale\": {\"diverging\": [[0, \"#8e0152\"], [0.1, \"#c51b7d\"], [0.2, \"#de77ae\"], [0.3, \"#f1b6da\"], [0.4, \"#fde0ef\"], [0.5, \"#f7f7f7\"], [0.6, \"#e6f5d0\"], [0.7, \"#b8e186\"], [0.8, \"#7fbc41\"], [0.9, \"#4d9221\"], [1, \"#276419\"]], \"sequential\": [[0.0, \"#0d0887\"], [0.1111111111111111, \"#46039f\"], [0.2222222222222222, \"#7201a8\"], [0.3333333333333333, \"#9c179e\"], [0.4444444444444444, \"#bd3786\"], [0.5555555555555556, \"#d8576b\"], [0.6666666666666666, \"#ed7953\"], [0.7777777777777778, \"#fb9f3a\"], [0.8888888888888888, \"#fdca26\"], [1.0, \"#f0f921\"]], \"sequentialminus\": [[0.0, \"#0d0887\"], [0.1111111111111111, \"#46039f\"], [0.2222222222222222, \"#7201a8\"], [0.3333333333333333, \"#9c179e\"], [0.4444444444444444, \"#bd3786\"], [0.5555555555555556, \"#d8576b\"], [0.6666666666666666, \"#ed7953\"], [0.7777777777777778, \"#fb9f3a\"], [0.8888888888888888, \"#fdca26\"], [1.0, \"#f0f921\"]]}, \"colorway\": [\"#636efa\", \"#EF553B\", \"#00cc96\", \"#ab63fa\", \"#FFA15A\", \"#19d3f3\", \"#FF6692\", \"#B6E880\", \"#FF97FF\", \"#FECB52\"], \"font\": {\"color\": \"#2a3f5f\"}, \"geo\": {\"bgcolor\": \"white\", \"lakecolor\": \"white\", \"landcolor\": \"#E5ECF6\", \"showlakes\": true, \"showland\": true, \"subunitcolor\": \"white\"}, \"hoverlabel\": {\"align\": \"left\"}, \"hovermode\": \"closest\", \"mapbox\": {\"style\": \"light\"}, \"paper_bgcolor\": \"white\", \"plot_bgcolor\": \"#E5ECF6\", \"polar\": {\"angularaxis\": {\"gridcolor\": \"white\", \"linecolor\": \"white\", \"ticks\": \"\"}, \"bgcolor\": \"#E5ECF6\", \"radialaxis\": {\"gridcolor\": \"white\", \"linecolor\": \"white\", \"ticks\": \"\"}}, \"scene\": {\"xaxis\": {\"backgroundcolor\": \"#E5ECF6\", \"gridcolor\": \"white\", \"gridwidth\": 2, \"linecolor\": \"white\", \"showbackground\": true, \"ticks\": \"\", \"zerolinecolor\": \"white\"}, \"yaxis\": {\"backgroundcolor\": \"#E5ECF6\", \"gridcolor\": \"white\", \"gridwidth\": 2, \"linecolor\": \"white\", \"showbackground\": true, \"ticks\": \"\", \"zerolinecolor\": \"white\"}, \"zaxis\": {\"backgroundcolor\": \"#E5ECF6\", \"gridcolor\": \"white\", \"gridwidth\": 2, \"linecolor\": \"white\", \"showbackground\": true, \"ticks\": \"\", \"zerolinecolor\": \"white\"}}, \"shapedefaults\": {\"line\": {\"color\": \"#2a3f5f\"}}, \"ternary\": {\"aaxis\": {\"gridcolor\": \"white\", \"linecolor\": \"white\", \"ticks\": \"\"}, \"baxis\": {\"gridcolor\": \"white\", \"linecolor\": \"white\", \"ticks\": \"\"}, \"bgcolor\": \"#E5ECF6\", \"caxis\": {\"gridcolor\": \"white\", \"linecolor\": \"white\", \"ticks\": \"\"}}, \"title\": {\"x\": 0.05}, \"xaxis\": {\"automargin\": true, \"gridcolor\": \"white\", \"linecolor\": \"white\", \"ticks\": \"\", \"title\": {\"standoff\": 15}, \"zerolinecolor\": \"white\", \"zerolinewidth\": 2}, \"yaxis\": {\"automargin\": true, \"gridcolor\": \"white\", \"linecolor\": \"white\", \"ticks\": \"\", \"title\": {\"standoff\": 15}, \"zerolinecolor\": \"white\", \"zerolinewidth\": 2}}}, \"xaxis\": {\"anchor\": \"y\", \"domain\": [0.0, 1.0], \"title\": {\"text\": \"Total Cases\"}, \"type\": \"log\"}, \"yaxis\": {\"anchor\": \"x\", \"domain\": [0.0, 1.0], \"title\": {\"text\": \"Active\"}}},\n",
              "                        {\"responsive\": true}\n",
              "                    ).then(function(){\n",
              "                            \n",
              "var gd = document.getElementById('3ab53bca-bb76-44a4-8395-53ff2081abf0');\n",
              "var x = new MutationObserver(function (mutations, observer) {{\n",
              "        var display = window.getComputedStyle(gd).display;\n",
              "        if (!display || display === 'none') {{\n",
              "            console.log([gd, 'removed!']);\n",
              "            Plotly.purge(gd);\n",
              "            observer.disconnect();\n",
              "        }}\n",
              "}});\n",
              "\n",
              "// Listen for the removal of the full notebook cells\n",
              "var notebookContainer = gd.closest('#notebook-container');\n",
              "if (notebookContainer) {{\n",
              "    x.observe(notebookContainer, {childList: true});\n",
              "}}\n",
              "\n",
              "// Listen for the clearing of the current output cell\n",
              "var outputEl = gd.closest('.output');\n",
              "if (outputEl) {{\n",
              "    x.observe(outputEl, {childList: true});\n",
              "}}\n",
              "\n",
              "                        })\n",
              "                };\n",
              "                \n",
              "            </script>\n",
              "        </div>\n",
              "</body>\n",
              "</html>"
            ]
          },
          "metadata": {}
        }
      ]
    },
    {
      "cell_type": "code",
      "metadata": {
        "execution": {
          "iopub.status.busy": "2021-09-20T11:29:06.582293Z",
          "iopub.execute_input": "2021-09-20T11:29:06.582649Z",
          "iopub.status.idle": "2021-09-20T11:29:06.641062Z",
          "shell.execute_reply.started": "2021-09-20T11:29:06.582612Z",
          "shell.execute_reply": "2021-09-20T11:29:06.640136Z"
        },
        "trusted": true,
        "colab": {
          "base_uri": "https://localhost:8080/",
          "height": 542
        },
        "id": "jjaFyFBFgOZL",
        "outputId": "296193e9-d24e-43d0-cd28-b143dd704f50"
      },
      "source": [
        "fig = px.pie(df, values='Total Cases', names=df['State/UTs'], title='Covid cases (%) in all states of India')\n",
        "fig.show()"
      ],
      "execution_count": 104,
      "outputs": [
        {
          "output_type": "display_data",
          "data": {
            "text/html": [
              "<html>\n",
              "<head><meta charset=\"utf-8\" /></head>\n",
              "<body>\n",
              "    <div>\n",
              "            <script src=\"https://cdnjs.cloudflare.com/ajax/libs/mathjax/2.7.5/MathJax.js?config=TeX-AMS-MML_SVG\"></script><script type=\"text/javascript\">if (window.MathJax) {MathJax.Hub.Config({SVG: {font: \"STIX-Web\"}});}</script>\n",
              "                <script type=\"text/javascript\">window.PlotlyConfig = {MathJaxConfig: 'local'};</script>\n",
              "        <script src=\"https://cdn.plot.ly/plotly-latest.min.js\"></script>    \n",
              "            <div id=\"6dcc656d-c8ee-4496-8653-c79ea187c6db\" class=\"plotly-graph-div\" style=\"height:525px; width:100%;\"></div>\n",
              "            <script type=\"text/javascript\">\n",
              "                \n",
              "                    window.PLOTLYENV=window.PLOTLYENV || {};\n",
              "                    \n",
              "                if (document.getElementById(\"6dcc656d-c8ee-4496-8653-c79ea187c6db\")) {\n",
              "                    Plotly.newPlot(\n",
              "                        '6dcc656d-c8ee-4496-8653-c79ea187c6db',\n",
              "                        [{\"domain\": {\"x\": [0.0, 1.0], \"y\": [0.0, 1.0]}, \"hoverlabel\": {\"namelength\": 0}, \"hovertemplate\": \"State/UTs=%{label}<br>Total Cases=%{value}\", \"labels\": [\"Andaman and Nicobar\", \"Andhra Pradesh\", \"Arunachal Pradesh\", \"Assam\", \"Bihar\", \"Chandigarh\", \"Chhattisgarh\", \"Daman and Diu\", \"Delhi\", \"Goa\", \"Gujarat\", \"Haryana\", \"Himachal Pradesh\", \"Jammu and Kashmir\", \"Jharkhand\", \"Karnataka\", \"Kerala\", \"Ladakh\", \"Lakshadweep\", \"Madhya Pradesh\", \"Maharashtra\", \"Manipur\", \"Meghalaya\", \"Mizoram\", \"Nagaland\", \"Odisha\", \"Puducherry\", \"Punjab\", \"Rajasthan\", \"Sikkim\", \"Tamil Nadu\", \"Telengana\", \"Tripura\", \"Uttar Pradesh\", \"Uttarakhand\", \"West Bengal\"], \"legendgroup\": \"\", \"name\": \"\", \"showlegend\": true, \"type\": \"pie\", \"values\": [7584, 2030849, 53807, 595669, 725833, 65160, 1004902, 10670, 1438250, 174891, 825629, 770659, 215893, 326990, 348079, 2962408, 4390489, 20608, 10353, 792353, 6500617, 117230, 78359, 72883, 30657, 1016833, 124836, 601072, 954198, 30650, 2635419, 661866, 83672, 1709555, 343242, 1557414]}],\n",
              "                        {\"legend\": {\"tracegroupgap\": 0}, \"template\": {\"data\": {\"bar\": [{\"error_x\": {\"color\": \"#2a3f5f\"}, \"error_y\": {\"color\": \"#2a3f5f\"}, \"marker\": {\"line\": {\"color\": \"#E5ECF6\", \"width\": 0.5}}, \"type\": \"bar\"}], \"barpolar\": [{\"marker\": {\"line\": {\"color\": \"#E5ECF6\", \"width\": 0.5}}, \"type\": \"barpolar\"}], \"carpet\": [{\"aaxis\": {\"endlinecolor\": \"#2a3f5f\", \"gridcolor\": \"white\", \"linecolor\": \"white\", \"minorgridcolor\": \"white\", \"startlinecolor\": \"#2a3f5f\"}, \"baxis\": {\"endlinecolor\": \"#2a3f5f\", \"gridcolor\": \"white\", \"linecolor\": \"white\", \"minorgridcolor\": \"white\", \"startlinecolor\": \"#2a3f5f\"}, \"type\": \"carpet\"}], \"choropleth\": [{\"colorbar\": {\"outlinewidth\": 0, \"ticks\": \"\"}, \"type\": \"choropleth\"}], \"contour\": [{\"colorbar\": {\"outlinewidth\": 0, \"ticks\": \"\"}, \"colorscale\": [[0.0, \"#0d0887\"], [0.1111111111111111, \"#46039f\"], [0.2222222222222222, \"#7201a8\"], [0.3333333333333333, \"#9c179e\"], [0.4444444444444444, \"#bd3786\"], [0.5555555555555556, \"#d8576b\"], [0.6666666666666666, \"#ed7953\"], [0.7777777777777778, \"#fb9f3a\"], [0.8888888888888888, \"#fdca26\"], [1.0, \"#f0f921\"]], \"type\": \"contour\"}], \"contourcarpet\": [{\"colorbar\": {\"outlinewidth\": 0, \"ticks\": \"\"}, \"type\": \"contourcarpet\"}], \"heatmap\": [{\"colorbar\": {\"outlinewidth\": 0, \"ticks\": \"\"}, \"colorscale\": [[0.0, \"#0d0887\"], [0.1111111111111111, \"#46039f\"], [0.2222222222222222, \"#7201a8\"], [0.3333333333333333, \"#9c179e\"], [0.4444444444444444, \"#bd3786\"], [0.5555555555555556, \"#d8576b\"], [0.6666666666666666, \"#ed7953\"], [0.7777777777777778, \"#fb9f3a\"], [0.8888888888888888, \"#fdca26\"], [1.0, \"#f0f921\"]], \"type\": \"heatmap\"}], \"heatmapgl\": [{\"colorbar\": {\"outlinewidth\": 0, \"ticks\": \"\"}, \"colorscale\": [[0.0, \"#0d0887\"], [0.1111111111111111, \"#46039f\"], [0.2222222222222222, \"#7201a8\"], [0.3333333333333333, \"#9c179e\"], [0.4444444444444444, \"#bd3786\"], [0.5555555555555556, \"#d8576b\"], [0.6666666666666666, \"#ed7953\"], [0.7777777777777778, \"#fb9f3a\"], [0.8888888888888888, \"#fdca26\"], [1.0, \"#f0f921\"]], \"type\": \"heatmapgl\"}], \"histogram\": [{\"marker\": {\"colorbar\": {\"outlinewidth\": 0, \"ticks\": \"\"}}, \"type\": \"histogram\"}], \"histogram2d\": [{\"colorbar\": {\"outlinewidth\": 0, \"ticks\": \"\"}, \"colorscale\": [[0.0, \"#0d0887\"], [0.1111111111111111, \"#46039f\"], [0.2222222222222222, \"#7201a8\"], [0.3333333333333333, \"#9c179e\"], [0.4444444444444444, \"#bd3786\"], [0.5555555555555556, \"#d8576b\"], [0.6666666666666666, \"#ed7953\"], [0.7777777777777778, \"#fb9f3a\"], [0.8888888888888888, \"#fdca26\"], [1.0, \"#f0f921\"]], \"type\": \"histogram2d\"}], \"histogram2dcontour\": [{\"colorbar\": {\"outlinewidth\": 0, \"ticks\": \"\"}, \"colorscale\": [[0.0, \"#0d0887\"], [0.1111111111111111, \"#46039f\"], [0.2222222222222222, \"#7201a8\"], [0.3333333333333333, \"#9c179e\"], [0.4444444444444444, \"#bd3786\"], [0.5555555555555556, \"#d8576b\"], [0.6666666666666666, \"#ed7953\"], [0.7777777777777778, \"#fb9f3a\"], [0.8888888888888888, \"#fdca26\"], [1.0, \"#f0f921\"]], \"type\": \"histogram2dcontour\"}], \"mesh3d\": [{\"colorbar\": {\"outlinewidth\": 0, \"ticks\": \"\"}, \"type\": \"mesh3d\"}], \"parcoords\": [{\"line\": {\"colorbar\": {\"outlinewidth\": 0, \"ticks\": \"\"}}, \"type\": \"parcoords\"}], \"pie\": [{\"automargin\": true, \"type\": \"pie\"}], \"scatter\": [{\"marker\": {\"colorbar\": {\"outlinewidth\": 0, \"ticks\": \"\"}}, \"type\": \"scatter\"}], \"scatter3d\": [{\"line\": {\"colorbar\": {\"outlinewidth\": 0, \"ticks\": \"\"}}, \"marker\": {\"colorbar\": {\"outlinewidth\": 0, \"ticks\": \"\"}}, \"type\": \"scatter3d\"}], \"scattercarpet\": [{\"marker\": {\"colorbar\": {\"outlinewidth\": 0, \"ticks\": \"\"}}, \"type\": \"scattercarpet\"}], \"scattergeo\": [{\"marker\": {\"colorbar\": {\"outlinewidth\": 0, \"ticks\": \"\"}}, \"type\": \"scattergeo\"}], \"scattergl\": [{\"marker\": {\"colorbar\": {\"outlinewidth\": 0, \"ticks\": \"\"}}, \"type\": \"scattergl\"}], \"scattermapbox\": [{\"marker\": {\"colorbar\": {\"outlinewidth\": 0, \"ticks\": \"\"}}, \"type\": \"scattermapbox\"}], \"scatterpolar\": [{\"marker\": {\"colorbar\": {\"outlinewidth\": 0, \"ticks\": \"\"}}, \"type\": \"scatterpolar\"}], \"scatterpolargl\": [{\"marker\": {\"colorbar\": {\"outlinewidth\": 0, \"ticks\": \"\"}}, \"type\": \"scatterpolargl\"}], \"scatterternary\": [{\"marker\": {\"colorbar\": {\"outlinewidth\": 0, \"ticks\": \"\"}}, \"type\": \"scatterternary\"}], \"surface\": [{\"colorbar\": {\"outlinewidth\": 0, \"ticks\": \"\"}, \"colorscale\": [[0.0, \"#0d0887\"], [0.1111111111111111, \"#46039f\"], [0.2222222222222222, \"#7201a8\"], [0.3333333333333333, \"#9c179e\"], [0.4444444444444444, \"#bd3786\"], [0.5555555555555556, \"#d8576b\"], [0.6666666666666666, \"#ed7953\"], [0.7777777777777778, \"#fb9f3a\"], [0.8888888888888888, \"#fdca26\"], [1.0, \"#f0f921\"]], \"type\": \"surface\"}], \"table\": [{\"cells\": {\"fill\": {\"color\": \"#EBF0F8\"}, \"line\": {\"color\": \"white\"}}, \"header\": {\"fill\": {\"color\": \"#C8D4E3\"}, \"line\": {\"color\": \"white\"}}, \"type\": \"table\"}]}, \"layout\": {\"annotationdefaults\": {\"arrowcolor\": \"#2a3f5f\", \"arrowhead\": 0, \"arrowwidth\": 1}, \"coloraxis\": {\"colorbar\": {\"outlinewidth\": 0, \"ticks\": \"\"}}, \"colorscale\": {\"diverging\": [[0, \"#8e0152\"], [0.1, \"#c51b7d\"], [0.2, \"#de77ae\"], [0.3, \"#f1b6da\"], [0.4, \"#fde0ef\"], [0.5, \"#f7f7f7\"], [0.6, \"#e6f5d0\"], [0.7, \"#b8e186\"], [0.8, \"#7fbc41\"], [0.9, \"#4d9221\"], [1, \"#276419\"]], \"sequential\": [[0.0, \"#0d0887\"], [0.1111111111111111, \"#46039f\"], [0.2222222222222222, \"#7201a8\"], [0.3333333333333333, \"#9c179e\"], [0.4444444444444444, \"#bd3786\"], [0.5555555555555556, \"#d8576b\"], [0.6666666666666666, \"#ed7953\"], [0.7777777777777778, \"#fb9f3a\"], [0.8888888888888888, \"#fdca26\"], [1.0, \"#f0f921\"]], \"sequentialminus\": [[0.0, \"#0d0887\"], [0.1111111111111111, \"#46039f\"], [0.2222222222222222, \"#7201a8\"], [0.3333333333333333, \"#9c179e\"], [0.4444444444444444, \"#bd3786\"], [0.5555555555555556, \"#d8576b\"], [0.6666666666666666, \"#ed7953\"], [0.7777777777777778, \"#fb9f3a\"], [0.8888888888888888, \"#fdca26\"], [1.0, \"#f0f921\"]]}, \"colorway\": [\"#636efa\", \"#EF553B\", \"#00cc96\", \"#ab63fa\", \"#FFA15A\", \"#19d3f3\", \"#FF6692\", \"#B6E880\", \"#FF97FF\", \"#FECB52\"], \"font\": {\"color\": \"#2a3f5f\"}, \"geo\": {\"bgcolor\": \"white\", \"lakecolor\": \"white\", \"landcolor\": \"#E5ECF6\", \"showlakes\": true, \"showland\": true, \"subunitcolor\": \"white\"}, \"hoverlabel\": {\"align\": \"left\"}, \"hovermode\": \"closest\", \"mapbox\": {\"style\": \"light\"}, \"paper_bgcolor\": \"white\", \"plot_bgcolor\": \"#E5ECF6\", \"polar\": {\"angularaxis\": {\"gridcolor\": \"white\", \"linecolor\": \"white\", \"ticks\": \"\"}, \"bgcolor\": \"#E5ECF6\", \"radialaxis\": {\"gridcolor\": \"white\", \"linecolor\": \"white\", \"ticks\": \"\"}}, \"scene\": {\"xaxis\": {\"backgroundcolor\": \"#E5ECF6\", \"gridcolor\": \"white\", \"gridwidth\": 2, \"linecolor\": \"white\", \"showbackground\": true, \"ticks\": \"\", \"zerolinecolor\": \"white\"}, \"yaxis\": {\"backgroundcolor\": \"#E5ECF6\", \"gridcolor\": \"white\", \"gridwidth\": 2, \"linecolor\": \"white\", \"showbackground\": true, \"ticks\": \"\", \"zerolinecolor\": \"white\"}, \"zaxis\": {\"backgroundcolor\": \"#E5ECF6\", \"gridcolor\": \"white\", \"gridwidth\": 2, \"linecolor\": \"white\", \"showbackground\": true, \"ticks\": \"\", \"zerolinecolor\": \"white\"}}, \"shapedefaults\": {\"line\": {\"color\": \"#2a3f5f\"}}, \"ternary\": {\"aaxis\": {\"gridcolor\": \"white\", \"linecolor\": \"white\", \"ticks\": \"\"}, \"baxis\": {\"gridcolor\": \"white\", \"linecolor\": \"white\", \"ticks\": \"\"}, \"bgcolor\": \"#E5ECF6\", \"caxis\": {\"gridcolor\": \"white\", \"linecolor\": \"white\", \"ticks\": \"\"}}, \"title\": {\"x\": 0.05}, \"xaxis\": {\"automargin\": true, \"gridcolor\": \"white\", \"linecolor\": \"white\", \"ticks\": \"\", \"title\": {\"standoff\": 15}, \"zerolinecolor\": \"white\", \"zerolinewidth\": 2}, \"yaxis\": {\"automargin\": true, \"gridcolor\": \"white\", \"linecolor\": \"white\", \"ticks\": \"\", \"title\": {\"standoff\": 15}, \"zerolinecolor\": \"white\", \"zerolinewidth\": 2}}}, \"title\": {\"text\": \"Covid cases (%) in all states of India\"}},\n",
              "                        {\"responsive\": true}\n",
              "                    ).then(function(){\n",
              "                            \n",
              "var gd = document.getElementById('6dcc656d-c8ee-4496-8653-c79ea187c6db');\n",
              "var x = new MutationObserver(function (mutations, observer) {{\n",
              "        var display = window.getComputedStyle(gd).display;\n",
              "        if (!display || display === 'none') {{\n",
              "            console.log([gd, 'removed!']);\n",
              "            Plotly.purge(gd);\n",
              "            observer.disconnect();\n",
              "        }}\n",
              "}});\n",
              "\n",
              "// Listen for the removal of the full notebook cells\n",
              "var notebookContainer = gd.closest('#notebook-container');\n",
              "if (notebookContainer) {{\n",
              "    x.observe(notebookContainer, {childList: true});\n",
              "}}\n",
              "\n",
              "// Listen for the clearing of the current output cell\n",
              "var outputEl = gd.closest('.output');\n",
              "if (outputEl) {{\n",
              "    x.observe(outputEl, {childList: true});\n",
              "}}\n",
              "\n",
              "                        })\n",
              "                };\n",
              "                \n",
              "            </script>\n",
              "        </div>\n",
              "</body>\n",
              "</html>"
            ]
          },
          "metadata": {}
        }
      ]
    },
    {
      "cell_type": "code",
      "metadata": {
        "execution": {
          "iopub.status.busy": "2021-09-20T11:29:06.642119Z",
          "iopub.execute_input": "2021-09-20T11:29:06.642335Z",
          "iopub.status.idle": "2021-09-20T11:29:06.651706Z",
          "shell.execute_reply.started": "2021-09-20T11:29:06.642311Z",
          "shell.execute_reply": "2021-09-20T11:29:06.650736Z"
        },
        "trusted": true,
        "colab": {
          "base_uri": "https://localhost:8080/"
        },
        "id": "ZI7B_a2WgOZM",
        "outputId": "2905ae4b-f08a-4a68-d203-8685409d9c40"
      },
      "source": [
        "df.nunique()"
      ],
      "execution_count": 105,
      "outputs": [
        {
          "output_type": "execute_result",
          "data": {
            "text/plain": [
              "State/UTs              36\n",
              "Total Cases            36\n",
              "Active                 35\n",
              "Discharged             36\n",
              "Deaths                 36\n",
              "Active Ratio (%)       27\n",
              "Discharge Ratio (%)    33\n",
              "Death Ratio (%)        32\n",
              "dtype: int64"
            ]
          },
          "metadata": {},
          "execution_count": 105
        }
      ]
    },
    {
      "cell_type": "code",
      "metadata": {
        "execution": {
          "iopub.status.busy": "2021-09-20T11:29:06.652948Z",
          "iopub.execute_input": "2021-09-20T11:29:06.653248Z",
          "iopub.status.idle": "2021-09-20T11:29:06.701170Z",
          "shell.execute_reply.started": "2021-09-20T11:29:06.653218Z",
          "shell.execute_reply": "2021-09-20T11:29:06.700344Z"
        },
        "trusted": true,
        "colab": {
          "base_uri": "https://localhost:8080/",
          "height": 542
        },
        "id": "JVUohOx-gOZM",
        "outputId": "e5cd7f44-8e52-4e5a-b4f7-0b12f9a58ec5"
      },
      "source": [
        "fig = px.pie(df, values='Discharge Ratio (%)', names=df['State/UTs'], title='Covid cases (%) in all states of India')\n",
        "fig.show()"
      ],
      "execution_count": 106,
      "outputs": [
        {
          "output_type": "display_data",
          "data": {
            "text/html": [
              "<html>\n",
              "<head><meta charset=\"utf-8\" /></head>\n",
              "<body>\n",
              "    <div>\n",
              "            <script src=\"https://cdnjs.cloudflare.com/ajax/libs/mathjax/2.7.5/MathJax.js?config=TeX-AMS-MML_SVG\"></script><script type=\"text/javascript\">if (window.MathJax) {MathJax.Hub.Config({SVG: {font: \"STIX-Web\"}});}</script>\n",
              "                <script type=\"text/javascript\">window.PlotlyConfig = {MathJaxConfig: 'local'};</script>\n",
              "        <script src=\"https://cdn.plot.ly/plotly-latest.min.js\"></script>    \n",
              "            <div id=\"9aba8a21-6431-45b8-8de5-8bbbc1e6b5e0\" class=\"plotly-graph-div\" style=\"height:525px; width:100%;\"></div>\n",
              "            <script type=\"text/javascript\">\n",
              "                \n",
              "                    window.PLOTLYENV=window.PLOTLYENV || {};\n",
              "                    \n",
              "                if (document.getElementById(\"9aba8a21-6431-45b8-8de5-8bbbc1e6b5e0\")) {\n",
              "                    Plotly.newPlot(\n",
              "                        '9aba8a21-6431-45b8-8de5-8bbbc1e6b5e0',\n",
              "                        [{\"domain\": {\"x\": [0.0, 1.0], \"y\": [0.0, 1.0]}, \"hoverlabel\": {\"namelength\": 0}, \"hovertemplate\": \"State/UTs=%{label}<br>Discharge Ratio (%)=%{value}\", \"labels\": [\"Andaman and Nicobar\", \"Andhra Pradesh\", \"Arunachal Pradesh\", \"Assam\", \"Bihar\", \"Chandigarh\", \"Chhattisgarh\", \"Daman and Diu\", \"Delhi\", \"Goa\", \"Gujarat\", \"Haryana\", \"Himachal Pradesh\", \"Jammu and Kashmir\", \"Jharkhand\", \"Karnataka\", \"Kerala\", \"Ladakh\", \"Lakshadweep\", \"Madhya Pradesh\", \"Maharashtra\", \"Manipur\", \"Meghalaya\", \"Mizoram\", \"Nagaland\", \"Odisha\", \"Puducherry\", \"Punjab\", \"Rajasthan\", \"Sikkim\", \"Tamil Nadu\", \"Telengana\", \"Tripura\", \"Uttar Pradesh\", \"Uttarakhand\", \"West Bengal\"], \"legendgroup\": \"\", \"name\": \"\", \"showlegend\": true, \"type\": \"pie\", \"values\": [98.19, 98.59, 98.51, 98.09, 98.66, 98.7, 98.61, 99.92, 98.23, 97.76, 98.76, 98.68, 97.61, 98.27, 98.49, 98.18, 94.72, 98.85, 99.46, 98.66, 97.05, 96.22, 95.89, 81.33, 96.0, 98.62, 97.85, 97.21, 99.05, 96.13, 98.04, 98.62, 98.46, 98.65, 97.76, 98.29]}],\n",
              "                        {\"legend\": {\"tracegroupgap\": 0}, \"template\": {\"data\": {\"bar\": [{\"error_x\": {\"color\": \"#2a3f5f\"}, \"error_y\": {\"color\": \"#2a3f5f\"}, \"marker\": {\"line\": {\"color\": \"#E5ECF6\", \"width\": 0.5}}, \"type\": \"bar\"}], \"barpolar\": [{\"marker\": {\"line\": {\"color\": \"#E5ECF6\", \"width\": 0.5}}, \"type\": \"barpolar\"}], \"carpet\": [{\"aaxis\": {\"endlinecolor\": \"#2a3f5f\", \"gridcolor\": \"white\", \"linecolor\": \"white\", \"minorgridcolor\": \"white\", \"startlinecolor\": \"#2a3f5f\"}, \"baxis\": {\"endlinecolor\": \"#2a3f5f\", \"gridcolor\": \"white\", \"linecolor\": \"white\", \"minorgridcolor\": \"white\", \"startlinecolor\": \"#2a3f5f\"}, \"type\": \"carpet\"}], \"choropleth\": [{\"colorbar\": {\"outlinewidth\": 0, \"ticks\": \"\"}, \"type\": \"choropleth\"}], \"contour\": [{\"colorbar\": {\"outlinewidth\": 0, \"ticks\": \"\"}, \"colorscale\": [[0.0, \"#0d0887\"], [0.1111111111111111, \"#46039f\"], [0.2222222222222222, \"#7201a8\"], [0.3333333333333333, \"#9c179e\"], [0.4444444444444444, \"#bd3786\"], [0.5555555555555556, \"#d8576b\"], [0.6666666666666666, \"#ed7953\"], [0.7777777777777778, \"#fb9f3a\"], [0.8888888888888888, \"#fdca26\"], [1.0, \"#f0f921\"]], \"type\": \"contour\"}], \"contourcarpet\": [{\"colorbar\": {\"outlinewidth\": 0, \"ticks\": \"\"}, \"type\": \"contourcarpet\"}], \"heatmap\": [{\"colorbar\": {\"outlinewidth\": 0, \"ticks\": \"\"}, \"colorscale\": [[0.0, \"#0d0887\"], [0.1111111111111111, \"#46039f\"], [0.2222222222222222, \"#7201a8\"], [0.3333333333333333, \"#9c179e\"], [0.4444444444444444, \"#bd3786\"], [0.5555555555555556, \"#d8576b\"], [0.6666666666666666, \"#ed7953\"], [0.7777777777777778, \"#fb9f3a\"], [0.8888888888888888, \"#fdca26\"], [1.0, \"#f0f921\"]], \"type\": \"heatmap\"}], \"heatmapgl\": [{\"colorbar\": {\"outlinewidth\": 0, \"ticks\": \"\"}, \"colorscale\": [[0.0, \"#0d0887\"], [0.1111111111111111, \"#46039f\"], [0.2222222222222222, \"#7201a8\"], [0.3333333333333333, \"#9c179e\"], [0.4444444444444444, \"#bd3786\"], [0.5555555555555556, \"#d8576b\"], [0.6666666666666666, \"#ed7953\"], [0.7777777777777778, \"#fb9f3a\"], [0.8888888888888888, \"#fdca26\"], [1.0, \"#f0f921\"]], \"type\": \"heatmapgl\"}], \"histogram\": [{\"marker\": {\"colorbar\": {\"outlinewidth\": 0, \"ticks\": \"\"}}, \"type\": \"histogram\"}], \"histogram2d\": [{\"colorbar\": {\"outlinewidth\": 0, \"ticks\": \"\"}, \"colorscale\": [[0.0, \"#0d0887\"], [0.1111111111111111, \"#46039f\"], [0.2222222222222222, \"#7201a8\"], [0.3333333333333333, \"#9c179e\"], [0.4444444444444444, \"#bd3786\"], [0.5555555555555556, \"#d8576b\"], [0.6666666666666666, \"#ed7953\"], [0.7777777777777778, \"#fb9f3a\"], [0.8888888888888888, \"#fdca26\"], [1.0, \"#f0f921\"]], \"type\": \"histogram2d\"}], \"histogram2dcontour\": [{\"colorbar\": {\"outlinewidth\": 0, \"ticks\": \"\"}, \"colorscale\": [[0.0, \"#0d0887\"], [0.1111111111111111, \"#46039f\"], [0.2222222222222222, \"#7201a8\"], [0.3333333333333333, \"#9c179e\"], [0.4444444444444444, \"#bd3786\"], [0.5555555555555556, \"#d8576b\"], [0.6666666666666666, \"#ed7953\"], [0.7777777777777778, \"#fb9f3a\"], [0.8888888888888888, \"#fdca26\"], [1.0, \"#f0f921\"]], \"type\": \"histogram2dcontour\"}], \"mesh3d\": [{\"colorbar\": {\"outlinewidth\": 0, \"ticks\": \"\"}, \"type\": \"mesh3d\"}], \"parcoords\": [{\"line\": {\"colorbar\": {\"outlinewidth\": 0, \"ticks\": \"\"}}, \"type\": \"parcoords\"}], \"pie\": [{\"automargin\": true, \"type\": \"pie\"}], \"scatter\": [{\"marker\": {\"colorbar\": {\"outlinewidth\": 0, \"ticks\": \"\"}}, \"type\": \"scatter\"}], \"scatter3d\": [{\"line\": {\"colorbar\": {\"outlinewidth\": 0, \"ticks\": \"\"}}, \"marker\": {\"colorbar\": {\"outlinewidth\": 0, \"ticks\": \"\"}}, \"type\": \"scatter3d\"}], \"scattercarpet\": [{\"marker\": {\"colorbar\": {\"outlinewidth\": 0, \"ticks\": \"\"}}, \"type\": \"scattercarpet\"}], \"scattergeo\": [{\"marker\": {\"colorbar\": {\"outlinewidth\": 0, \"ticks\": \"\"}}, \"type\": \"scattergeo\"}], \"scattergl\": [{\"marker\": {\"colorbar\": {\"outlinewidth\": 0, \"ticks\": \"\"}}, \"type\": \"scattergl\"}], \"scattermapbox\": [{\"marker\": {\"colorbar\": {\"outlinewidth\": 0, \"ticks\": \"\"}}, \"type\": \"scattermapbox\"}], \"scatterpolar\": [{\"marker\": {\"colorbar\": {\"outlinewidth\": 0, \"ticks\": \"\"}}, \"type\": \"scatterpolar\"}], \"scatterpolargl\": [{\"marker\": {\"colorbar\": {\"outlinewidth\": 0, \"ticks\": \"\"}}, \"type\": \"scatterpolargl\"}], \"scatterternary\": [{\"marker\": {\"colorbar\": {\"outlinewidth\": 0, \"ticks\": \"\"}}, \"type\": \"scatterternary\"}], \"surface\": [{\"colorbar\": {\"outlinewidth\": 0, \"ticks\": \"\"}, \"colorscale\": [[0.0, \"#0d0887\"], [0.1111111111111111, \"#46039f\"], [0.2222222222222222, \"#7201a8\"], [0.3333333333333333, \"#9c179e\"], [0.4444444444444444, \"#bd3786\"], [0.5555555555555556, \"#d8576b\"], [0.6666666666666666, \"#ed7953\"], [0.7777777777777778, \"#fb9f3a\"], [0.8888888888888888, \"#fdca26\"], [1.0, \"#f0f921\"]], \"type\": \"surface\"}], \"table\": [{\"cells\": {\"fill\": {\"color\": \"#EBF0F8\"}, \"line\": {\"color\": \"white\"}}, \"header\": {\"fill\": {\"color\": \"#C8D4E3\"}, \"line\": {\"color\": \"white\"}}, \"type\": \"table\"}]}, \"layout\": {\"annotationdefaults\": {\"arrowcolor\": \"#2a3f5f\", \"arrowhead\": 0, \"arrowwidth\": 1}, \"coloraxis\": {\"colorbar\": {\"outlinewidth\": 0, \"ticks\": \"\"}}, \"colorscale\": {\"diverging\": [[0, \"#8e0152\"], [0.1, \"#c51b7d\"], [0.2, \"#de77ae\"], [0.3, \"#f1b6da\"], [0.4, \"#fde0ef\"], [0.5, \"#f7f7f7\"], [0.6, \"#e6f5d0\"], [0.7, \"#b8e186\"], [0.8, \"#7fbc41\"], [0.9, \"#4d9221\"], [1, \"#276419\"]], \"sequential\": [[0.0, \"#0d0887\"], [0.1111111111111111, \"#46039f\"], [0.2222222222222222, \"#7201a8\"], [0.3333333333333333, \"#9c179e\"], [0.4444444444444444, \"#bd3786\"], [0.5555555555555556, \"#d8576b\"], [0.6666666666666666, \"#ed7953\"], [0.7777777777777778, \"#fb9f3a\"], [0.8888888888888888, \"#fdca26\"], [1.0, \"#f0f921\"]], \"sequentialminus\": [[0.0, \"#0d0887\"], [0.1111111111111111, \"#46039f\"], [0.2222222222222222, \"#7201a8\"], [0.3333333333333333, \"#9c179e\"], [0.4444444444444444, \"#bd3786\"], [0.5555555555555556, \"#d8576b\"], [0.6666666666666666, \"#ed7953\"], [0.7777777777777778, \"#fb9f3a\"], [0.8888888888888888, \"#fdca26\"], [1.0, \"#f0f921\"]]}, \"colorway\": [\"#636efa\", \"#EF553B\", \"#00cc96\", \"#ab63fa\", \"#FFA15A\", \"#19d3f3\", \"#FF6692\", \"#B6E880\", \"#FF97FF\", \"#FECB52\"], \"font\": {\"color\": \"#2a3f5f\"}, \"geo\": {\"bgcolor\": \"white\", \"lakecolor\": \"white\", \"landcolor\": \"#E5ECF6\", \"showlakes\": true, \"showland\": true, \"subunitcolor\": \"white\"}, \"hoverlabel\": {\"align\": \"left\"}, \"hovermode\": \"closest\", \"mapbox\": {\"style\": \"light\"}, \"paper_bgcolor\": \"white\", \"plot_bgcolor\": \"#E5ECF6\", \"polar\": {\"angularaxis\": {\"gridcolor\": \"white\", \"linecolor\": \"white\", \"ticks\": \"\"}, \"bgcolor\": \"#E5ECF6\", \"radialaxis\": {\"gridcolor\": \"white\", \"linecolor\": \"white\", \"ticks\": \"\"}}, \"scene\": {\"xaxis\": {\"backgroundcolor\": \"#E5ECF6\", \"gridcolor\": \"white\", \"gridwidth\": 2, \"linecolor\": \"white\", \"showbackground\": true, \"ticks\": \"\", \"zerolinecolor\": \"white\"}, \"yaxis\": {\"backgroundcolor\": \"#E5ECF6\", \"gridcolor\": \"white\", \"gridwidth\": 2, \"linecolor\": \"white\", \"showbackground\": true, \"ticks\": \"\", \"zerolinecolor\": \"white\"}, \"zaxis\": {\"backgroundcolor\": \"#E5ECF6\", \"gridcolor\": \"white\", \"gridwidth\": 2, \"linecolor\": \"white\", \"showbackground\": true, \"ticks\": \"\", \"zerolinecolor\": \"white\"}}, \"shapedefaults\": {\"line\": {\"color\": \"#2a3f5f\"}}, \"ternary\": {\"aaxis\": {\"gridcolor\": \"white\", \"linecolor\": \"white\", \"ticks\": \"\"}, \"baxis\": {\"gridcolor\": \"white\", \"linecolor\": \"white\", \"ticks\": \"\"}, \"bgcolor\": \"#E5ECF6\", \"caxis\": {\"gridcolor\": \"white\", \"linecolor\": \"white\", \"ticks\": \"\"}}, \"title\": {\"x\": 0.05}, \"xaxis\": {\"automargin\": true, \"gridcolor\": \"white\", \"linecolor\": \"white\", \"ticks\": \"\", \"title\": {\"standoff\": 15}, \"zerolinecolor\": \"white\", \"zerolinewidth\": 2}, \"yaxis\": {\"automargin\": true, \"gridcolor\": \"white\", \"linecolor\": \"white\", \"ticks\": \"\", \"title\": {\"standoff\": 15}, \"zerolinecolor\": \"white\", \"zerolinewidth\": 2}}}, \"title\": {\"text\": \"Covid cases (%) in all states of India\"}},\n",
              "                        {\"responsive\": true}\n",
              "                    ).then(function(){\n",
              "                            \n",
              "var gd = document.getElementById('9aba8a21-6431-45b8-8de5-8bbbc1e6b5e0');\n",
              "var x = new MutationObserver(function (mutations, observer) {{\n",
              "        var display = window.getComputedStyle(gd).display;\n",
              "        if (!display || display === 'none') {{\n",
              "            console.log([gd, 'removed!']);\n",
              "            Plotly.purge(gd);\n",
              "            observer.disconnect();\n",
              "        }}\n",
              "}});\n",
              "\n",
              "// Listen for the removal of the full notebook cells\n",
              "var notebookContainer = gd.closest('#notebook-container');\n",
              "if (notebookContainer) {{\n",
              "    x.observe(notebookContainer, {childList: true});\n",
              "}}\n",
              "\n",
              "// Listen for the clearing of the current output cell\n",
              "var outputEl = gd.closest('.output');\n",
              "if (outputEl) {{\n",
              "    x.observe(outputEl, {childList: true});\n",
              "}}\n",
              "\n",
              "                        })\n",
              "                };\n",
              "                \n",
              "            </script>\n",
              "        </div>\n",
              "</body>\n",
              "</html>"
            ]
          },
          "metadata": {}
        }
      ]
    },
    {
      "cell_type": "code",
      "metadata": {
        "execution": {
          "iopub.status.busy": "2021-09-20T11:29:06.702313Z",
          "iopub.execute_input": "2021-09-20T11:29:06.702523Z",
          "iopub.status.idle": "2021-09-20T11:29:06.747577Z",
          "shell.execute_reply.started": "2021-09-20T11:29:06.702499Z",
          "shell.execute_reply": "2021-09-20T11:29:06.746652Z"
        },
        "trusted": true,
        "colab": {
          "base_uri": "https://localhost:8080/",
          "height": 542
        },
        "id": "4OW0MbK6gOZM",
        "outputId": "7185a519-46ff-490e-8d59-9e02f99d9704"
      },
      "source": [
        "fig = px.pie(df, values='Death Ratio (%)', names=df['State/UTs'], title='Covid cases (%) in all states of India')\n",
        "fig.show()"
      ],
      "execution_count": 107,
      "outputs": [
        {
          "output_type": "display_data",
          "data": {
            "text/html": [
              "<html>\n",
              "<head><meta charset=\"utf-8\" /></head>\n",
              "<body>\n",
              "    <div>\n",
              "            <script src=\"https://cdnjs.cloudflare.com/ajax/libs/mathjax/2.7.5/MathJax.js?config=TeX-AMS-MML_SVG\"></script><script type=\"text/javascript\">if (window.MathJax) {MathJax.Hub.Config({SVG: {font: \"STIX-Web\"}});}</script>\n",
              "                <script type=\"text/javascript\">window.PlotlyConfig = {MathJaxConfig: 'local'};</script>\n",
              "        <script src=\"https://cdn.plot.ly/plotly-latest.min.js\"></script>    \n",
              "            <div id=\"0c6b496e-4dec-4b17-87af-275a17e5b6bc\" class=\"plotly-graph-div\" style=\"height:525px; width:100%;\"></div>\n",
              "            <script type=\"text/javascript\">\n",
              "                \n",
              "                    window.PLOTLYENV=window.PLOTLYENV || {};\n",
              "                    \n",
              "                if (document.getElementById(\"0c6b496e-4dec-4b17-87af-275a17e5b6bc\")) {\n",
              "                    Plotly.newPlot(\n",
              "                        '0c6b496e-4dec-4b17-87af-275a17e5b6bc',\n",
              "                        [{\"domain\": {\"x\": [0.0, 1.0], \"y\": [0.0, 1.0]}, \"hoverlabel\": {\"namelength\": 0}, \"hovertemplate\": \"State/UTs=%{label}<br>Death Ratio (%)=%{value}\", \"labels\": [\"Andaman and Nicobar\", \"Andhra Pradesh\", \"Arunachal Pradesh\", \"Assam\", \"Bihar\", \"Chandigarh\", \"Chhattisgarh\", \"Daman and Diu\", \"Delhi\", \"Goa\", \"Gujarat\", \"Haryana\", \"Himachal Pradesh\", \"Jammu and Kashmir\", \"Jharkhand\", \"Karnataka\", \"Kerala\", \"Ladakh\", \"Lakshadweep\", \"Madhya Pradesh\", \"Maharashtra\", \"Manipur\", \"Meghalaya\", \"Mizoram\", \"Nagaland\", \"Odisha\", \"Puducherry\", \"Punjab\", \"Rajasthan\", \"Sikkim\", \"Tamil Nadu\", \"Telengana\", \"Tripura\", \"Uttar Pradesh\", \"Uttarakhand\", \"West Bengal\"], \"legendgroup\": \"\", \"name\": \"\", \"showlegend\": true, \"type\": \"pie\", \"values\": [1.7, 0.69, 0.5, 0.97, 1.33, 1.25, 1.35, 0.04, 1.74, 1.84, 1.22, 1.27, 1.69, 1.35, 1.47, 1.27, 0.52, 1.0, 0.49, 1.33, 2.13, 1.55, 1.73, 0.33, 2.1, 0.8, 1.46, 2.74, 0.94, 1.23, 1.34, 0.59, 0.96, 1.34, 2.15, 1.19]}],\n",
              "                        {\"legend\": {\"tracegroupgap\": 0}, \"template\": {\"data\": {\"bar\": [{\"error_x\": {\"color\": \"#2a3f5f\"}, \"error_y\": {\"color\": \"#2a3f5f\"}, \"marker\": {\"line\": {\"color\": \"#E5ECF6\", \"width\": 0.5}}, \"type\": \"bar\"}], \"barpolar\": [{\"marker\": {\"line\": {\"color\": \"#E5ECF6\", \"width\": 0.5}}, \"type\": \"barpolar\"}], \"carpet\": [{\"aaxis\": {\"endlinecolor\": \"#2a3f5f\", \"gridcolor\": \"white\", \"linecolor\": \"white\", \"minorgridcolor\": \"white\", \"startlinecolor\": \"#2a3f5f\"}, \"baxis\": {\"endlinecolor\": \"#2a3f5f\", \"gridcolor\": \"white\", \"linecolor\": \"white\", \"minorgridcolor\": \"white\", \"startlinecolor\": \"#2a3f5f\"}, \"type\": \"carpet\"}], \"choropleth\": [{\"colorbar\": {\"outlinewidth\": 0, \"ticks\": \"\"}, \"type\": \"choropleth\"}], \"contour\": [{\"colorbar\": {\"outlinewidth\": 0, \"ticks\": \"\"}, \"colorscale\": [[0.0, \"#0d0887\"], [0.1111111111111111, \"#46039f\"], [0.2222222222222222, \"#7201a8\"], [0.3333333333333333, \"#9c179e\"], [0.4444444444444444, \"#bd3786\"], [0.5555555555555556, \"#d8576b\"], [0.6666666666666666, \"#ed7953\"], [0.7777777777777778, \"#fb9f3a\"], [0.8888888888888888, \"#fdca26\"], [1.0, \"#f0f921\"]], \"type\": \"contour\"}], \"contourcarpet\": [{\"colorbar\": {\"outlinewidth\": 0, \"ticks\": \"\"}, \"type\": \"contourcarpet\"}], \"heatmap\": [{\"colorbar\": {\"outlinewidth\": 0, \"ticks\": \"\"}, \"colorscale\": [[0.0, \"#0d0887\"], [0.1111111111111111, \"#46039f\"], [0.2222222222222222, \"#7201a8\"], [0.3333333333333333, \"#9c179e\"], [0.4444444444444444, \"#bd3786\"], [0.5555555555555556, \"#d8576b\"], [0.6666666666666666, \"#ed7953\"], [0.7777777777777778, \"#fb9f3a\"], [0.8888888888888888, \"#fdca26\"], [1.0, \"#f0f921\"]], \"type\": \"heatmap\"}], \"heatmapgl\": [{\"colorbar\": {\"outlinewidth\": 0, \"ticks\": \"\"}, \"colorscale\": [[0.0, \"#0d0887\"], [0.1111111111111111, \"#46039f\"], [0.2222222222222222, \"#7201a8\"], [0.3333333333333333, \"#9c179e\"], [0.4444444444444444, \"#bd3786\"], [0.5555555555555556, \"#d8576b\"], [0.6666666666666666, \"#ed7953\"], [0.7777777777777778, \"#fb9f3a\"], [0.8888888888888888, \"#fdca26\"], [1.0, \"#f0f921\"]], \"type\": \"heatmapgl\"}], \"histogram\": [{\"marker\": {\"colorbar\": {\"outlinewidth\": 0, \"ticks\": \"\"}}, \"type\": \"histogram\"}], \"histogram2d\": [{\"colorbar\": {\"outlinewidth\": 0, \"ticks\": \"\"}, \"colorscale\": [[0.0, \"#0d0887\"], [0.1111111111111111, \"#46039f\"], [0.2222222222222222, \"#7201a8\"], [0.3333333333333333, \"#9c179e\"], [0.4444444444444444, \"#bd3786\"], [0.5555555555555556, \"#d8576b\"], [0.6666666666666666, \"#ed7953\"], [0.7777777777777778, \"#fb9f3a\"], [0.8888888888888888, \"#fdca26\"], [1.0, \"#f0f921\"]], \"type\": \"histogram2d\"}], \"histogram2dcontour\": [{\"colorbar\": {\"outlinewidth\": 0, \"ticks\": \"\"}, \"colorscale\": [[0.0, \"#0d0887\"], [0.1111111111111111, \"#46039f\"], [0.2222222222222222, \"#7201a8\"], [0.3333333333333333, \"#9c179e\"], [0.4444444444444444, \"#bd3786\"], [0.5555555555555556, \"#d8576b\"], [0.6666666666666666, \"#ed7953\"], [0.7777777777777778, \"#fb9f3a\"], [0.8888888888888888, \"#fdca26\"], [1.0, \"#f0f921\"]], \"type\": \"histogram2dcontour\"}], \"mesh3d\": [{\"colorbar\": {\"outlinewidth\": 0, \"ticks\": \"\"}, \"type\": \"mesh3d\"}], \"parcoords\": [{\"line\": {\"colorbar\": {\"outlinewidth\": 0, \"ticks\": \"\"}}, \"type\": \"parcoords\"}], \"pie\": [{\"automargin\": true, \"type\": \"pie\"}], \"scatter\": [{\"marker\": {\"colorbar\": {\"outlinewidth\": 0, \"ticks\": \"\"}}, \"type\": \"scatter\"}], \"scatter3d\": [{\"line\": {\"colorbar\": {\"outlinewidth\": 0, \"ticks\": \"\"}}, \"marker\": {\"colorbar\": {\"outlinewidth\": 0, \"ticks\": \"\"}}, \"type\": \"scatter3d\"}], \"scattercarpet\": [{\"marker\": {\"colorbar\": {\"outlinewidth\": 0, \"ticks\": \"\"}}, \"type\": \"scattercarpet\"}], \"scattergeo\": [{\"marker\": {\"colorbar\": {\"outlinewidth\": 0, \"ticks\": \"\"}}, \"type\": \"scattergeo\"}], \"scattergl\": [{\"marker\": {\"colorbar\": {\"outlinewidth\": 0, \"ticks\": \"\"}}, \"type\": \"scattergl\"}], \"scattermapbox\": [{\"marker\": {\"colorbar\": {\"outlinewidth\": 0, \"ticks\": \"\"}}, \"type\": \"scattermapbox\"}], \"scatterpolar\": [{\"marker\": {\"colorbar\": {\"outlinewidth\": 0, \"ticks\": \"\"}}, \"type\": \"scatterpolar\"}], \"scatterpolargl\": [{\"marker\": {\"colorbar\": {\"outlinewidth\": 0, \"ticks\": \"\"}}, \"type\": \"scatterpolargl\"}], \"scatterternary\": [{\"marker\": {\"colorbar\": {\"outlinewidth\": 0, \"ticks\": \"\"}}, \"type\": \"scatterternary\"}], \"surface\": [{\"colorbar\": {\"outlinewidth\": 0, \"ticks\": \"\"}, \"colorscale\": [[0.0, \"#0d0887\"], [0.1111111111111111, \"#46039f\"], [0.2222222222222222, \"#7201a8\"], [0.3333333333333333, \"#9c179e\"], [0.4444444444444444, \"#bd3786\"], [0.5555555555555556, \"#d8576b\"], [0.6666666666666666, \"#ed7953\"], [0.7777777777777778, \"#fb9f3a\"], [0.8888888888888888, \"#fdca26\"], [1.0, \"#f0f921\"]], \"type\": \"surface\"}], \"table\": [{\"cells\": {\"fill\": {\"color\": \"#EBF0F8\"}, \"line\": {\"color\": \"white\"}}, \"header\": {\"fill\": {\"color\": \"#C8D4E3\"}, \"line\": {\"color\": \"white\"}}, \"type\": \"table\"}]}, \"layout\": {\"annotationdefaults\": {\"arrowcolor\": \"#2a3f5f\", \"arrowhead\": 0, \"arrowwidth\": 1}, \"coloraxis\": {\"colorbar\": {\"outlinewidth\": 0, \"ticks\": \"\"}}, \"colorscale\": {\"diverging\": [[0, \"#8e0152\"], [0.1, \"#c51b7d\"], [0.2, \"#de77ae\"], [0.3, \"#f1b6da\"], [0.4, \"#fde0ef\"], [0.5, \"#f7f7f7\"], [0.6, \"#e6f5d0\"], [0.7, \"#b8e186\"], [0.8, \"#7fbc41\"], [0.9, \"#4d9221\"], [1, \"#276419\"]], \"sequential\": [[0.0, \"#0d0887\"], [0.1111111111111111, \"#46039f\"], [0.2222222222222222, \"#7201a8\"], [0.3333333333333333, \"#9c179e\"], [0.4444444444444444, \"#bd3786\"], [0.5555555555555556, \"#d8576b\"], [0.6666666666666666, \"#ed7953\"], [0.7777777777777778, \"#fb9f3a\"], [0.8888888888888888, \"#fdca26\"], [1.0, \"#f0f921\"]], \"sequentialminus\": [[0.0, \"#0d0887\"], [0.1111111111111111, \"#46039f\"], [0.2222222222222222, \"#7201a8\"], [0.3333333333333333, \"#9c179e\"], [0.4444444444444444, \"#bd3786\"], [0.5555555555555556, \"#d8576b\"], [0.6666666666666666, \"#ed7953\"], [0.7777777777777778, \"#fb9f3a\"], [0.8888888888888888, \"#fdca26\"], [1.0, \"#f0f921\"]]}, \"colorway\": [\"#636efa\", \"#EF553B\", \"#00cc96\", \"#ab63fa\", \"#FFA15A\", \"#19d3f3\", \"#FF6692\", \"#B6E880\", \"#FF97FF\", \"#FECB52\"], \"font\": {\"color\": \"#2a3f5f\"}, \"geo\": {\"bgcolor\": \"white\", \"lakecolor\": \"white\", \"landcolor\": \"#E5ECF6\", \"showlakes\": true, \"showland\": true, \"subunitcolor\": \"white\"}, \"hoverlabel\": {\"align\": \"left\"}, \"hovermode\": \"closest\", \"mapbox\": {\"style\": \"light\"}, \"paper_bgcolor\": \"white\", \"plot_bgcolor\": \"#E5ECF6\", \"polar\": {\"angularaxis\": {\"gridcolor\": \"white\", \"linecolor\": \"white\", \"ticks\": \"\"}, \"bgcolor\": \"#E5ECF6\", \"radialaxis\": {\"gridcolor\": \"white\", \"linecolor\": \"white\", \"ticks\": \"\"}}, \"scene\": {\"xaxis\": {\"backgroundcolor\": \"#E5ECF6\", \"gridcolor\": \"white\", \"gridwidth\": 2, \"linecolor\": \"white\", \"showbackground\": true, \"ticks\": \"\", \"zerolinecolor\": \"white\"}, \"yaxis\": {\"backgroundcolor\": \"#E5ECF6\", \"gridcolor\": \"white\", \"gridwidth\": 2, \"linecolor\": \"white\", \"showbackground\": true, \"ticks\": \"\", \"zerolinecolor\": \"white\"}, \"zaxis\": {\"backgroundcolor\": \"#E5ECF6\", \"gridcolor\": \"white\", \"gridwidth\": 2, \"linecolor\": \"white\", \"showbackground\": true, \"ticks\": \"\", \"zerolinecolor\": \"white\"}}, \"shapedefaults\": {\"line\": {\"color\": \"#2a3f5f\"}}, \"ternary\": {\"aaxis\": {\"gridcolor\": \"white\", \"linecolor\": \"white\", \"ticks\": \"\"}, \"baxis\": {\"gridcolor\": \"white\", \"linecolor\": \"white\", \"ticks\": \"\"}, \"bgcolor\": \"#E5ECF6\", \"caxis\": {\"gridcolor\": \"white\", \"linecolor\": \"white\", \"ticks\": \"\"}}, \"title\": {\"x\": 0.05}, \"xaxis\": {\"automargin\": true, \"gridcolor\": \"white\", \"linecolor\": \"white\", \"ticks\": \"\", \"title\": {\"standoff\": 15}, \"zerolinecolor\": \"white\", \"zerolinewidth\": 2}, \"yaxis\": {\"automargin\": true, \"gridcolor\": \"white\", \"linecolor\": \"white\", \"ticks\": \"\", \"title\": {\"standoff\": 15}, \"zerolinecolor\": \"white\", \"zerolinewidth\": 2}}}, \"title\": {\"text\": \"Covid cases (%) in all states of India\"}},\n",
              "                        {\"responsive\": true}\n",
              "                    ).then(function(){\n",
              "                            \n",
              "var gd = document.getElementById('0c6b496e-4dec-4b17-87af-275a17e5b6bc');\n",
              "var x = new MutationObserver(function (mutations, observer) {{\n",
              "        var display = window.getComputedStyle(gd).display;\n",
              "        if (!display || display === 'none') {{\n",
              "            console.log([gd, 'removed!']);\n",
              "            Plotly.purge(gd);\n",
              "            observer.disconnect();\n",
              "        }}\n",
              "}});\n",
              "\n",
              "// Listen for the removal of the full notebook cells\n",
              "var notebookContainer = gd.closest('#notebook-container');\n",
              "if (notebookContainer) {{\n",
              "    x.observe(notebookContainer, {childList: true});\n",
              "}}\n",
              "\n",
              "// Listen for the clearing of the current output cell\n",
              "var outputEl = gd.closest('.output');\n",
              "if (outputEl) {{\n",
              "    x.observe(outputEl, {childList: true});\n",
              "}}\n",
              "\n",
              "                        })\n",
              "                };\n",
              "                \n",
              "            </script>\n",
              "        </div>\n",
              "</body>\n",
              "</html>"
            ]
          },
          "metadata": {}
        }
      ]
    },
    {
      "cell_type": "code",
      "metadata": {
        "execution": {
          "iopub.status.busy": "2021-09-20T11:29:06.748726Z",
          "iopub.execute_input": "2021-09-20T11:29:06.749666Z",
          "iopub.status.idle": "2021-09-20T11:29:06.762892Z",
          "shell.execute_reply.started": "2021-09-20T11:29:06.749619Z",
          "shell.execute_reply": "2021-09-20T11:29:06.761831Z"
        },
        "trusted": true,
        "colab": {
          "base_uri": "https://localhost:8080/",
          "height": 80
        },
        "id": "reHbTt-FgOZM",
        "outputId": "4f4b9b0e-7c9b-41a6-c9e4-d9de3f57539e"
      },
      "source": [
        "# State having highest number of covid cases in India.\n",
        "\n",
        "highest_cases = df[df['Total Cases'] == max(df['Total Cases'])]\n",
        "highest_cases"
      ],
      "execution_count": 108,
      "outputs": [
        {
          "output_type": "execute_result",
          "data": {
            "text/html": [
              "<div>\n",
              "<style scoped>\n",
              "    .dataframe tbody tr th:only-of-type {\n",
              "        vertical-align: middle;\n",
              "    }\n",
              "\n",
              "    .dataframe tbody tr th {\n",
              "        vertical-align: top;\n",
              "    }\n",
              "\n",
              "    .dataframe thead th {\n",
              "        text-align: right;\n",
              "    }\n",
              "</style>\n",
              "<table border=\"1\" class=\"dataframe\">\n",
              "  <thead>\n",
              "    <tr style=\"text-align: right;\">\n",
              "      <th></th>\n",
              "      <th>State/UTs</th>\n",
              "      <th>Total Cases</th>\n",
              "      <th>Active</th>\n",
              "      <th>Discharged</th>\n",
              "      <th>Deaths</th>\n",
              "      <th>Active Ratio (%)</th>\n",
              "      <th>Discharge Ratio (%)</th>\n",
              "      <th>Death Ratio (%)</th>\n",
              "    </tr>\n",
              "  </thead>\n",
              "  <tbody>\n",
              "    <tr>\n",
              "      <th>20</th>\n",
              "      <td>Maharashtra</td>\n",
              "      <td>6500617</td>\n",
              "      <td>53427</td>\n",
              "      <td>6309021</td>\n",
              "      <td>138169</td>\n",
              "      <td>0.82</td>\n",
              "      <td>97.05</td>\n",
              "      <td>2.13</td>\n",
              "    </tr>\n",
              "  </tbody>\n",
              "</table>\n",
              "</div>"
            ],
            "text/plain": [
              "      State/UTs  Total Cases  ...  Discharge Ratio (%)  Death Ratio (%)\n",
              "20  Maharashtra      6500617  ...                97.05             2.13\n",
              "\n",
              "[1 rows x 8 columns]"
            ]
          },
          "metadata": {},
          "execution_count": 108
        }
      ]
    },
    {
      "cell_type": "code",
      "metadata": {
        "execution": {
          "iopub.status.busy": "2021-09-20T11:29:06.767827Z",
          "iopub.execute_input": "2021-09-20T11:29:06.768104Z",
          "iopub.status.idle": "2021-09-20T11:29:06.782114Z",
          "shell.execute_reply.started": "2021-09-20T11:29:06.768076Z",
          "shell.execute_reply": "2021-09-20T11:29:06.781188Z"
        },
        "trusted": true,
        "colab": {
          "base_uri": "https://localhost:8080/",
          "height": 80
        },
        "id": "6JzyffcjgOZM",
        "outputId": "b9689fa6-c9d0-4f4c-8111-b4a8eb89ad4f"
      },
      "source": [
        "# State having Lowest number of covid cases in India.\n",
        "\n",
        "lowest_cases = df[df['Total Cases'] == min(df['Total Cases'])]\n",
        "lowest_cases"
      ],
      "execution_count": 109,
      "outputs": [
        {
          "output_type": "execute_result",
          "data": {
            "text/html": [
              "<div>\n",
              "<style scoped>\n",
              "    .dataframe tbody tr th:only-of-type {\n",
              "        vertical-align: middle;\n",
              "    }\n",
              "\n",
              "    .dataframe tbody tr th {\n",
              "        vertical-align: top;\n",
              "    }\n",
              "\n",
              "    .dataframe thead th {\n",
              "        text-align: right;\n",
              "    }\n",
              "</style>\n",
              "<table border=\"1\" class=\"dataframe\">\n",
              "  <thead>\n",
              "    <tr style=\"text-align: right;\">\n",
              "      <th></th>\n",
              "      <th>State/UTs</th>\n",
              "      <th>Total Cases</th>\n",
              "      <th>Active</th>\n",
              "      <th>Discharged</th>\n",
              "      <th>Deaths</th>\n",
              "      <th>Active Ratio (%)</th>\n",
              "      <th>Discharge Ratio (%)</th>\n",
              "      <th>Death Ratio (%)</th>\n",
              "    </tr>\n",
              "  </thead>\n",
              "  <tbody>\n",
              "    <tr>\n",
              "      <th>0</th>\n",
              "      <td>Andaman and Nicobar</td>\n",
              "      <td>7584</td>\n",
              "      <td>8</td>\n",
              "      <td>7447</td>\n",
              "      <td>129</td>\n",
              "      <td>0.11</td>\n",
              "      <td>98.19</td>\n",
              "      <td>1.7</td>\n",
              "    </tr>\n",
              "  </tbody>\n",
              "</table>\n",
              "</div>"
            ],
            "text/plain": [
              "             State/UTs  Total Cases  ...  Discharge Ratio (%)  Death Ratio (%)\n",
              "0  Andaman and Nicobar         7584  ...                98.19              1.7\n",
              "\n",
              "[1 rows x 8 columns]"
            ]
          },
          "metadata": {},
          "execution_count": 109
        }
      ]
    },
    {
      "cell_type": "code",
      "metadata": {
        "execution": {
          "iopub.status.busy": "2021-09-20T11:29:06.783641Z",
          "iopub.execute_input": "2021-09-20T11:29:06.783976Z",
          "iopub.status.idle": "2021-09-20T11:29:06.798595Z",
          "shell.execute_reply.started": "2021-09-20T11:29:06.783932Z",
          "shell.execute_reply": "2021-09-20T11:29:06.797473Z"
        },
        "trusted": true,
        "colab": {
          "base_uri": "https://localhost:8080/",
          "height": 80
        },
        "id": "KYNOrM8vgOZN",
        "outputId": "f1b3004b-3c52-44e2-8c59-ebf4d9123344"
      },
      "source": [
        "# State having highest number of Active cases in India.\n",
        "\n",
        "highest_active = df[df['Active'] == max(df['Active'])]\n",
        "highest_active"
      ],
      "execution_count": 110,
      "outputs": [
        {
          "output_type": "execute_result",
          "data": {
            "text/html": [
              "<div>\n",
              "<style scoped>\n",
              "    .dataframe tbody tr th:only-of-type {\n",
              "        vertical-align: middle;\n",
              "    }\n",
              "\n",
              "    .dataframe tbody tr th {\n",
              "        vertical-align: top;\n",
              "    }\n",
              "\n",
              "    .dataframe thead th {\n",
              "        text-align: right;\n",
              "    }\n",
              "</style>\n",
              "<table border=\"1\" class=\"dataframe\">\n",
              "  <thead>\n",
              "    <tr style=\"text-align: right;\">\n",
              "      <th></th>\n",
              "      <th>State/UTs</th>\n",
              "      <th>Total Cases</th>\n",
              "      <th>Active</th>\n",
              "      <th>Discharged</th>\n",
              "      <th>Deaths</th>\n",
              "      <th>Active Ratio (%)</th>\n",
              "      <th>Discharge Ratio (%)</th>\n",
              "      <th>Death Ratio (%)</th>\n",
              "    </tr>\n",
              "  </thead>\n",
              "  <tbody>\n",
              "    <tr>\n",
              "      <th>16</th>\n",
              "      <td>Kerala</td>\n",
              "      <td>4390489</td>\n",
              "      <td>209335</td>\n",
              "      <td>4158504</td>\n",
              "      <td>22650</td>\n",
              "      <td>4.77</td>\n",
              "      <td>94.72</td>\n",
              "      <td>0.52</td>\n",
              "    </tr>\n",
              "  </tbody>\n",
              "</table>\n",
              "</div>"
            ],
            "text/plain": [
              "   State/UTs  Total Cases  ...  Discharge Ratio (%)  Death Ratio (%)\n",
              "16    Kerala      4390489  ...                94.72             0.52\n",
              "\n",
              "[1 rows x 8 columns]"
            ]
          },
          "metadata": {},
          "execution_count": 110
        }
      ]
    },
    {
      "cell_type": "code",
      "metadata": {
        "execution": {
          "iopub.status.busy": "2021-09-20T11:29:06.799992Z",
          "iopub.execute_input": "2021-09-20T11:29:06.800318Z",
          "iopub.status.idle": "2021-09-20T11:29:06.815232Z",
          "shell.execute_reply.started": "2021-09-20T11:29:06.800280Z",
          "shell.execute_reply": "2021-09-20T11:29:06.814207Z"
        },
        "trusted": true,
        "colab": {
          "base_uri": "https://localhost:8080/",
          "height": 110
        },
        "id": "jGnPox3egOZN",
        "outputId": "faac212f-061a-419c-a951-183719c77f77"
      },
      "source": [
        "# State having Lowest number of Active cases in India.\n",
        "\n",
        "lowest_active = df[df['Active'] == min(df['Active'])]\n",
        "lowest_active"
      ],
      "execution_count": 111,
      "outputs": [
        {
          "output_type": "execute_result",
          "data": {
            "text/html": [
              "<div>\n",
              "<style scoped>\n",
              "    .dataframe tbody tr th:only-of-type {\n",
              "        vertical-align: middle;\n",
              "    }\n",
              "\n",
              "    .dataframe tbody tr th {\n",
              "        vertical-align: top;\n",
              "    }\n",
              "\n",
              "    .dataframe thead th {\n",
              "        text-align: right;\n",
              "    }\n",
              "</style>\n",
              "<table border=\"1\" class=\"dataframe\">\n",
              "  <thead>\n",
              "    <tr style=\"text-align: right;\">\n",
              "      <th></th>\n",
              "      <th>State/UTs</th>\n",
              "      <th>Total Cases</th>\n",
              "      <th>Active</th>\n",
              "      <th>Discharged</th>\n",
              "      <th>Deaths</th>\n",
              "      <th>Active Ratio (%)</th>\n",
              "      <th>Discharge Ratio (%)</th>\n",
              "      <th>Death Ratio (%)</th>\n",
              "    </tr>\n",
              "  </thead>\n",
              "  <tbody>\n",
              "    <tr>\n",
              "      <th>7</th>\n",
              "      <td>Daman and Diu</td>\n",
              "      <td>10670</td>\n",
              "      <td>5</td>\n",
              "      <td>10661</td>\n",
              "      <td>4</td>\n",
              "      <td>0.05</td>\n",
              "      <td>99.92</td>\n",
              "      <td>0.04</td>\n",
              "    </tr>\n",
              "    <tr>\n",
              "      <th>18</th>\n",
              "      <td>Lakshadweep</td>\n",
              "      <td>10353</td>\n",
              "      <td>5</td>\n",
              "      <td>10297</td>\n",
              "      <td>51</td>\n",
              "      <td>0.05</td>\n",
              "      <td>99.46</td>\n",
              "      <td>0.49</td>\n",
              "    </tr>\n",
              "  </tbody>\n",
              "</table>\n",
              "</div>"
            ],
            "text/plain": [
              "        State/UTs  Total Cases  ...  Discharge Ratio (%)  Death Ratio (%)\n",
              "7   Daman and Diu        10670  ...                99.92             0.04\n",
              "18    Lakshadweep        10353  ...                99.46             0.49\n",
              "\n",
              "[2 rows x 8 columns]"
            ]
          },
          "metadata": {},
          "execution_count": 111
        }
      ]
    },
    {
      "cell_type": "code",
      "metadata": {
        "execution": {
          "iopub.status.busy": "2021-09-20T11:29:06.816266Z",
          "iopub.execute_input": "2021-09-20T11:29:06.816472Z",
          "iopub.status.idle": "2021-09-20T11:29:06.828493Z",
          "shell.execute_reply.started": "2021-09-20T11:29:06.816447Z",
          "shell.execute_reply": "2021-09-20T11:29:06.827501Z"
        },
        "trusted": true,
        "colab": {
          "base_uri": "https://localhost:8080/",
          "height": 80
        },
        "id": "vyqRd1UqgOZN",
        "outputId": "b80d13f5-4617-41ac-96b9-dd2fe9df77cd"
      },
      "source": [
        "# State having highest number of death ratio in India.\n",
        "\n",
        "highest_death_ratio = df[df['Death Ratio (%)'] == max(df['Death Ratio (%)'])]\n",
        "highest_death_ratio"
      ],
      "execution_count": 112,
      "outputs": [
        {
          "output_type": "execute_result",
          "data": {
            "text/html": [
              "<div>\n",
              "<style scoped>\n",
              "    .dataframe tbody tr th:only-of-type {\n",
              "        vertical-align: middle;\n",
              "    }\n",
              "\n",
              "    .dataframe tbody tr th {\n",
              "        vertical-align: top;\n",
              "    }\n",
              "\n",
              "    .dataframe thead th {\n",
              "        text-align: right;\n",
              "    }\n",
              "</style>\n",
              "<table border=\"1\" class=\"dataframe\">\n",
              "  <thead>\n",
              "    <tr style=\"text-align: right;\">\n",
              "      <th></th>\n",
              "      <th>State/UTs</th>\n",
              "      <th>Total Cases</th>\n",
              "      <th>Active</th>\n",
              "      <th>Discharged</th>\n",
              "      <th>Deaths</th>\n",
              "      <th>Active Ratio (%)</th>\n",
              "      <th>Discharge Ratio (%)</th>\n",
              "      <th>Death Ratio (%)</th>\n",
              "    </tr>\n",
              "  </thead>\n",
              "  <tbody>\n",
              "    <tr>\n",
              "      <th>27</th>\n",
              "      <td>Punjab</td>\n",
              "      <td>601072</td>\n",
              "      <td>309</td>\n",
              "      <td>584306</td>\n",
              "      <td>16457</td>\n",
              "      <td>0.05</td>\n",
              "      <td>97.21</td>\n",
              "      <td>2.74</td>\n",
              "    </tr>\n",
              "  </tbody>\n",
              "</table>\n",
              "</div>"
            ],
            "text/plain": [
              "   State/UTs  Total Cases  ...  Discharge Ratio (%)  Death Ratio (%)\n",
              "27    Punjab       601072  ...                97.21             2.74\n",
              "\n",
              "[1 rows x 8 columns]"
            ]
          },
          "metadata": {},
          "execution_count": 112
        }
      ]
    },
    {
      "cell_type": "code",
      "metadata": {
        "execution": {
          "iopub.status.busy": "2021-09-20T11:29:06.829786Z",
          "iopub.execute_input": "2021-09-20T11:29:06.830368Z",
          "iopub.status.idle": "2021-09-20T11:29:06.848572Z",
          "shell.execute_reply.started": "2021-09-20T11:29:06.830325Z",
          "shell.execute_reply": "2021-09-20T11:29:06.847579Z"
        },
        "trusted": true,
        "colab": {
          "base_uri": "https://localhost:8080/",
          "height": 80
        },
        "id": "8QIEVD55gOZN",
        "outputId": "8d29ccf2-b756-44eb-d838-7a7cc4ca74de"
      },
      "source": [
        "# State having lowest number of death ratio in India.\n",
        "\n",
        "lowest_death_ratio = df[df['Death Ratio (%)'] == min(df['Death Ratio (%)'])]\n",
        "lowest_death_ratio"
      ],
      "execution_count": 113,
      "outputs": [
        {
          "output_type": "execute_result",
          "data": {
            "text/html": [
              "<div>\n",
              "<style scoped>\n",
              "    .dataframe tbody tr th:only-of-type {\n",
              "        vertical-align: middle;\n",
              "    }\n",
              "\n",
              "    .dataframe tbody tr th {\n",
              "        vertical-align: top;\n",
              "    }\n",
              "\n",
              "    .dataframe thead th {\n",
              "        text-align: right;\n",
              "    }\n",
              "</style>\n",
              "<table border=\"1\" class=\"dataframe\">\n",
              "  <thead>\n",
              "    <tr style=\"text-align: right;\">\n",
              "      <th></th>\n",
              "      <th>State/UTs</th>\n",
              "      <th>Total Cases</th>\n",
              "      <th>Active</th>\n",
              "      <th>Discharged</th>\n",
              "      <th>Deaths</th>\n",
              "      <th>Active Ratio (%)</th>\n",
              "      <th>Discharge Ratio (%)</th>\n",
              "      <th>Death Ratio (%)</th>\n",
              "    </tr>\n",
              "  </thead>\n",
              "  <tbody>\n",
              "    <tr>\n",
              "      <th>7</th>\n",
              "      <td>Daman and Diu</td>\n",
              "      <td>10670</td>\n",
              "      <td>5</td>\n",
              "      <td>10661</td>\n",
              "      <td>4</td>\n",
              "      <td>0.05</td>\n",
              "      <td>99.92</td>\n",
              "      <td>0.04</td>\n",
              "    </tr>\n",
              "  </tbody>\n",
              "</table>\n",
              "</div>"
            ],
            "text/plain": [
              "       State/UTs  Total Cases  ...  Discharge Ratio (%)  Death Ratio (%)\n",
              "7  Daman and Diu        10670  ...                99.92             0.04\n",
              "\n",
              "[1 rows x 8 columns]"
            ]
          },
          "metadata": {},
          "execution_count": 113
        }
      ]
    },
    {
      "cell_type": "code",
      "metadata": {
        "execution": {
          "iopub.status.busy": "2021-09-20T11:29:06.850173Z",
          "iopub.execute_input": "2021-09-20T11:29:06.850531Z",
          "iopub.status.idle": "2021-09-20T11:29:06.865484Z",
          "shell.execute_reply.started": "2021-09-20T11:29:06.850492Z",
          "shell.execute_reply": "2021-09-20T11:29:06.864570Z"
        },
        "trusted": true,
        "colab": {
          "base_uri": "https://localhost:8080/",
          "height": 80
        },
        "id": "R-ud5wcIgOZN",
        "outputId": "d2320083-8856-409b-dbd6-52d0c1ca6cc7"
      },
      "source": [
        "# State having highest discharge ratio in India.\n",
        "\n",
        "highest_discharge_ratio = df[df['Discharge Ratio (%)'] == max(df['Discharge Ratio (%)'])]\n",
        "highest_discharge_ratio"
      ],
      "execution_count": 114,
      "outputs": [
        {
          "output_type": "execute_result",
          "data": {
            "text/html": [
              "<div>\n",
              "<style scoped>\n",
              "    .dataframe tbody tr th:only-of-type {\n",
              "        vertical-align: middle;\n",
              "    }\n",
              "\n",
              "    .dataframe tbody tr th {\n",
              "        vertical-align: top;\n",
              "    }\n",
              "\n",
              "    .dataframe thead th {\n",
              "        text-align: right;\n",
              "    }\n",
              "</style>\n",
              "<table border=\"1\" class=\"dataframe\">\n",
              "  <thead>\n",
              "    <tr style=\"text-align: right;\">\n",
              "      <th></th>\n",
              "      <th>State/UTs</th>\n",
              "      <th>Total Cases</th>\n",
              "      <th>Active</th>\n",
              "      <th>Discharged</th>\n",
              "      <th>Deaths</th>\n",
              "      <th>Active Ratio (%)</th>\n",
              "      <th>Discharge Ratio (%)</th>\n",
              "      <th>Death Ratio (%)</th>\n",
              "    </tr>\n",
              "  </thead>\n",
              "  <tbody>\n",
              "    <tr>\n",
              "      <th>7</th>\n",
              "      <td>Daman and Diu</td>\n",
              "      <td>10670</td>\n",
              "      <td>5</td>\n",
              "      <td>10661</td>\n",
              "      <td>4</td>\n",
              "      <td>0.05</td>\n",
              "      <td>99.92</td>\n",
              "      <td>0.04</td>\n",
              "    </tr>\n",
              "  </tbody>\n",
              "</table>\n",
              "</div>"
            ],
            "text/plain": [
              "       State/UTs  Total Cases  ...  Discharge Ratio (%)  Death Ratio (%)\n",
              "7  Daman and Diu        10670  ...                99.92             0.04\n",
              "\n",
              "[1 rows x 8 columns]"
            ]
          },
          "metadata": {},
          "execution_count": 114
        }
      ]
    },
    {
      "cell_type": "code",
      "metadata": {
        "execution": {
          "iopub.status.busy": "2021-09-20T11:29:06.866688Z",
          "iopub.execute_input": "2021-09-20T11:29:06.867245Z",
          "iopub.status.idle": "2021-09-20T11:29:06.879540Z",
          "shell.execute_reply.started": "2021-09-20T11:29:06.867212Z",
          "shell.execute_reply": "2021-09-20T11:29:06.878737Z"
        },
        "trusted": true,
        "colab": {
          "base_uri": "https://localhost:8080/",
          "height": 80
        },
        "id": "6XtNS9f7gOZN",
        "outputId": "6172431e-dfb1-46bb-aa20-bee219065072"
      },
      "source": [
        "# State having lowest discharge ratio in India.\n",
        "\n",
        "lowest_discharge_ratio = df[df['Discharge Ratio (%)'] == min(df['Discharge Ratio (%)'])]\n",
        "lowest_discharge_ratio"
      ],
      "execution_count": 115,
      "outputs": [
        {
          "output_type": "execute_result",
          "data": {
            "text/html": [
              "<div>\n",
              "<style scoped>\n",
              "    .dataframe tbody tr th:only-of-type {\n",
              "        vertical-align: middle;\n",
              "    }\n",
              "\n",
              "    .dataframe tbody tr th {\n",
              "        vertical-align: top;\n",
              "    }\n",
              "\n",
              "    .dataframe thead th {\n",
              "        text-align: right;\n",
              "    }\n",
              "</style>\n",
              "<table border=\"1\" class=\"dataframe\">\n",
              "  <thead>\n",
              "    <tr style=\"text-align: right;\">\n",
              "      <th></th>\n",
              "      <th>State/UTs</th>\n",
              "      <th>Total Cases</th>\n",
              "      <th>Active</th>\n",
              "      <th>Discharged</th>\n",
              "      <th>Deaths</th>\n",
              "      <th>Active Ratio (%)</th>\n",
              "      <th>Discharge Ratio (%)</th>\n",
              "      <th>Death Ratio (%)</th>\n",
              "    </tr>\n",
              "  </thead>\n",
              "  <tbody>\n",
              "    <tr>\n",
              "      <th>23</th>\n",
              "      <td>Mizoram</td>\n",
              "      <td>72883</td>\n",
              "      <td>13369</td>\n",
              "      <td>59273</td>\n",
              "      <td>241</td>\n",
              "      <td>18.34</td>\n",
              "      <td>81.33</td>\n",
              "      <td>0.33</td>\n",
              "    </tr>\n",
              "  </tbody>\n",
              "</table>\n",
              "</div>"
            ],
            "text/plain": [
              "   State/UTs  Total Cases  ...  Discharge Ratio (%)  Death Ratio (%)\n",
              "23   Mizoram        72883  ...                81.33             0.33\n",
              "\n",
              "[1 rows x 8 columns]"
            ]
          },
          "metadata": {},
          "execution_count": 115
        }
      ]
    },
    {
      "cell_type": "code",
      "metadata": {
        "execution": {
          "iopub.status.busy": "2021-09-20T11:29:06.880625Z",
          "iopub.execute_input": "2021-09-20T11:29:06.880833Z",
          "iopub.status.idle": "2021-09-20T11:29:07.063329Z",
          "shell.execute_reply.started": "2021-09-20T11:29:06.880809Z",
          "shell.execute_reply": "2021-09-20T11:29:07.062448Z"
        },
        "trusted": true,
        "colab": {
          "base_uri": "https://localhost:8080/",
          "height": 295
        },
        "id": "fsqLNs80gOZN",
        "outputId": "b76b7963-ae4c-41c0-b69a-c0f2d3436969"
      },
      "source": [
        "# Visualization of top 5 state having highest Death ratio in India.\n",
        "df1 = df.sort_values(by='Death Ratio (%)', ascending=False).head()\n",
        "states = df1['State/UTs']\n",
        "ratio = df1['Death Ratio (%)']\n",
        "plt.barh(states, ratio)\n",
        "plt.xlabel('Death Ratio (%)')\n",
        "plt.ylabel('State')\n",
        "plt.title('State with  more death ratio in India')\n",
        "plt.show()"
      ],
      "execution_count": 116,
      "outputs": [
        {
          "output_type": "display_data",
          "data": {
            "image/png": "[encoded data removed]",
            "text/plain": [
              "<Figure size 432x288 with 1 Axes>"
            ]
          },
          "metadata": {
            "needs_background": "light"
          }
        }
      ]
    },
    {
      "cell_type": "code",
      "metadata": {
        "execution": {
          "iopub.status.busy": "2021-09-20T11:29:07.064538Z",
          "iopub.execute_input": "2021-09-20T11:29:07.064767Z",
          "iopub.status.idle": "2021-09-20T11:29:07.077402Z",
          "shell.execute_reply.started": "2021-09-20T11:29:07.064741Z",
          "shell.execute_reply": "2021-09-20T11:29:07.076649Z"
        },
        "trusted": true,
        "colab": {
          "base_uri": "https://localhost:8080/",
          "height": 203
        },
        "id": "RD8voAqdgOZO",
        "outputId": "c971388b-ea96-43fb-a9f7-99490ce2f8d3"
      },
      "source": [
        "# DataFrame of top 5 state having highest Death ratio in India.\n",
        "df1"
      ],
      "execution_count": 117,
      "outputs": [
        {
          "output_type": "execute_result",
          "data": {
            "text/html": [
              "<div>\n",
              "<style scoped>\n",
              "    .dataframe tbody tr th:only-of-type {\n",
              "        vertical-align: middle;\n",
              "    }\n",
              "\n",
              "    .dataframe tbody tr th {\n",
              "        vertical-align: top;\n",
              "    }\n",
              "\n",
              "    .dataframe thead th {\n",
              "        text-align: right;\n",
              "    }\n",
              "</style>\n",
              "<table border=\"1\" class=\"dataframe\">\n",
              "  <thead>\n",
              "    <tr style=\"text-align: right;\">\n",
              "      <th></th>\n",
              "      <th>State/UTs</th>\n",
              "      <th>Total Cases</th>\n",
              "      <th>Active</th>\n",
              "      <th>Discharged</th>\n",
              "      <th>Deaths</th>\n",
              "      <th>Active Ratio (%)</th>\n",
              "      <th>Discharge Ratio (%)</th>\n",
              "      <th>Death Ratio (%)</th>\n",
              "    </tr>\n",
              "  </thead>\n",
              "  <tbody>\n",
              "    <tr>\n",
              "      <th>27</th>\n",
              "      <td>Punjab</td>\n",
              "      <td>601072</td>\n",
              "      <td>309</td>\n",
              "      <td>584306</td>\n",
              "      <td>16457</td>\n",
              "      <td>0.05</td>\n",
              "      <td>97.21</td>\n",
              "      <td>2.74</td>\n",
              "    </tr>\n",
              "    <tr>\n",
              "      <th>34</th>\n",
              "      <td>Uttarakhand</td>\n",
              "      <td>343242</td>\n",
              "      <td>293</td>\n",
              "      <td>335560</td>\n",
              "      <td>7389</td>\n",
              "      <td>0.09</td>\n",
              "      <td>97.76</td>\n",
              "      <td>2.15</td>\n",
              "    </tr>\n",
              "    <tr>\n",
              "      <th>20</th>\n",
              "      <td>Maharashtra</td>\n",
              "      <td>6500617</td>\n",
              "      <td>53427</td>\n",
              "      <td>6309021</td>\n",
              "      <td>138169</td>\n",
              "      <td>0.82</td>\n",
              "      <td>97.05</td>\n",
              "      <td>2.13</td>\n",
              "    </tr>\n",
              "    <tr>\n",
              "      <th>24</th>\n",
              "      <td>Nagaland</td>\n",
              "      <td>30657</td>\n",
              "      <td>580</td>\n",
              "      <td>29432</td>\n",
              "      <td>645</td>\n",
              "      <td>1.89</td>\n",
              "      <td>96.00</td>\n",
              "      <td>2.10</td>\n",
              "    </tr>\n",
              "    <tr>\n",
              "      <th>9</th>\n",
              "      <td>Goa</td>\n",
              "      <td>174891</td>\n",
              "      <td>702</td>\n",
              "      <td>170972</td>\n",
              "      <td>3217</td>\n",
              "      <td>0.40</td>\n",
              "      <td>97.76</td>\n",
              "      <td>1.84</td>\n",
              "    </tr>\n",
              "  </tbody>\n",
              "</table>\n",
              "</div>"
            ],
            "text/plain": [
              "      State/UTs  Total Cases  ...  Discharge Ratio (%)  Death Ratio (%)\n",
              "27       Punjab       601072  ...                97.21             2.74\n",
              "34  Uttarakhand       343242  ...                97.76             2.15\n",
              "20  Maharashtra      6500617  ...                97.05             2.13\n",
              "24     Nagaland        30657  ...                96.00             2.10\n",
              "9           Goa       174891  ...                97.76             1.84\n",
              "\n",
              "[5 rows x 8 columns]"
            ]
          },
          "metadata": {},
          "execution_count": 117
        }
      ]
    },
    {
      "cell_type": "code",
      "metadata": {
        "id": "OHEpTUdPgOZO"
      },
      "source": [
        ""
      ],
      "execution_count": 117,
      "outputs": []
    },
    {
      "cell_type": "code",
      "metadata": {
        "id": "26MHHt7xgOZO"
      },
      "source": [
        ""
      ],
      "execution_count": 117,
      "outputs": []
    }
  ]
}